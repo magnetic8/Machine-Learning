{
 "cells": [
  {
   "cell_type": "markdown",
   "id": "dbcbfbf1",
   "metadata": {},
   "source": [
    "### 목표\n",
    "- 선형회귀 클래스를 다뤄보자.\n",
    "- 선형모델의 가중치와 절편을 확인해보자.\n",
    "- 선형모델의 학습에서 중요한 경사하강법을 실습해보자.\n",
    "- 다항회귀 실습진행"
   ]
  },
  {
   "cell_type": "code",
   "execution_count": 1,
   "id": "e56f5f5f",
   "metadata": {},
   "outputs": [],
   "source": [
    "from sklearn.datasets import load_boston\n",
    "import numpy as np\n",
    "import pandas as pd\n",
    "import matplotlib.pyplot as plt"
   ]
  },
  {
   "cell_type": "code",
   "execution_count": 2,
   "id": "8eaa3ae5",
   "metadata": {},
   "outputs": [
    {
     "name": "stderr",
     "output_type": "stream",
     "text": [
      "C:\\Users\\aischool\\anaconda3\\lib\\site-packages\\sklearn\\utils\\deprecation.py:87: FutureWarning: Function load_boston is deprecated; `load_boston` is deprecated in 1.0 and will be removed in 1.2.\n",
      "\n",
      "    The Boston housing prices dataset has an ethical problem. You can refer to\n",
      "    the documentation of this function for further details.\n",
      "\n",
      "    The scikit-learn maintainers therefore strongly discourage the use of this\n",
      "    dataset unless the purpose of the code is to study and educate about\n",
      "    ethical issues in data science and machine learning.\n",
      "\n",
      "    In this special case, you can fetch the dataset from the original\n",
      "    source::\n",
      "\n",
      "        import pandas as pd\n",
      "        import numpy as np\n",
      "\n",
      "\n",
      "        data_url = \"http://lib.stat.cmu.edu/datasets/boston\"\n",
      "        raw_df = pd.read_csv(data_url, sep=\"\\s+\", skiprows=22, header=None)\n",
      "        data = np.hstack([raw_df.values[::2, :], raw_df.values[1::2, :2]])\n",
      "        target = raw_df.values[1::2, 2]\n",
      "\n",
      "    Alternative datasets include the California housing dataset (i.e.\n",
      "    :func:`~sklearn.datasets.fetch_california_housing`) and the Ames housing\n",
      "    dataset. You can load the datasets as follows::\n",
      "\n",
      "        from sklearn.datasets import fetch_california_housing\n",
      "        housing = fetch_california_housing()\n",
      "\n",
      "    for the California housing dataset and::\n",
      "\n",
      "        from sklearn.datasets import fetch_openml\n",
      "        housing = fetch_openml(name=\"house_prices\", as_frame=True)\n",
      "\n",
      "    for the Ames housing dataset.\n",
      "    \n",
      "  warnings.warn(msg, category=FutureWarning)\n"
     ]
    },
    {
     "data": {
      "text/plain": [
       "{'data': array([[6.3200e-03, 1.8000e+01, 2.3100e+00, ..., 1.5300e+01, 3.9690e+02,\n",
       "         4.9800e+00],\n",
       "        [2.7310e-02, 0.0000e+00, 7.0700e+00, ..., 1.7800e+01, 3.9690e+02,\n",
       "         9.1400e+00],\n",
       "        [2.7290e-02, 0.0000e+00, 7.0700e+00, ..., 1.7800e+01, 3.9283e+02,\n",
       "         4.0300e+00],\n",
       "        ...,\n",
       "        [6.0760e-02, 0.0000e+00, 1.1930e+01, ..., 2.1000e+01, 3.9690e+02,\n",
       "         5.6400e+00],\n",
       "        [1.0959e-01, 0.0000e+00, 1.1930e+01, ..., 2.1000e+01, 3.9345e+02,\n",
       "         6.4800e+00],\n",
       "        [4.7410e-02, 0.0000e+00, 1.1930e+01, ..., 2.1000e+01, 3.9690e+02,\n",
       "         7.8800e+00]]),\n",
       " 'target': array([24. , 21.6, 34.7, 33.4, 36.2, 28.7, 22.9, 27.1, 16.5, 18.9, 15. ,\n",
       "        18.9, 21.7, 20.4, 18.2, 19.9, 23.1, 17.5, 20.2, 18.2, 13.6, 19.6,\n",
       "        15.2, 14.5, 15.6, 13.9, 16.6, 14.8, 18.4, 21. , 12.7, 14.5, 13.2,\n",
       "        13.1, 13.5, 18.9, 20. , 21. , 24.7, 30.8, 34.9, 26.6, 25.3, 24.7,\n",
       "        21.2, 19.3, 20. , 16.6, 14.4, 19.4, 19.7, 20.5, 25. , 23.4, 18.9,\n",
       "        35.4, 24.7, 31.6, 23.3, 19.6, 18.7, 16. , 22.2, 25. , 33. , 23.5,\n",
       "        19.4, 22. , 17.4, 20.9, 24.2, 21.7, 22.8, 23.4, 24.1, 21.4, 20. ,\n",
       "        20.8, 21.2, 20.3, 28. , 23.9, 24.8, 22.9, 23.9, 26.6, 22.5, 22.2,\n",
       "        23.6, 28.7, 22.6, 22. , 22.9, 25. , 20.6, 28.4, 21.4, 38.7, 43.8,\n",
       "        33.2, 27.5, 26.5, 18.6, 19.3, 20.1, 19.5, 19.5, 20.4, 19.8, 19.4,\n",
       "        21.7, 22.8, 18.8, 18.7, 18.5, 18.3, 21.2, 19.2, 20.4, 19.3, 22. ,\n",
       "        20.3, 20.5, 17.3, 18.8, 21.4, 15.7, 16.2, 18. , 14.3, 19.2, 19.6,\n",
       "        23. , 18.4, 15.6, 18.1, 17.4, 17.1, 13.3, 17.8, 14. , 14.4, 13.4,\n",
       "        15.6, 11.8, 13.8, 15.6, 14.6, 17.8, 15.4, 21.5, 19.6, 15.3, 19.4,\n",
       "        17. , 15.6, 13.1, 41.3, 24.3, 23.3, 27. , 50. , 50. , 50. , 22.7,\n",
       "        25. , 50. , 23.8, 23.8, 22.3, 17.4, 19.1, 23.1, 23.6, 22.6, 29.4,\n",
       "        23.2, 24.6, 29.9, 37.2, 39.8, 36.2, 37.9, 32.5, 26.4, 29.6, 50. ,\n",
       "        32. , 29.8, 34.9, 37. , 30.5, 36.4, 31.1, 29.1, 50. , 33.3, 30.3,\n",
       "        34.6, 34.9, 32.9, 24.1, 42.3, 48.5, 50. , 22.6, 24.4, 22.5, 24.4,\n",
       "        20. , 21.7, 19.3, 22.4, 28.1, 23.7, 25. , 23.3, 28.7, 21.5, 23. ,\n",
       "        26.7, 21.7, 27.5, 30.1, 44.8, 50. , 37.6, 31.6, 46.7, 31.5, 24.3,\n",
       "        31.7, 41.7, 48.3, 29. , 24. , 25.1, 31.5, 23.7, 23.3, 22. , 20.1,\n",
       "        22.2, 23.7, 17.6, 18.5, 24.3, 20.5, 24.5, 26.2, 24.4, 24.8, 29.6,\n",
       "        42.8, 21.9, 20.9, 44. , 50. , 36. , 30.1, 33.8, 43.1, 48.8, 31. ,\n",
       "        36.5, 22.8, 30.7, 50. , 43.5, 20.7, 21.1, 25.2, 24.4, 35.2, 32.4,\n",
       "        32. , 33.2, 33.1, 29.1, 35.1, 45.4, 35.4, 46. , 50. , 32.2, 22. ,\n",
       "        20.1, 23.2, 22.3, 24.8, 28.5, 37.3, 27.9, 23.9, 21.7, 28.6, 27.1,\n",
       "        20.3, 22.5, 29. , 24.8, 22. , 26.4, 33.1, 36.1, 28.4, 33.4, 28.2,\n",
       "        22.8, 20.3, 16.1, 22.1, 19.4, 21.6, 23.8, 16.2, 17.8, 19.8, 23.1,\n",
       "        21. , 23.8, 23.1, 20.4, 18.5, 25. , 24.6, 23. , 22.2, 19.3, 22.6,\n",
       "        19.8, 17.1, 19.4, 22.2, 20.7, 21.1, 19.5, 18.5, 20.6, 19. , 18.7,\n",
       "        32.7, 16.5, 23.9, 31.2, 17.5, 17.2, 23.1, 24.5, 26.6, 22.9, 24.1,\n",
       "        18.6, 30.1, 18.2, 20.6, 17.8, 21.7, 22.7, 22.6, 25. , 19.9, 20.8,\n",
       "        16.8, 21.9, 27.5, 21.9, 23.1, 50. , 50. , 50. , 50. , 50. , 13.8,\n",
       "        13.8, 15. , 13.9, 13.3, 13.1, 10.2, 10.4, 10.9, 11.3, 12.3,  8.8,\n",
       "         7.2, 10.5,  7.4, 10.2, 11.5, 15.1, 23.2,  9.7, 13.8, 12.7, 13.1,\n",
       "        12.5,  8.5,  5. ,  6.3,  5.6,  7.2, 12.1,  8.3,  8.5,  5. , 11.9,\n",
       "        27.9, 17.2, 27.5, 15. , 17.2, 17.9, 16.3,  7. ,  7.2,  7.5, 10.4,\n",
       "         8.8,  8.4, 16.7, 14.2, 20.8, 13.4, 11.7,  8.3, 10.2, 10.9, 11. ,\n",
       "         9.5, 14.5, 14.1, 16.1, 14.3, 11.7, 13.4,  9.6,  8.7,  8.4, 12.8,\n",
       "        10.5, 17.1, 18.4, 15.4, 10.8, 11.8, 14.9, 12.6, 14.1, 13. , 13.4,\n",
       "        15.2, 16.1, 17.8, 14.9, 14.1, 12.7, 13.5, 14.9, 20. , 16.4, 17.7,\n",
       "        19.5, 20.2, 21.4, 19.9, 19. , 19.1, 19.1, 20.1, 19.9, 19.6, 23.2,\n",
       "        29.8, 13.8, 13.3, 16.7, 12. , 14.6, 21.4, 23. , 23.7, 25. , 21.8,\n",
       "        20.6, 21.2, 19.1, 20.6, 15.2,  7. ,  8.1, 13.6, 20.1, 21.8, 24.5,\n",
       "        23.1, 19.7, 18.3, 21.2, 17.5, 16.8, 22.4, 20.6, 23.9, 22. , 11.9]),\n",
       " 'feature_names': array(['CRIM', 'ZN', 'INDUS', 'CHAS', 'NOX', 'RM', 'AGE', 'DIS', 'RAD',\n",
       "        'TAX', 'PTRATIO', 'B', 'LSTAT'], dtype='<U7'),\n",
       " 'DESCR': \".. _boston_dataset:\\n\\nBoston house prices dataset\\n---------------------------\\n\\n**Data Set Characteristics:**  \\n\\n    :Number of Instances: 506 \\n\\n    :Number of Attributes: 13 numeric/categorical predictive. Median Value (attribute 14) is usually the target.\\n\\n    :Attribute Information (in order):\\n        - CRIM     per capita crime rate by town\\n        - ZN       proportion of residential land zoned for lots over 25,000 sq.ft.\\n        - INDUS    proportion of non-retail business acres per town\\n        - CHAS     Charles River dummy variable (= 1 if tract bounds river; 0 otherwise)\\n        - NOX      nitric oxides concentration (parts per 10 million)\\n        - RM       average number of rooms per dwelling\\n        - AGE      proportion of owner-occupied units built prior to 1940\\n        - DIS      weighted distances to five Boston employment centres\\n        - RAD      index of accessibility to radial highways\\n        - TAX      full-value property-tax rate per $10,000\\n        - PTRATIO  pupil-teacher ratio by town\\n        - B        1000(Bk - 0.63)^2 where Bk is the proportion of black people by town\\n        - LSTAT    % lower status of the population\\n        - MEDV     Median value of owner-occupied homes in $1000's\\n\\n    :Missing Attribute Values: None\\n\\n    :Creator: Harrison, D. and Rubinfeld, D.L.\\n\\nThis is a copy of UCI ML housing dataset.\\nhttps://archive.ics.uci.edu/ml/machine-learning-databases/housing/\\n\\n\\nThis dataset was taken from the StatLib library which is maintained at Carnegie Mellon University.\\n\\nThe Boston house-price data of Harrison, D. and Rubinfeld, D.L. 'Hedonic\\nprices and the demand for clean air', J. Environ. Economics & Management,\\nvol.5, 81-102, 1978.   Used in Belsley, Kuh & Welsch, 'Regression diagnostics\\n...', Wiley, 1980.   N.B. Various transformations are used in the table on\\npages 244-261 of the latter.\\n\\nThe Boston house-price data has been used in many machine learning papers that address regression\\nproblems.   \\n     \\n.. topic:: References\\n\\n   - Belsley, Kuh & Welsch, 'Regression diagnostics: Identifying Influential Data and Sources of Collinearity', Wiley, 1980. 244-261.\\n   - Quinlan,R. (1993). Combining Instance-Based and Model-Based Learning. In Proceedings on the Tenth International Conference of Machine Learning, 236-243, University of Massachusetts, Amherst. Morgan Kaufmann.\\n\",\n",
       " 'filename': 'boston_house_prices.csv',\n",
       " 'data_module': 'sklearn.datasets.data'}"
      ]
     },
     "execution_count": 2,
     "metadata": {},
     "output_type": "execute_result"
    }
   ],
   "source": [
    "# 데이터 로딩\n",
    "data = load_boston()\n",
    "data"
   ]
  },
  {
   "cell_type": "code",
   "execution_count": 3,
   "id": "8ee74a92",
   "metadata": {},
   "outputs": [
    {
     "data": {
      "text/plain": [
       "dict_keys(['data', 'target', 'feature_names', 'DESCR', 'filename', 'data_module'])"
      ]
     },
     "execution_count": 3,
     "metadata": {},
     "output_type": "execute_result"
    }
   ],
   "source": [
    "# key값 확인\n",
    "data.keys()"
   ]
  },
  {
   "cell_type": "code",
   "execution_count": 4,
   "id": "17458c5d",
   "metadata": {},
   "outputs": [
    {
     "name": "stdout",
     "output_type": "stream",
     "text": [
      ".. _boston_dataset:\n",
      "\n",
      "Boston house prices dataset\n",
      "---------------------------\n",
      "\n",
      "**Data Set Characteristics:**  \n",
      "\n",
      "    :Number of Instances: 506 \n",
      "\n",
      "    :Number of Attributes: 13 numeric/categorical predictive. Median Value (attribute 14) is usually the target.\n",
      "\n",
      "    :Attribute Information (in order):\n",
      "        - CRIM     per capita crime rate by town\n",
      "        - ZN       proportion of residential land zoned for lots over 25,000 sq.ft.\n",
      "        - INDUS    proportion of non-retail business acres per town\n",
      "        - CHAS     Charles River dummy variable (= 1 if tract bounds river; 0 otherwise)\n",
      "        - NOX      nitric oxides concentration (parts per 10 million)\n",
      "        - RM       average number of rooms per dwelling\n",
      "        - AGE      proportion of owner-occupied units built prior to 1940\n",
      "        - DIS      weighted distances to five Boston employment centres\n",
      "        - RAD      index of accessibility to radial highways\n",
      "        - TAX      full-value property-tax rate per $10,000\n",
      "        - PTRATIO  pupil-teacher ratio by town\n",
      "        - B        1000(Bk - 0.63)^2 where Bk is the proportion of black people by town\n",
      "        - LSTAT    % lower status of the population\n",
      "        - MEDV     Median value of owner-occupied homes in $1000's\n",
      "\n",
      "    :Missing Attribute Values: None\n",
      "\n",
      "    :Creator: Harrison, D. and Rubinfeld, D.L.\n",
      "\n",
      "This is a copy of UCI ML housing dataset.\n",
      "https://archive.ics.uci.edu/ml/machine-learning-databases/housing/\n",
      "\n",
      "\n",
      "This dataset was taken from the StatLib library which is maintained at Carnegie Mellon University.\n",
      "\n",
      "The Boston house-price data of Harrison, D. and Rubinfeld, D.L. 'Hedonic\n",
      "prices and the demand for clean air', J. Environ. Economics & Management,\n",
      "vol.5, 81-102, 1978.   Used in Belsley, Kuh & Welsch, 'Regression diagnostics\n",
      "...', Wiley, 1980.   N.B. Various transformations are used in the table on\n",
      "pages 244-261 of the latter.\n",
      "\n",
      "The Boston house-price data has been used in many machine learning papers that address regression\n",
      "problems.   \n",
      "     \n",
      ".. topic:: References\n",
      "\n",
      "   - Belsley, Kuh & Welsch, 'Regression diagnostics: Identifying Influential Data and Sources of Collinearity', Wiley, 1980. 244-261.\n",
      "   - Quinlan,R. (1993). Combining Instance-Based and Model-Based Learning. In Proceedings on the Tenth International Conference of Machine Learning, 236-243, University of Massachusetts, Amherst. Morgan Kaufmann.\n",
      "\n"
     ]
    }
   ],
   "source": [
    "print(data['DESCR'])"
   ]
  },
  {
   "attachments": {
    "image.png": {
     "image/png": "[encoded data removed]"
    }
   },
   "cell_type": "markdown",
   "id": "9d5c5c04",
   "metadata": {},
   "source": [
    "![image.png](attachment:image.png)"
   ]
  },
  {
   "cell_type": "markdown",
   "id": "70374cce",
   "metadata": {},
   "source": [
    "#### 문제와 답 분리"
   ]
  },
  {
   "cell_type": "code",
   "execution_count": 5,
   "id": "42b578ba",
   "metadata": {},
   "outputs": [
    {
     "data": {
      "text/html": [
       "<div>\n",
       "<style scoped>\n",
       "    .dataframe tbody tr th:only-of-type {\n",
       "        vertical-align: middle;\n",
       "    }\n",
       "\n",
       "    .dataframe tbody tr th {\n",
       "        vertical-align: top;\n",
       "    }\n",
       "\n",
       "    .dataframe thead th {\n",
       "        text-align: right;\n",
       "    }\n",
       "</style>\n",
       "<table border=\"1\" class=\"dataframe\">\n",
       "  <thead>\n",
       "    <tr style=\"text-align: right;\">\n",
       "      <th></th>\n",
       "      <th>CRIM</th>\n",
       "      <th>ZN</th>\n",
       "      <th>INDUS</th>\n",
       "      <th>CHAS</th>\n",
       "      <th>NOX</th>\n",
       "      <th>RM</th>\n",
       "      <th>AGE</th>\n",
       "      <th>DIS</th>\n",
       "      <th>RAD</th>\n",
       "      <th>TAX</th>\n",
       "      <th>PTRATIO</th>\n",
       "      <th>B</th>\n",
       "      <th>LSTAT</th>\n",
       "    </tr>\n",
       "  </thead>\n",
       "  <tbody>\n",
       "    <tr>\n",
       "      <th>0</th>\n",
       "      <td>0.00632</td>\n",
       "      <td>18.0</td>\n",
       "      <td>2.31</td>\n",
       "      <td>0.0</td>\n",
       "      <td>0.538</td>\n",
       "      <td>6.575</td>\n",
       "      <td>65.2</td>\n",
       "      <td>4.0900</td>\n",
       "      <td>1.0</td>\n",
       "      <td>296.0</td>\n",
       "      <td>15.3</td>\n",
       "      <td>396.90</td>\n",
       "      <td>4.98</td>\n",
       "    </tr>\n",
       "    <tr>\n",
       "      <th>1</th>\n",
       "      <td>0.02731</td>\n",
       "      <td>0.0</td>\n",
       "      <td>7.07</td>\n",
       "      <td>0.0</td>\n",
       "      <td>0.469</td>\n",
       "      <td>6.421</td>\n",
       "      <td>78.9</td>\n",
       "      <td>4.9671</td>\n",
       "      <td>2.0</td>\n",
       "      <td>242.0</td>\n",
       "      <td>17.8</td>\n",
       "      <td>396.90</td>\n",
       "      <td>9.14</td>\n",
       "    </tr>\n",
       "    <tr>\n",
       "      <th>2</th>\n",
       "      <td>0.02729</td>\n",
       "      <td>0.0</td>\n",
       "      <td>7.07</td>\n",
       "      <td>0.0</td>\n",
       "      <td>0.469</td>\n",
       "      <td>7.185</td>\n",
       "      <td>61.1</td>\n",
       "      <td>4.9671</td>\n",
       "      <td>2.0</td>\n",
       "      <td>242.0</td>\n",
       "      <td>17.8</td>\n",
       "      <td>392.83</td>\n",
       "      <td>4.03</td>\n",
       "    </tr>\n",
       "    <tr>\n",
       "      <th>3</th>\n",
       "      <td>0.03237</td>\n",
       "      <td>0.0</td>\n",
       "      <td>2.18</td>\n",
       "      <td>0.0</td>\n",
       "      <td>0.458</td>\n",
       "      <td>6.998</td>\n",
       "      <td>45.8</td>\n",
       "      <td>6.0622</td>\n",
       "      <td>3.0</td>\n",
       "      <td>222.0</td>\n",
       "      <td>18.7</td>\n",
       "      <td>394.63</td>\n",
       "      <td>2.94</td>\n",
       "    </tr>\n",
       "    <tr>\n",
       "      <th>4</th>\n",
       "      <td>0.06905</td>\n",
       "      <td>0.0</td>\n",
       "      <td>2.18</td>\n",
       "      <td>0.0</td>\n",
       "      <td>0.458</td>\n",
       "      <td>7.147</td>\n",
       "      <td>54.2</td>\n",
       "      <td>6.0622</td>\n",
       "      <td>3.0</td>\n",
       "      <td>222.0</td>\n",
       "      <td>18.7</td>\n",
       "      <td>396.90</td>\n",
       "      <td>5.33</td>\n",
       "    </tr>\n",
       "  </tbody>\n",
       "</table>\n",
       "</div>"
      ],
      "text/plain": [
       "      CRIM    ZN  INDUS  CHAS    NOX     RM   AGE     DIS  RAD    TAX  \\\n",
       "0  0.00632  18.0   2.31   0.0  0.538  6.575  65.2  4.0900  1.0  296.0   \n",
       "1  0.02731   0.0   7.07   0.0  0.469  6.421  78.9  4.9671  2.0  242.0   \n",
       "2  0.02729   0.0   7.07   0.0  0.469  7.185  61.1  4.9671  2.0  242.0   \n",
       "3  0.03237   0.0   2.18   0.0  0.458  6.998  45.8  6.0622  3.0  222.0   \n",
       "4  0.06905   0.0   2.18   0.0  0.458  7.147  54.2  6.0622  3.0  222.0   \n",
       "\n",
       "   PTRATIO       B  LSTAT  \n",
       "0     15.3  396.90   4.98  \n",
       "1     17.8  396.90   9.14  \n",
       "2     17.8  392.83   4.03  \n",
       "3     18.7  394.63   2.94  \n",
       "4     18.7  396.90   5.33  "
      ]
     },
     "execution_count": 5,
     "metadata": {},
     "output_type": "execute_result"
    }
   ],
   "source": [
    "X = pd.DataFrame(data['data'],columns=data['feature_names'])\n",
    "X.head()"
   ]
  },
  {
   "cell_type": "code",
   "execution_count": 6,
   "id": "0f5b0695",
   "metadata": {
    "scrolled": false
   },
   "outputs": [
    {
     "data": {
      "text/plain": [
       "array([24. , 21.6, 34.7, 33.4, 36.2, 28.7, 22.9, 27.1, 16.5, 18.9, 15. ,\n",
       "       18.9, 21.7, 20.4, 18.2, 19.9, 23.1, 17.5, 20.2, 18.2, 13.6, 19.6,\n",
       "       15.2, 14.5, 15.6, 13.9, 16.6, 14.8, 18.4, 21. , 12.7, 14.5, 13.2,\n",
       "       13.1, 13.5, 18.9, 20. , 21. , 24.7, 30.8, 34.9, 26.6, 25.3, 24.7,\n",
       "       21.2, 19.3, 20. , 16.6, 14.4, 19.4, 19.7, 20.5, 25. , 23.4, 18.9,\n",
       "       35.4, 24.7, 31.6, 23.3, 19.6, 18.7, 16. , 22.2, 25. , 33. , 23.5,\n",
       "       19.4, 22. , 17.4, 20.9, 24.2, 21.7, 22.8, 23.4, 24.1, 21.4, 20. ,\n",
       "       20.8, 21.2, 20.3, 28. , 23.9, 24.8, 22.9, 23.9, 26.6, 22.5, 22.2,\n",
       "       23.6, 28.7, 22.6, 22. , 22.9, 25. , 20.6, 28.4, 21.4, 38.7, 43.8,\n",
       "       33.2, 27.5, 26.5, 18.6, 19.3, 20.1, 19.5, 19.5, 20.4, 19.8, 19.4,\n",
       "       21.7, 22.8, 18.8, 18.7, 18.5, 18.3, 21.2, 19.2, 20.4, 19.3, 22. ,\n",
       "       20.3, 20.5, 17.3, 18.8, 21.4, 15.7, 16.2, 18. , 14.3, 19.2, 19.6,\n",
       "       23. , 18.4, 15.6, 18.1, 17.4, 17.1, 13.3, 17.8, 14. , 14.4, 13.4,\n",
       "       15.6, 11.8, 13.8, 15.6, 14.6, 17.8, 15.4, 21.5, 19.6, 15.3, 19.4,\n",
       "       17. , 15.6, 13.1, 41.3, 24.3, 23.3, 27. , 50. , 50. , 50. , 22.7,\n",
       "       25. , 50. , 23.8, 23.8, 22.3, 17.4, 19.1, 23.1, 23.6, 22.6, 29.4,\n",
       "       23.2, 24.6, 29.9, 37.2, 39.8, 36.2, 37.9, 32.5, 26.4, 29.6, 50. ,\n",
       "       32. , 29.8, 34.9, 37. , 30.5, 36.4, 31.1, 29.1, 50. , 33.3, 30.3,\n",
       "       34.6, 34.9, 32.9, 24.1, 42.3, 48.5, 50. , 22.6, 24.4, 22.5, 24.4,\n",
       "       20. , 21.7, 19.3, 22.4, 28.1, 23.7, 25. , 23.3, 28.7, 21.5, 23. ,\n",
       "       26.7, 21.7, 27.5, 30.1, 44.8, 50. , 37.6, 31.6, 46.7, 31.5, 24.3,\n",
       "       31.7, 41.7, 48.3, 29. , 24. , 25.1, 31.5, 23.7, 23.3, 22. , 20.1,\n",
       "       22.2, 23.7, 17.6, 18.5, 24.3, 20.5, 24.5, 26.2, 24.4, 24.8, 29.6,\n",
       "       42.8, 21.9, 20.9, 44. , 50. , 36. , 30.1, 33.8, 43.1, 48.8, 31. ,\n",
       "       36.5, 22.8, 30.7, 50. , 43.5, 20.7, 21.1, 25.2, 24.4, 35.2, 32.4,\n",
       "       32. , 33.2, 33.1, 29.1, 35.1, 45.4, 35.4, 46. , 50. , 32.2, 22. ,\n",
       "       20.1, 23.2, 22.3, 24.8, 28.5, 37.3, 27.9, 23.9, 21.7, 28.6, 27.1,\n",
       "       20.3, 22.5, 29. , 24.8, 22. , 26.4, 33.1, 36.1, 28.4, 33.4, 28.2,\n",
       "       22.8, 20.3, 16.1, 22.1, 19.4, 21.6, 23.8, 16.2, 17.8, 19.8, 23.1,\n",
       "       21. , 23.8, 23.1, 20.4, 18.5, 25. , 24.6, 23. , 22.2, 19.3, 22.6,\n",
       "       19.8, 17.1, 19.4, 22.2, 20.7, 21.1, 19.5, 18.5, 20.6, 19. , 18.7,\n",
       "       32.7, 16.5, 23.9, 31.2, 17.5, 17.2, 23.1, 24.5, 26.6, 22.9, 24.1,\n",
       "       18.6, 30.1, 18.2, 20.6, 17.8, 21.7, 22.7, 22.6, 25. , 19.9, 20.8,\n",
       "       16.8, 21.9, 27.5, 21.9, 23.1, 50. , 50. , 50. , 50. , 50. , 13.8,\n",
       "       13.8, 15. , 13.9, 13.3, 13.1, 10.2, 10.4, 10.9, 11.3, 12.3,  8.8,\n",
       "        7.2, 10.5,  7.4, 10.2, 11.5, 15.1, 23.2,  9.7, 13.8, 12.7, 13.1,\n",
       "       12.5,  8.5,  5. ,  6.3,  5.6,  7.2, 12.1,  8.3,  8.5,  5. , 11.9,\n",
       "       27.9, 17.2, 27.5, 15. , 17.2, 17.9, 16.3,  7. ,  7.2,  7.5, 10.4,\n",
       "        8.8,  8.4, 16.7, 14.2, 20.8, 13.4, 11.7,  8.3, 10.2, 10.9, 11. ,\n",
       "        9.5, 14.5, 14.1, 16.1, 14.3, 11.7, 13.4,  9.6,  8.7,  8.4, 12.8,\n",
       "       10.5, 17.1, 18.4, 15.4, 10.8, 11.8, 14.9, 12.6, 14.1, 13. , 13.4,\n",
       "       15.2, 16.1, 17.8, 14.9, 14.1, 12.7, 13.5, 14.9, 20. , 16.4, 17.7,\n",
       "       19.5, 20.2, 21.4, 19.9, 19. , 19.1, 19.1, 20.1, 19.9, 19.6, 23.2,\n",
       "       29.8, 13.8, 13.3, 16.7, 12. , 14.6, 21.4, 23. , 23.7, 25. , 21.8,\n",
       "       20.6, 21.2, 19.1, 20.6, 15.2,  7. ,  8.1, 13.6, 20.1, 21.8, 24.5,\n",
       "       23.1, 19.7, 18.3, 21.2, 17.5, 16.8, 22.4, 20.6, 23.9, 22. , 11.9])"
      ]
     },
     "execution_count": 6,
     "metadata": {},
     "output_type": "execute_result"
    }
   ],
   "source": [
    "y = data['target']\n",
    "y"
   ]
  },
  {
   "cell_type": "code",
   "execution_count": 7,
   "id": "fcb71328",
   "metadata": {},
   "outputs": [],
   "source": [
    "from sklearn.model_selection import train_test_split"
   ]
  },
  {
   "cell_type": "code",
   "execution_count": 8,
   "id": "94089ff1",
   "metadata": {},
   "outputs": [],
   "source": [
    "X_train, X_test,y_train,y_test = train_test_split(X,y, random_state=928, test_size=0.2)"
   ]
  },
  {
   "cell_type": "code",
   "execution_count": 9,
   "id": "96d4812b",
   "metadata": {},
   "outputs": [
    {
     "data": {
      "text/plain": [
       "((404, 13), (404,))"
      ]
     },
     "execution_count": 9,
     "metadata": {},
     "output_type": "execute_result"
    }
   ],
   "source": [
    "X_train.shape, y_train.shape"
   ]
  },
  {
   "cell_type": "code",
   "execution_count": 10,
   "id": "07b1d31e",
   "metadata": {},
   "outputs": [
    {
     "data": {
      "text/plain": [
       "((102, 13), (102,))"
      ]
     },
     "execution_count": 10,
     "metadata": {},
     "output_type": "execute_result"
    }
   ],
   "source": [
    "X_test.shape, y_test.shape"
   ]
  },
  {
   "cell_type": "markdown",
   "id": "a3351125",
   "metadata": {},
   "source": [
    "#### LinearRegression 클래스\n",
    "- 수학적해석 방법으로 가중치와 절편을 찾는 모델(최소 제곱법)"
   ]
  },
  {
   "cell_type": "code",
   "execution_count": 11,
   "id": "dbaf12f5",
   "metadata": {},
   "outputs": [],
   "source": [
    "from sklearn.linear_model import LinearRegression"
   ]
  },
  {
   "cell_type": "code",
   "execution_count": 12,
   "id": "907c0f0c",
   "metadata": {},
   "outputs": [],
   "source": [
    "model = LinearRegression()"
   ]
  },
  {
   "cell_type": "code",
   "execution_count": 13,
   "id": "ef2d0293",
   "metadata": {},
   "outputs": [
    {
     "data": {
      "text/plain": [
       "LinearRegression()"
      ]
     },
     "execution_count": 13,
     "metadata": {},
     "output_type": "execute_result"
    }
   ],
   "source": [
    "model.fit(X_train,y_train)"
   ]
  },
  {
   "cell_type": "code",
   "execution_count": 14,
   "id": "453f9c8d",
   "metadata": {},
   "outputs": [],
   "source": [
    "from sklearn.metrics import mean_absolute_error\n",
    "from sklearn.metrics import mean_squared_error\n",
    "from sklearn.metrics import r2_score"
   ]
  },
  {
   "cell_type": "code",
   "execution_count": 15,
   "id": "426731aa",
   "metadata": {},
   "outputs": [
    {
     "name": "stdout",
     "output_type": "stream",
     "text": [
      "MAE : 3.436955876700315\n",
      "MSE : 26.949298350385785\n",
      "R2 : 0.7155134486699292\n"
     ]
    }
   ],
   "source": [
    "pre = model.predict(X_test)\n",
    "print(\"MAE :\", mean_absolute_error(y_test,pre))\n",
    "print(\"MSE :\", mean_squared_error(y_test,pre))\n",
    "print('R2 :', r2_score(y_test,pre))"
   ]
  },
  {
   "attachments": {
    "image.png": {
     "image/png": "[encoded data removed]"
    }
   },
   "cell_type": "markdown",
   "id": "8f8250f2",
   "metadata": {},
   "source": [
    "![image.png](attachment:image.png)"
   ]
  },
  {
   "cell_type": "code",
   "execution_count": 16,
   "id": "e27c69ea",
   "metadata": {
    "scrolled": true
   },
   "outputs": [
    {
     "name": "stdout",
     "output_type": "stream",
     "text": [
      "가중치 : [-1.17616166e-01  4.57248216e-02  2.60971356e-02  3.66519161e+00\n",
      " -1.75112248e+01  3.78696087e+00 -5.18334444e-03 -1.53920889e+00\n",
      "  2.94201676e-01 -1.21127094e-02 -8.66450735e-01  8.41814922e-03\n",
      " -5.31982805e-01]\n"
     ]
    }
   ],
   "source": [
    "# 가중치와 절편확인\n",
    "print('가중치 :',model.coef_)"
   ]
  },
  {
   "cell_type": "code",
   "execution_count": 17,
   "id": "ee38edda",
   "metadata": {},
   "outputs": [
    {
     "name": "stdout",
     "output_type": "stream",
     "text": [
      "절편 : 35.85600384015736\n"
     ]
    }
   ],
   "source": [
    "print('절편 :',model.intercept_)"
   ]
  },
  {
   "cell_type": "markdown",
   "id": "c3586681",
   "metadata": {},
   "source": [
    "#### 선형 모델의 학습 원리\n",
    "1. 선형 모델은 최적의 가중치(w)와 절편(b)를 선택하기 위해서 mse(평균제곱오차)를 이용해 각 가설의 적합성을 판단\n",
    "2. 최적의 가중치(w)와 절편(b)를 만들기 위해서 2가지 방식을 활용\n",
    "    - 해석적방법(최소제곱법) : LinearRegression구현\n",
    "    - 경사하강법(Gradient Descent Algorithm) : SGDRegressor구현\n",
    "        - 초기 가중치로부터 기울기 값을 조금씩 수정해서 적절한 w를 찾아나가는 방식\n",
    "        - 기울기가 낮아지는 방향으로 계속 업데이트하는 공식\n",
    "        - 최적화함수 중에 하나"
   ]
  },
  {
   "cell_type": "markdown",
   "id": "e90517a2",
   "metadata": {},
   "source": [
    "#### 가중치 변화에 따른 mse 변화 그래프를 그려보자"
   ]
  },
  {
   "cell_type": "code",
   "execution_count": 18,
   "id": "9f952572",
   "metadata": {},
   "outputs": [
    {
     "data": {
      "text/html": [
       "<div>\n",
       "<style scoped>\n",
       "    .dataframe tbody tr th:only-of-type {\n",
       "        vertical-align: middle;\n",
       "    }\n",
       "\n",
       "    .dataframe tbody tr th {\n",
       "        vertical-align: top;\n",
       "    }\n",
       "\n",
       "    .dataframe thead th {\n",
       "        text-align: right;\n",
       "    }\n",
       "</style>\n",
       "<table border=\"1\" class=\"dataframe\">\n",
       "  <thead>\n",
       "    <tr style=\"text-align: right;\">\n",
       "      <th></th>\n",
       "      <th>공부시간</th>\n",
       "      <th>성적점수</th>\n",
       "    </tr>\n",
       "  </thead>\n",
       "  <tbody>\n",
       "    <tr>\n",
       "      <th>지영</th>\n",
       "      <td>2</td>\n",
       "      <td>20</td>\n",
       "    </tr>\n",
       "    <tr>\n",
       "      <th>수진</th>\n",
       "      <td>4</td>\n",
       "      <td>40</td>\n",
       "    </tr>\n",
       "    <tr>\n",
       "      <th>하늘</th>\n",
       "      <td>8</td>\n",
       "      <td>80</td>\n",
       "    </tr>\n",
       "    <tr>\n",
       "      <th>래호</th>\n",
       "      <td>9</td>\n",
       "      <td>90</td>\n",
       "    </tr>\n",
       "  </tbody>\n",
       "</table>\n",
       "</div>"
      ],
      "text/plain": [
       "    공부시간  성적점수\n",
       "지영     2    20\n",
       "수진     4    40\n",
       "하늘     8    80\n",
       "래호     9    90"
      ]
     },
     "execution_count": 18,
     "metadata": {},
     "output_type": "execute_result"
    }
   ],
   "source": [
    "# 성적데이터 생성\n",
    "data = pd.DataFrame([[2,20],[4,40],[8,80],[9,90]], index = ['지영','수진','하늘','래호'], columns = ['공부시간','성적점수'])\n",
    "data"
   ]
  },
  {
   "cell_type": "markdown",
   "id": "a56dd597",
   "metadata": {},
   "source": [
    "#### mse함수 생성"
   ]
  },
  {
   "cell_type": "code",
   "execution_count": 19,
   "id": "7d56088d",
   "metadata": {},
   "outputs": [],
   "source": [
    "# 문제, 정답, 가중치를 매개변수로 받는다.\n",
    "def MSE(X,y,w): \n",
    "    # 예측값 생성\n",
    "    y_pre = w*X+0 # y=ax+b\n",
    "    # 실제값과 예측값의 차이의 제곱 평균 -> mse(오차)\n",
    "    error = y-y_pre\n",
    "    return (error**2).mean() # 평균제곱오차  "
   ]
  },
  {
   "cell_type": "code",
   "execution_count": 20,
   "id": "c74a4a09",
   "metadata": {},
   "outputs": [
    {
     "data": {
      "text/plain": [
       "0.0"
      ]
     },
     "execution_count": 20,
     "metadata": {},
     "output_type": "execute_result"
    }
   ],
   "source": [
    "MSE(data['공부시간'],data['성적점수'],10) # 가중치 10일때 오차가 0이다."
   ]
  },
  {
   "cell_type": "code",
   "execution_count": 21,
   "id": "f8769ebd",
   "metadata": {},
   "outputs": [
    {
     "data": {
      "text/plain": [
       "1031.25"
      ]
     },
     "execution_count": 21,
     "metadata": {},
     "output_type": "execute_result"
    }
   ],
   "source": [
    "MSE(data['공부시간'],data['성적점수'],15)"
   ]
  },
  {
   "cell_type": "code",
   "execution_count": 22,
   "id": "6f5ebff6",
   "metadata": {},
   "outputs": [
    {
     "data": {
      "text/plain": [
       "1031.25"
      ]
     },
     "execution_count": 22,
     "metadata": {},
     "output_type": "execute_result"
    }
   ],
   "source": [
    "MSE(data['공부시간'],data['성적점수'],5)"
   ]
  },
  {
   "cell_type": "markdown",
   "id": "e91bbfee",
   "metadata": {},
   "source": [
    "##### 그래프 그리기"
   ]
  },
  {
   "cell_type": "code",
   "execution_count": 23,
   "id": "397ad1d8",
   "metadata": {},
   "outputs": [
    {
     "data": {
      "text/plain": [
       "array([ 0.        ,  0.40816327,  0.81632653,  1.2244898 ,  1.63265306,\n",
       "        2.04081633,  2.44897959,  2.85714286,  3.26530612,  3.67346939,\n",
       "        4.08163265,  4.48979592,  4.89795918,  5.30612245,  5.71428571,\n",
       "        6.12244898,  6.53061224,  6.93877551,  7.34693878,  7.75510204,\n",
       "        8.16326531,  8.57142857,  8.97959184,  9.3877551 ,  9.79591837,\n",
       "       10.20408163, 10.6122449 , 11.02040816, 11.42857143, 11.83673469,\n",
       "       12.24489796, 12.65306122, 13.06122449, 13.46938776, 13.87755102,\n",
       "       14.28571429, 14.69387755, 15.10204082, 15.51020408, 15.91836735,\n",
       "       16.32653061, 16.73469388, 17.14285714, 17.55102041, 17.95918367,\n",
       "       18.36734694, 18.7755102 , 19.18367347, 19.59183673, 20.        ])"
      ]
     },
     "execution_count": 23,
     "metadata": {},
     "output_type": "execute_result"
    }
   ],
   "source": [
    "# 변화하는 가중치(w) 생성\n",
    "weights = np.linspace(0,20)\n",
    "weights"
   ]
  },
  {
   "cell_type": "code",
   "execution_count": 24,
   "id": "b1db89ca",
   "metadata": {},
   "outputs": [
    {
     "data": {
      "text/plain": [
       "[4125.0,\n",
       " 3795.1374427321953,\n",
       " 3479.019158683882,\n",
       " 3176.6451478550603,\n",
       " 2888.015410245731,\n",
       " 2613.1299458558933,\n",
       " 2351.9887546855475,\n",
       " 2104.5918367346935,\n",
       " 1870.939192003332,\n",
       " 1651.0308204914622,\n",
       " 1444.8667221990836,\n",
       " 1252.4468971261972,\n",
       " 1073.771345272803,\n",
       " 908.8400666389006,\n",
       " 757.6530612244896,\n",
       " 620.2103290295709,\n",
       " 496.5118700541441,\n",
       " 386.5576842982092,\n",
       " 290.3477717617659,\n",
       " 207.88213244481454,\n",
       " 139.1607663473552,\n",
       " 84.1836734693878,\n",
       " 42.950853810912015,\n",
       " 15.46230737192834,\n",
       " 1.718034152436478,\n",
       " 1.718034152436478,\n",
       " 15.46230737192834,\n",
       " 42.95085381091215,\n",
       " 84.1836734693878,\n",
       " 139.1607663473552,\n",
       " 207.88213244481489,\n",
       " 290.347771761766,\n",
       " 386.5576842982092,\n",
       " 496.5118700541442,\n",
       " 620.2103290295709,\n",
       " 757.6530612244901,\n",
       " 908.8400666389006,\n",
       " 1073.7713452728026,\n",
       " 1252.4468971261979,\n",
       " 1444.8667221990838,\n",
       " 1651.0308204914627,\n",
       " 1870.939192003332,\n",
       " 2104.5918367346935,\n",
       " 2351.988754685547,\n",
       " 2613.129945855895,\n",
       " 2888.015410245732,\n",
       " 3176.6451478550607,\n",
       " 3479.019158683883,\n",
       " 3795.1374427321957,\n",
       " 4125.0]"
      ]
     },
     "execution_count": 24,
     "metadata": {},
     "output_type": "execute_result"
    }
   ],
   "source": [
    "# for문 통해 가중치 변경될때마다 오차 계산\n",
    "# mse_list 빈리스트 생성해서 저장\n",
    "\n",
    "mse_list = []\n",
    "\n",
    "for w in weights:\n",
    "    error = MSE(data['공부시간'],data['성적점수'],w)\n",
    "    mse_list.append(error)\n",
    "mse_list"
   ]
  },
  {
   "cell_type": "code",
   "execution_count": 25,
   "id": "c986b75b",
   "metadata": {},
   "outputs": [
    {
     "data": {
      "image/png": "[encoded data removed]",
      "text/plain": [
       "<Figure size 504x360 with 1 Axes>"
      ]
     },
     "metadata": {
      "needs_background": "light"
     },
     "output_type": "display_data"
    }
   ],
   "source": [
    "plt.figure(figsize=(7,5))\n",
    "plt.plot(weights, mse_list, marker = '*')\n",
    "plt.xlabel('W')\n",
    "plt.ylabel('MSE')\n",
    "plt.show()"
   ]
  },
  {
   "cell_type": "markdown",
   "id": "40fc1dba",
   "metadata": {},
   "source": [
    "#### 경사하강법으로 구현된 SGDRegressor사용해보기"
   ]
  },
  {
   "cell_type": "code",
   "execution_count": 26,
   "id": "61b6bbfd",
   "metadata": {},
   "outputs": [],
   "source": [
    "from sklearn.linear_model import SGDRegressor"
   ]
  },
  {
   "cell_type": "code",
   "execution_count": 29,
   "id": "95a58efa",
   "metadata": {},
   "outputs": [],
   "source": [
    "sgd_model = SGDRegressor(eta0 = 0.001, # 학습률\n",
    "                        max_iter = 6000, # 반복횟수(가중치 업데이트 횟수)\n",
    "                        verbose = 1) # 학습 현황 시각화"
   ]
  },
  {
   "cell_type": "code",
   "execution_count": 30,
   "id": "702c24df",
   "metadata": {},
   "outputs": [
    {
     "name": "stdout",
     "output_type": "stream",
     "text": [
      "-- Epoch 1\n",
      "Norm: 1.19, NNZs: 1, Bias: 0.172587, T: 4, Avg. loss: 1902.064818\n",
      "Total training time: 0.00 seconds.\n",
      "-- Epoch 2\n",
      "Norm: 2.04, NNZs: 1, Bias: 0.293865, T: 8, Avg. loss: 1496.003802\n",
      "Total training time: 0.00 seconds.\n",
      "-- Epoch 3\n",
      "Norm: 2.73, NNZs: 1, Bias: 0.391502, T: 12, Avg. loss: 1222.558443\n",
      "Total training time: 0.00 seconds.\n",
      "-- Epoch 4\n",
      "Norm: 3.32, NNZs: 1, Bias: 0.473857, T: 16, Avg. loss: 1018.584795\n",
      "Total training time: 0.00 seconds.\n",
      "-- Epoch 5\n",
      "Norm: 3.83, NNZs: 1, Bias: 0.545088, T: 20, Avg. loss: 859.401225\n",
      "Total training time: 0.00 seconds.\n",
      "-- Epoch 6\n",
      "Norm: 4.28, NNZs: 1, Bias: 0.607697, T: 24, Avg. loss: 731.789642\n",
      "Total training time: 0.00 seconds.\n",
      "-- Epoch 7\n",
      "Norm: 4.67, NNZs: 1, Bias: 0.663352, T: 28, Avg. loss: 627.600367\n",
      "Total training time: 0.00 seconds.\n",
      "-- Epoch 8\n",
      "Norm: 5.03, NNZs: 1, Bias: 0.713248, T: 32, Avg. loss: 541.380743\n",
      "Total training time: 0.00 seconds.\n",
      "-- Epoch 9\n",
      "Norm: 5.35, NNZs: 1, Bias: 0.758277, T: 36, Avg. loss: 469.281461\n",
      "Total training time: 0.00 seconds.\n",
      "-- Epoch 10\n",
      "Norm: 5.65, NNZs: 1, Bias: 0.799132, T: 40, Avg. loss: 408.479777\n",
      "Total training time: 0.00 seconds.\n",
      "-- Epoch 11\n",
      "Norm: 5.91, NNZs: 1, Bias: 0.836366, T: 44, Avg. loss: 356.846108\n",
      "Total training time: 0.00 seconds.\n",
      "-- Epoch 12\n",
      "Norm: 6.16, NNZs: 1, Bias: 0.870426, T: 48, Avg. loss: 312.738003\n",
      "Total training time: 0.00 seconds.\n",
      "-- Epoch 13\n",
      "Norm: 6.38, NNZs: 1, Bias: 0.901684, T: 52, Avg. loss: 274.866173\n",
      "Total training time: 0.00 seconds.\n",
      "-- Epoch 14\n",
      "Norm: 6.59, NNZs: 1, Bias: 0.930449, T: 56, Avg. loss: 242.203822\n",
      "Total training time: 0.00 seconds.\n",
      "-- Epoch 15\n",
      "Norm: 6.78, NNZs: 1, Bias: 0.956987, T: 60, Avg. loss: 213.923275\n",
      "Total training time: 0.00 seconds.\n",
      "-- Epoch 16\n",
      "Norm: 6.96, NNZs: 1, Bias: 0.981523, T: 64, Avg. loss: 189.350493\n",
      "Total training time: 0.00 seconds.\n",
      "-- Epoch 17\n",
      "Norm: 7.12, NNZs: 1, Bias: 1.004253, T: 68, Avg. loss: 167.931690\n",
      "Total training time: 0.00 seconds.\n",
      "-- Epoch 18\n",
      "Norm: 7.28, NNZs: 1, Bias: 1.025346, T: 72, Avg. loss: 149.208377\n",
      "Total training time: 0.00 seconds.\n",
      "-- Epoch 19\n",
      "Norm: 7.42, NNZs: 1, Bias: 1.044952, T: 76, Avg. loss: 132.798384\n",
      "Total training time: 0.00 seconds.\n",
      "-- Epoch 20\n",
      "Norm: 7.55, NNZs: 1, Bias: 1.063202, T: 80, Avg. loss: 118.381249\n",
      "Total training time: 0.00 seconds.\n",
      "-- Epoch 21\n",
      "Norm: 7.68, NNZs: 1, Bias: 1.080213, T: 84, Avg. loss: 105.686807\n",
      "Total training time: 0.00 seconds.\n",
      "-- Epoch 22\n",
      "Norm: 7.79, NNZs: 1, Bias: 1.096087, T: 88, Avg. loss: 94.486193\n",
      "Total training time: 0.00 seconds.\n",
      "-- Epoch 23\n",
      "Norm: 7.90, NNZs: 1, Bias: 1.110918, T: 92, Avg. loss: 84.584682\n",
      "Total training time: 0.00 seconds.\n",
      "-- Epoch 24\n",
      "Norm: 8.00, NNZs: 1, Bias: 1.124789, T: 96, Avg. loss: 75.815935\n",
      "Total training time: 0.00 seconds.\n",
      "-- Epoch 25\n",
      "Norm: 8.09, NNZs: 1, Bias: 1.137774, T: 100, Avg. loss: 68.037341\n",
      "Total training time: 0.00 seconds.\n",
      "-- Epoch 26\n",
      "Norm: 8.18, NNZs: 1, Bias: 1.149941, T: 104, Avg. loss: 61.126225\n",
      "Total training time: 0.00 seconds.\n",
      "-- Epoch 27\n",
      "Norm: 8.27, NNZs: 1, Bias: 1.161351, T: 108, Avg. loss: 54.976729\n",
      "Total training time: 0.00 seconds.\n",
      "-- Epoch 28\n",
      "Norm: 8.35, NNZs: 1, Bias: 1.172059, T: 112, Avg. loss: 49.497250\n",
      "Total training time: 0.00 seconds.\n",
      "-- Epoch 29\n",
      "Norm: 8.42, NNZs: 1, Bias: 1.182117, T: 116, Avg. loss: 44.608305\n",
      "Total training time: 0.00 seconds.\n",
      "-- Epoch 30\n",
      "Norm: 8.49, NNZs: 1, Bias: 1.191569, T: 120, Avg. loss: 40.240756\n",
      "Total training time: 0.00 seconds.\n",
      "-- Epoch 31\n",
      "Norm: 8.56, NNZs: 1, Bias: 1.200459, T: 124, Avg. loss: 36.334326\n",
      "Total training time: 0.00 seconds.\n",
      "-- Epoch 32\n",
      "Norm: 8.62, NNZs: 1, Bias: 1.208824, T: 128, Avg. loss: 32.836347\n",
      "Total training time: 0.00 seconds.\n",
      "-- Epoch 33\n",
      "Norm: 8.68, NNZs: 1, Bias: 1.216701, T: 132, Avg. loss: 29.700702\n",
      "Total training time: 0.00 seconds.\n",
      "-- Epoch 34\n",
      "Norm: 8.73, NNZs: 1, Bias: 1.224121, T: 136, Avg. loss: 26.886938\n",
      "Total training time: 0.00 seconds.\n",
      "-- Epoch 35\n",
      "Norm: 8.78, NNZs: 1, Bias: 1.231115, T: 140, Avg. loss: 24.359500\n",
      "Total training time: 0.00 seconds.\n",
      "-- Epoch 36\n",
      "Norm: 8.83, NNZs: 1, Bias: 1.237710, T: 144, Avg. loss: 22.087088\n",
      "Total training time: 0.00 seconds.\n",
      "-- Epoch 37\n",
      "Norm: 8.88, NNZs: 1, Bias: 1.243932, T: 148, Avg. loss: 20.042098\n",
      "Total training time: 0.00 seconds.\n",
      "-- Epoch 38\n",
      "Norm: 8.92, NNZs: 1, Bias: 1.249804, T: 152, Avg. loss: 18.200153\n",
      "Total training time: 0.00 seconds.\n",
      "-- Epoch 39\n",
      "Norm: 8.96, NNZs: 1, Bias: 1.255348, T: 156, Avg. loss: 16.539689\n",
      "Total training time: 0.00 seconds.\n",
      "-- Epoch 40\n",
      "Norm: 9.00, NNZs: 1, Bias: 1.260584, T: 160, Avg. loss: 15.041606\n",
      "Total training time: 0.00 seconds.\n",
      "-- Epoch 41\n",
      "Norm: 9.04, NNZs: 1, Bias: 1.265532, T: 164, Avg. loss: 13.688964\n",
      "Total training time: 0.00 seconds.\n",
      "-- Epoch 42\n",
      "Norm: 9.08, NNZs: 1, Bias: 1.270208, T: 168, Avg. loss: 12.466717\n",
      "Total training time: 0.00 seconds.\n",
      "-- Epoch 43\n",
      "Norm: 9.11, NNZs: 1, Bias: 1.274628, T: 172, Avg. loss: 11.361487\n",
      "Total training time: 0.00 seconds.\n",
      "-- Epoch 44\n",
      "Norm: 9.14, NNZs: 1, Bias: 1.278809, T: 176, Avg. loss: 10.361363\n",
      "Total training time: 0.00 seconds.\n",
      "-- Epoch 45\n",
      "Norm: 9.17, NNZs: 1, Bias: 1.282763, T: 180, Avg. loss: 9.455732\n",
      "Total training time: 0.00 seconds.\n",
      "-- Epoch 46\n",
      "Norm: 9.20, NNZs: 1, Bias: 1.286505, T: 184, Avg. loss: 8.635121\n",
      "Total training time: 0.00 seconds.\n",
      "-- Epoch 47\n",
      "Norm: 9.23, NNZs: 1, Bias: 1.290046, T: 188, Avg. loss: 7.891071\n",
      "Total training time: 0.00 seconds.\n",
      "-- Epoch 48\n",
      "Norm: 9.25, NNZs: 1, Bias: 1.293397, T: 192, Avg. loss: 7.216020\n",
      "Total training time: 0.00 seconds.\n",
      "-- Epoch 49\n",
      "Norm: 9.28, NNZs: 1, Bias: 1.296570, T: 196, Avg. loss: 6.603198\n",
      "Total training time: 0.00 seconds.\n",
      "-- Epoch 50\n",
      "Norm: 9.30, NNZs: 1, Bias: 1.299574, T: 200, Avg. loss: 6.046542\n",
      "Total training time: 0.00 seconds.\n",
      "-- Epoch 51\n",
      "Norm: 9.32, NNZs: 1, Bias: 1.302419, T: 204, Avg. loss: 5.540616\n",
      "Total training time: 0.00 seconds.\n",
      "-- Epoch 52\n",
      "Norm: 9.35, NNZs: 1, Bias: 1.305114, T: 208, Avg. loss: 5.080542\n",
      "Total training time: 0.00 seconds.\n",
      "-- Epoch 53\n",
      "Norm: 9.37, NNZs: 1, Bias: 1.307666, T: 212, Avg. loss: 4.661938\n",
      "Total training time: 0.00 seconds.\n",
      "-- Epoch 54\n",
      "Norm: 9.39, NNZs: 1, Bias: 1.310084, T: 216, Avg. loss: 4.280866\n",
      "Total training time: 0.00 seconds.\n",
      "-- Epoch 55\n",
      "Norm: 9.40, NNZs: 1, Bias: 1.312374, T: 220, Avg. loss: 3.933784\n",
      "Total training time: 0.00 seconds.\n",
      "-- Epoch 56\n",
      "Norm: 9.42, NNZs: 1, Bias: 1.314544, T: 224, Avg. loss: 3.617501\n",
      "Total training time: 0.00 seconds.\n",
      "-- Epoch 57\n",
      "Norm: 9.44, NNZs: 1, Bias: 1.316600, T: 228, Avg. loss: 3.329145\n",
      "Total training time: 0.01 seconds.\n",
      "-- Epoch 58\n",
      "Norm: 9.45, NNZs: 1, Bias: 1.318548, T: 232, Avg. loss: 3.066126\n",
      "Total training time: 0.01 seconds.\n",
      "-- Epoch 59\n",
      "Norm: 9.47, NNZs: 1, Bias: 1.320393, T: 236, Avg. loss: 2.826105\n",
      "Total training time: 0.01 seconds.\n",
      "-- Epoch 60\n",
      "Norm: 9.48, NNZs: 1, Bias: 1.322141, T: 240, Avg. loss: 2.606972\n",
      "Total training time: 0.01 seconds.\n",
      "-- Epoch 61\n",
      "Norm: 9.50, NNZs: 1, Bias: 1.323798, T: 244, Avg. loss: 2.406822\n",
      "Total training time: 0.01 seconds.\n",
      "-- Epoch 62\n",
      "Norm: 9.51, NNZs: 1, Bias: 1.325367, T: 248, Avg. loss: 2.223931\n",
      "Total training time: 0.01 seconds.\n",
      "-- Epoch 63\n",
      "Norm: 9.52, NNZs: 1, Bias: 1.326853, T: 252, Avg. loss: 2.056739\n",
      "Total training time: 0.01 seconds.\n",
      "-- Epoch 64\n",
      "Norm: 9.53, NNZs: 1, Bias: 1.328260, T: 256, Avg. loss: 1.903837\n",
      "Total training time: 0.01 seconds.\n",
      "-- Epoch 65\n",
      "Norm: 9.55, NNZs: 1, Bias: 1.329593, T: 260, Avg. loss: 1.763946\n",
      "Total training time: 0.01 seconds.\n",
      "-- Epoch 66\n",
      "Norm: 9.56, NNZs: 1, Bias: 1.330855, T: 264, Avg. loss: 1.635909\n",
      "Total training time: 0.01 seconds.\n",
      "-- Epoch 67\n",
      "Norm: 9.57, NNZs: 1, Bias: 1.332050, T: 268, Avg. loss: 1.518675\n",
      "Total training time: 0.01 seconds.\n",
      "-- Epoch 68\n",
      "Norm: 9.58, NNZs: 1, Bias: 1.333180, T: 272, Avg. loss: 1.411292\n",
      "Total training time: 0.01 seconds.\n",
      "-- Epoch 69\n",
      "Norm: 9.59, NNZs: 1, Bias: 1.334250, T: 276, Avg. loss: 1.312896\n",
      "Total training time: 0.01 seconds.\n",
      "-- Epoch 70\n",
      "Norm: 9.60, NNZs: 1, Bias: 1.335262, T: 280, Avg. loss: 1.222701\n",
      "Total training time: 0.01 seconds.\n",
      "-- Epoch 71\n",
      "Norm: 9.60, NNZs: 1, Bias: 1.336218, T: 284, Avg. loss: 1.139994\n",
      "Total training time: 0.01 seconds.\n",
      "-- Epoch 72\n",
      "Norm: 9.61, NNZs: 1, Bias: 1.337123, T: 288, Avg. loss: 1.064128\n",
      "Total training time: 0.01 seconds.\n",
      "-- Epoch 73\n",
      "Norm: 9.62, NNZs: 1, Bias: 1.337977, T: 292, Avg. loss: 0.994511\n",
      "Total training time: 0.01 seconds.\n",
      "-- Epoch 74\n",
      "Norm: 9.63, NNZs: 1, Bias: 1.338784, T: 296, Avg. loss: 0.930608\n",
      "Total training time: 0.01 seconds.\n",
      "-- Epoch 75\n",
      "Norm: 9.64, NNZs: 1, Bias: 1.339546, T: 300, Avg. loss: 0.871930\n",
      "Total training time: 0.01 seconds.\n",
      "-- Epoch 76\n",
      "Norm: 9.64, NNZs: 1, Bias: 1.340265, T: 304, Avg. loss: 0.818032\n",
      "Total training time: 0.01 seconds.\n",
      "-- Epoch 77\n",
      "Norm: 9.65, NNZs: 1, Bias: 1.340943, T: 308, Avg. loss: 0.768508\n",
      "Total training time: 0.01 seconds.\n",
      "-- Epoch 78\n",
      "Norm: 9.66, NNZs: 1, Bias: 1.341582, T: 312, Avg. loss: 0.722990\n",
      "Total training time: 0.01 seconds.\n",
      "-- Epoch 79\n",
      "Norm: 9.66, NNZs: 1, Bias: 1.342184, T: 316, Avg. loss: 0.681139\n",
      "Total training time: 0.01 seconds.\n",
      "-- Epoch 80\n",
      "Norm: 9.67, NNZs: 1, Bias: 1.342751, T: 320, Avg. loss: 0.642650\n",
      "Total training time: 0.01 seconds.\n",
      "-- Epoch 81\n",
      "Norm: 9.67, NNZs: 1, Bias: 1.343283, T: 324, Avg. loss: 0.607240\n",
      "Total training time: 0.01 seconds.\n",
      "-- Epoch 82\n",
      "Norm: 9.68, NNZs: 1, Bias: 1.343784, T: 328, Avg. loss: 0.574654\n",
      "Total training time: 0.01 seconds.\n",
      "-- Epoch 83\n",
      "Norm: 9.68, NNZs: 1, Bias: 1.344253, T: 332, Avg. loss: 0.544658\n",
      "Total training time: 0.01 seconds.\n",
      "-- Epoch 84\n",
      "Norm: 9.69, NNZs: 1, Bias: 1.344694, T: 336, Avg. loss: 0.517038\n",
      "Total training time: 0.01 seconds.\n",
      "-- Epoch 85\n",
      "Norm: 9.69, NNZs: 1, Bias: 1.345106, T: 340, Avg. loss: 0.491598\n",
      "Total training time: 0.01 seconds.\n",
      "-- Epoch 86\n",
      "Norm: 9.70, NNZs: 1, Bias: 1.345492, T: 344, Avg. loss: 0.468159\n",
      "Total training time: 0.01 seconds.\n",
      "-- Epoch 87\n",
      "Norm: 9.70, NNZs: 1, Bias: 1.345853, T: 348, Avg. loss: 0.446559\n",
      "Total training time: 0.01 seconds.\n",
      "-- Epoch 88\n",
      "Norm: 9.71, NNZs: 1, Bias: 1.346189, T: 352, Avg. loss: 0.426647\n",
      "Total training time: 0.01 seconds.\n",
      "-- Epoch 89\n",
      "Norm: 9.71, NNZs: 1, Bias: 1.346502, T: 356, Avg. loss: 0.408286\n",
      "Total training time: 0.01 seconds.\n",
      "-- Epoch 90\n",
      "Norm: 9.71, NNZs: 1, Bias: 1.346793, T: 360, Avg. loss: 0.391351\n",
      "Total training time: 0.01 seconds.\n",
      "-- Epoch 91\n",
      "Norm: 9.72, NNZs: 1, Bias: 1.347063, T: 364, Avg. loss: 0.375727\n",
      "Total training time: 0.01 seconds.\n",
      "-- Epoch 92\n",
      "Norm: 9.72, NNZs: 1, Bias: 1.347312, T: 368, Avg. loss: 0.361308\n",
      "Total training time: 0.01 seconds.\n",
      "-- Epoch 93\n",
      "Norm: 9.72, NNZs: 1, Bias: 1.347543, T: 372, Avg. loss: 0.347999\n",
      "Total training time: 0.01 seconds.\n",
      "-- Epoch 94\n",
      "Norm: 9.73, NNZs: 1, Bias: 1.347755, T: 376, Avg. loss: 0.335710\n",
      "Total training time: 0.01 seconds.\n",
      "-- Epoch 95\n",
      "Norm: 9.73, NNZs: 1, Bias: 1.347949, T: 380, Avg. loss: 0.324360\n",
      "Total training time: 0.01 seconds.\n",
      "-- Epoch 96\n",
      "Norm: 9.73, NNZs: 1, Bias: 1.348126, T: 384, Avg. loss: 0.313874\n",
      "Total training time: 0.01 seconds.\n",
      "-- Epoch 97\n",
      "Norm: 9.74, NNZs: 1, Bias: 1.348288, T: 388, Avg. loss: 0.304185\n",
      "Total training time: 0.01 seconds.\n",
      "-- Epoch 98\n",
      "Norm: 9.74, NNZs: 1, Bias: 1.348434, T: 392, Avg. loss: 0.295230\n",
      "Total training time: 0.01 seconds.\n",
      "-- Epoch 99\n",
      "Norm: 9.74, NNZs: 1, Bias: 1.348566, T: 396, Avg. loss: 0.286950\n",
      "Total training time: 0.01 seconds.\n",
      "-- Epoch 100\n",
      "Norm: 9.75, NNZs: 1, Bias: 1.348683, T: 400, Avg. loss: 0.279293\n",
      "Total training time: 0.01 seconds.\n",
      "-- Epoch 101\n",
      "Norm: 9.75, NNZs: 1, Bias: 1.348787, T: 404, Avg. loss: 0.272210\n",
      "Total training time: 0.01 seconds.\n",
      "-- Epoch 102\n",
      "Norm: 9.75, NNZs: 1, Bias: 1.348878, T: 408, Avg. loss: 0.265657\n",
      "Total training time: 0.01 seconds.\n",
      "-- Epoch 103\n",
      "Norm: 9.75, NNZs: 1, Bias: 1.348957, T: 412, Avg. loss: 0.259592\n",
      "Total training time: 0.01 seconds.\n",
      "-- Epoch 104\n",
      "Norm: 9.75, NNZs: 1, Bias: 1.349025, T: 416, Avg. loss: 0.253977\n",
      "Total training time: 0.01 seconds.\n",
      "-- Epoch 105\n",
      "Norm: 9.76, NNZs: 1, Bias: 1.349081, T: 420, Avg. loss: 0.248778\n",
      "Total training time: 0.01 seconds.\n",
      "-- Epoch 106\n",
      "Norm: 9.76, NNZs: 1, Bias: 1.349126, T: 424, Avg. loss: 0.243963\n",
      "Total training time: 0.01 seconds.\n",
      "-- Epoch 107\n",
      "Norm: 9.76, NNZs: 1, Bias: 1.349161, T: 428, Avg. loss: 0.239501\n",
      "Total training time: 0.01 seconds.\n",
      "-- Epoch 108\n",
      "Norm: 9.76, NNZs: 1, Bias: 1.349186, T: 432, Avg. loss: 0.235367\n",
      "Total training time: 0.01 seconds.\n",
      "-- Epoch 109\n",
      "Norm: 9.76, NNZs: 1, Bias: 1.349202, T: 436, Avg. loss: 0.231534\n",
      "Total training time: 0.01 seconds.\n",
      "-- Epoch 110\n",
      "Norm: 9.77, NNZs: 1, Bias: 1.349209, T: 440, Avg. loss: 0.227981\n",
      "Total training time: 0.01 seconds.\n",
      "-- Epoch 111\n",
      "Norm: 9.77, NNZs: 1, Bias: 1.349207, T: 444, Avg. loss: 0.224685\n",
      "Total training time: 0.01 seconds.\n",
      "-- Epoch 112\n",
      "Norm: 9.77, NNZs: 1, Bias: 1.349197, T: 448, Avg. loss: 0.221627\n",
      "Total training time: 0.01 seconds.\n",
      "-- Epoch 113\n",
      "Norm: 9.77, NNZs: 1, Bias: 1.349179, T: 452, Avg. loss: 0.218790\n",
      "Total training time: 0.01 seconds.\n",
      "-- Epoch 114\n",
      "Norm: 9.77, NNZs: 1, Bias: 1.349154, T: 456, Avg. loss: 0.216156\n",
      "Total training time: 0.01 seconds.\n",
      "-- Epoch 115\n",
      "Norm: 9.77, NNZs: 1, Bias: 1.349121, T: 460, Avg. loss: 0.213710\n",
      "Total training time: 0.01 seconds.\n",
      "-- Epoch 116\n",
      "Norm: 9.77, NNZs: 1, Bias: 1.349082, T: 464, Avg. loss: 0.211438\n",
      "Total training time: 0.01 seconds.\n",
      "-- Epoch 117\n",
      "Norm: 9.78, NNZs: 1, Bias: 1.349035, T: 468, Avg. loss: 0.209328\n",
      "Total training time: 0.01 seconds.\n",
      "-- Epoch 118\n",
      "Norm: 9.78, NNZs: 1, Bias: 1.348983, T: 472, Avg. loss: 0.207366\n",
      "Total training time: 0.01 seconds.\n",
      "-- Epoch 119\n",
      "Norm: 9.78, NNZs: 1, Bias: 1.348924, T: 476, Avg. loss: 0.205542\n",
      "Total training time: 0.01 seconds.\n",
      "-- Epoch 120\n",
      "Norm: 9.78, NNZs: 1, Bias: 1.348860, T: 480, Avg. loss: 0.203846\n",
      "Total training time: 0.01 seconds.\n",
      "-- Epoch 121\n",
      "Norm: 9.78, NNZs: 1, Bias: 1.348790, T: 484, Avg. loss: 0.202268\n",
      "Total training time: 0.01 seconds.\n",
      "-- Epoch 122\n",
      "Norm: 9.78, NNZs: 1, Bias: 1.348715, T: 488, Avg. loss: 0.200800\n",
      "Total training time: 0.01 seconds.\n",
      "-- Epoch 123\n",
      "Norm: 9.78, NNZs: 1, Bias: 1.348634, T: 492, Avg. loss: 0.199433\n",
      "Total training time: 0.01 seconds.\n",
      "-- Epoch 124\n",
      "Norm: 9.78, NNZs: 1, Bias: 1.348549, T: 496, Avg. loss: 0.198159\n",
      "Total training time: 0.01 seconds.\n",
      "-- Epoch 125\n",
      "Norm: 9.79, NNZs: 1, Bias: 1.348459, T: 500, Avg. loss: 0.196973\n",
      "Total training time: 0.01 seconds.\n",
      "-- Epoch 126\n",
      "Norm: 9.79, NNZs: 1, Bias: 1.348365, T: 504, Avg. loss: 0.195868\n",
      "Total training time: 0.01 seconds.\n",
      "-- Epoch 127\n",
      "Norm: 9.79, NNZs: 1, Bias: 1.348266, T: 508, Avg. loss: 0.194837\n",
      "Total training time: 0.01 seconds.\n",
      "-- Epoch 128\n",
      "Norm: 9.79, NNZs: 1, Bias: 1.348164, T: 512, Avg. loss: 0.193875\n",
      "Total training time: 0.01 seconds.\n",
      "-- Epoch 129\n",
      "Norm: 9.79, NNZs: 1, Bias: 1.348057, T: 516, Avg. loss: 0.192978\n",
      "Total training time: 0.01 seconds.\n",
      "-- Epoch 130\n",
      "Norm: 9.79, NNZs: 1, Bias: 1.347947, T: 520, Avg. loss: 0.192140\n",
      "Total training time: 0.01 seconds.\n",
      "-- Epoch 131\n",
      "Norm: 9.79, NNZs: 1, Bias: 1.347833, T: 524, Avg. loss: 0.191357\n",
      "Total training time: 0.01 seconds.\n",
      "-- Epoch 132\n",
      "Norm: 9.79, NNZs: 1, Bias: 1.347715, T: 528, Avg. loss: 0.190626\n",
      "Total training time: 0.01 seconds.\n",
      "Convergence after 132 epochs took 0.01 seconds\n"
     ]
    },
    {
     "data": {
      "text/plain": [
       "SGDRegressor(eta0=0.001, max_iter=6000, verbose=1)"
      ]
     },
     "execution_count": 30,
     "metadata": {},
     "output_type": "execute_result"
    }
   ],
   "source": [
    "# 학습 시켜보기\n",
    "# fit()\n",
    "sgd_model.fit(data[['공부시간']], data['성적점수']) # sgd_model.fit(문제, 답)"
   ]
  },
  {
   "cell_type": "code",
   "execution_count": 31,
   "id": "d2656eb9",
   "metadata": {},
   "outputs": [
    {
     "name": "stdout",
     "output_type": "stream",
     "text": [
      "가중치: [9.79124314]\n",
      "절편: [1.34771511]\n"
     ]
    }
   ],
   "source": [
    "# Norm: 가중치, NNZs: 1, Bias: 절편, T: 528, Avg. loss: mse\n",
    "print('가중치:', sgd_model.coef_)\n",
    "print('절편:', sgd_model.intercept_)"
   ]
  },
  {
   "cell_type": "code",
   "execution_count": 32,
   "id": "985fa0b6",
   "metadata": {},
   "outputs": [
    {
     "name": "stderr",
     "output_type": "stream",
     "text": [
      "C:\\Users\\aischool\\anaconda3\\lib\\site-packages\\sklearn\\base.py:450: UserWarning: X does not have valid feature names, but SGDRegressor was fitted with feature names\n",
      "  warnings.warn(\n"
     ]
    },
    {
     "data": {
      "text/plain": [
       "array([69.88641712, 50.30393084])"
      ]
     },
     "execution_count": 32,
     "metadata": {},
     "output_type": "execute_result"
    }
   ],
   "source": [
    "# 예측시켜보기\n",
    "# predict\n",
    "sgd_model.predict([[7],[5]])"
   ]
  },
  {
   "cell_type": "markdown",
   "id": "65e08afc",
   "metadata": {},
   "source": [
    "### 다항회귀 실습\n",
    "- 선형모델의 수식에서 입력특성에 2차항이 포함된 경우\n",
    "- 고차항이 포함되면 데이터의 특성을 더 fit하게 맞출수 있어서 성능 개선의 여지가 있음\n",
    "- 선형 모델은 데이터가 많아질 수록 성능 좋아지는 특성, 이는 데이터가 많아질수록 모델이 데이터를 기억하거나 과대적합하기 어려워지기 때문"
   ]
  },
  {
   "cell_type": "code",
   "execution_count": 33,
   "id": "19560ef1",
   "metadata": {},
   "outputs": [],
   "source": [
    "from sklearn.datasets import load_boston # 보스턴 주택 가격 데이터"
   ]
  },
  {
   "cell_type": "code",
   "execution_count": 35,
   "id": "b053766e",
   "metadata": {},
   "outputs": [],
   "source": [
    "# 경고창 무시\n",
    "import warnings\n",
    "warnings.filterwarnings(action ='ignore')"
   ]
  },
  {
   "cell_type": "code",
   "execution_count": 36,
   "id": "2e70db4d",
   "metadata": {},
   "outputs": [],
   "source": [
    "boston = load_boston()"
   ]
  },
  {
   "cell_type": "code",
   "execution_count": 37,
   "id": "7b6b8249",
   "metadata": {},
   "outputs": [
    {
     "data": {
      "text/plain": [
       "{'data': array([[6.3200e-03, 1.8000e+01, 2.3100e+00, ..., 1.5300e+01, 3.9690e+02,\n",
       "         4.9800e+00],\n",
       "        [2.7310e-02, 0.0000e+00, 7.0700e+00, ..., 1.7800e+01, 3.9690e+02,\n",
       "         9.1400e+00],\n",
       "        [2.7290e-02, 0.0000e+00, 7.0700e+00, ..., 1.7800e+01, 3.9283e+02,\n",
       "         4.0300e+00],\n",
       "        ...,\n",
       "        [6.0760e-02, 0.0000e+00, 1.1930e+01, ..., 2.1000e+01, 3.9690e+02,\n",
       "         5.6400e+00],\n",
       "        [1.0959e-01, 0.0000e+00, 1.1930e+01, ..., 2.1000e+01, 3.9345e+02,\n",
       "         6.4800e+00],\n",
       "        [4.7410e-02, 0.0000e+00, 1.1930e+01, ..., 2.1000e+01, 3.9690e+02,\n",
       "         7.8800e+00]]),\n",
       " 'target': array([24. , 21.6, 34.7, 33.4, 36.2, 28.7, 22.9, 27.1, 16.5, 18.9, 15. ,\n",
       "        18.9, 21.7, 20.4, 18.2, 19.9, 23.1, 17.5, 20.2, 18.2, 13.6, 19.6,\n",
       "        15.2, 14.5, 15.6, 13.9, 16.6, 14.8, 18.4, 21. , 12.7, 14.5, 13.2,\n",
       "        13.1, 13.5, 18.9, 20. , 21. , 24.7, 30.8, 34.9, 26.6, 25.3, 24.7,\n",
       "        21.2, 19.3, 20. , 16.6, 14.4, 19.4, 19.7, 20.5, 25. , 23.4, 18.9,\n",
       "        35.4, 24.7, 31.6, 23.3, 19.6, 18.7, 16. , 22.2, 25. , 33. , 23.5,\n",
       "        19.4, 22. , 17.4, 20.9, 24.2, 21.7, 22.8, 23.4, 24.1, 21.4, 20. ,\n",
       "        20.8, 21.2, 20.3, 28. , 23.9, 24.8, 22.9, 23.9, 26.6, 22.5, 22.2,\n",
       "        23.6, 28.7, 22.6, 22. , 22.9, 25. , 20.6, 28.4, 21.4, 38.7, 43.8,\n",
       "        33.2, 27.5, 26.5, 18.6, 19.3, 20.1, 19.5, 19.5, 20.4, 19.8, 19.4,\n",
       "        21.7, 22.8, 18.8, 18.7, 18.5, 18.3, 21.2, 19.2, 20.4, 19.3, 22. ,\n",
       "        20.3, 20.5, 17.3, 18.8, 21.4, 15.7, 16.2, 18. , 14.3, 19.2, 19.6,\n",
       "        23. , 18.4, 15.6, 18.1, 17.4, 17.1, 13.3, 17.8, 14. , 14.4, 13.4,\n",
       "        15.6, 11.8, 13.8, 15.6, 14.6, 17.8, 15.4, 21.5, 19.6, 15.3, 19.4,\n",
       "        17. , 15.6, 13.1, 41.3, 24.3, 23.3, 27. , 50. , 50. , 50. , 22.7,\n",
       "        25. , 50. , 23.8, 23.8, 22.3, 17.4, 19.1, 23.1, 23.6, 22.6, 29.4,\n",
       "        23.2, 24.6, 29.9, 37.2, 39.8, 36.2, 37.9, 32.5, 26.4, 29.6, 50. ,\n",
       "        32. , 29.8, 34.9, 37. , 30.5, 36.4, 31.1, 29.1, 50. , 33.3, 30.3,\n",
       "        34.6, 34.9, 32.9, 24.1, 42.3, 48.5, 50. , 22.6, 24.4, 22.5, 24.4,\n",
       "        20. , 21.7, 19.3, 22.4, 28.1, 23.7, 25. , 23.3, 28.7, 21.5, 23. ,\n",
       "        26.7, 21.7, 27.5, 30.1, 44.8, 50. , 37.6, 31.6, 46.7, 31.5, 24.3,\n",
       "        31.7, 41.7, 48.3, 29. , 24. , 25.1, 31.5, 23.7, 23.3, 22. , 20.1,\n",
       "        22.2, 23.7, 17.6, 18.5, 24.3, 20.5, 24.5, 26.2, 24.4, 24.8, 29.6,\n",
       "        42.8, 21.9, 20.9, 44. , 50. , 36. , 30.1, 33.8, 43.1, 48.8, 31. ,\n",
       "        36.5, 22.8, 30.7, 50. , 43.5, 20.7, 21.1, 25.2, 24.4, 35.2, 32.4,\n",
       "        32. , 33.2, 33.1, 29.1, 35.1, 45.4, 35.4, 46. , 50. , 32.2, 22. ,\n",
       "        20.1, 23.2, 22.3, 24.8, 28.5, 37.3, 27.9, 23.9, 21.7, 28.6, 27.1,\n",
       "        20.3, 22.5, 29. , 24.8, 22. , 26.4, 33.1, 36.1, 28.4, 33.4, 28.2,\n",
       "        22.8, 20.3, 16.1, 22.1, 19.4, 21.6, 23.8, 16.2, 17.8, 19.8, 23.1,\n",
       "        21. , 23.8, 23.1, 20.4, 18.5, 25. , 24.6, 23. , 22.2, 19.3, 22.6,\n",
       "        19.8, 17.1, 19.4, 22.2, 20.7, 21.1, 19.5, 18.5, 20.6, 19. , 18.7,\n",
       "        32.7, 16.5, 23.9, 31.2, 17.5, 17.2, 23.1, 24.5, 26.6, 22.9, 24.1,\n",
       "        18.6, 30.1, 18.2, 20.6, 17.8, 21.7, 22.7, 22.6, 25. , 19.9, 20.8,\n",
       "        16.8, 21.9, 27.5, 21.9, 23.1, 50. , 50. , 50. , 50. , 50. , 13.8,\n",
       "        13.8, 15. , 13.9, 13.3, 13.1, 10.2, 10.4, 10.9, 11.3, 12.3,  8.8,\n",
       "         7.2, 10.5,  7.4, 10.2, 11.5, 15.1, 23.2,  9.7, 13.8, 12.7, 13.1,\n",
       "        12.5,  8.5,  5. ,  6.3,  5.6,  7.2, 12.1,  8.3,  8.5,  5. , 11.9,\n",
       "        27.9, 17.2, 27.5, 15. , 17.2, 17.9, 16.3,  7. ,  7.2,  7.5, 10.4,\n",
       "         8.8,  8.4, 16.7, 14.2, 20.8, 13.4, 11.7,  8.3, 10.2, 10.9, 11. ,\n",
       "         9.5, 14.5, 14.1, 16.1, 14.3, 11.7, 13.4,  9.6,  8.7,  8.4, 12.8,\n",
       "        10.5, 17.1, 18.4, 15.4, 10.8, 11.8, 14.9, 12.6, 14.1, 13. , 13.4,\n",
       "        15.2, 16.1, 17.8, 14.9, 14.1, 12.7, 13.5, 14.9, 20. , 16.4, 17.7,\n",
       "        19.5, 20.2, 21.4, 19.9, 19. , 19.1, 19.1, 20.1, 19.9, 19.6, 23.2,\n",
       "        29.8, 13.8, 13.3, 16.7, 12. , 14.6, 21.4, 23. , 23.7, 25. , 21.8,\n",
       "        20.6, 21.2, 19.1, 20.6, 15.2,  7. ,  8.1, 13.6, 20.1, 21.8, 24.5,\n",
       "        23.1, 19.7, 18.3, 21.2, 17.5, 16.8, 22.4, 20.6, 23.9, 22. , 11.9]),\n",
       " 'feature_names': array(['CRIM', 'ZN', 'INDUS', 'CHAS', 'NOX', 'RM', 'AGE', 'DIS', 'RAD',\n",
       "        'TAX', 'PTRATIO', 'B', 'LSTAT'], dtype='<U7'),\n",
       " 'DESCR': \".. _boston_dataset:\\n\\nBoston house prices dataset\\n---------------------------\\n\\n**Data Set Characteristics:**  \\n\\n    :Number of Instances: 506 \\n\\n    :Number of Attributes: 13 numeric/categorical predictive. Median Value (attribute 14) is usually the target.\\n\\n    :Attribute Information (in order):\\n        - CRIM     per capita crime rate by town\\n        - ZN       proportion of residential land zoned for lots over 25,000 sq.ft.\\n        - INDUS    proportion of non-retail business acres per town\\n        - CHAS     Charles River dummy variable (= 1 if tract bounds river; 0 otherwise)\\n        - NOX      nitric oxides concentration (parts per 10 million)\\n        - RM       average number of rooms per dwelling\\n        - AGE      proportion of owner-occupied units built prior to 1940\\n        - DIS      weighted distances to five Boston employment centres\\n        - RAD      index of accessibility to radial highways\\n        - TAX      full-value property-tax rate per $10,000\\n        - PTRATIO  pupil-teacher ratio by town\\n        - B        1000(Bk - 0.63)^2 where Bk is the proportion of black people by town\\n        - LSTAT    % lower status of the population\\n        - MEDV     Median value of owner-occupied homes in $1000's\\n\\n    :Missing Attribute Values: None\\n\\n    :Creator: Harrison, D. and Rubinfeld, D.L.\\n\\nThis is a copy of UCI ML housing dataset.\\nhttps://archive.ics.uci.edu/ml/machine-learning-databases/housing/\\n\\n\\nThis dataset was taken from the StatLib library which is maintained at Carnegie Mellon University.\\n\\nThe Boston house-price data of Harrison, D. and Rubinfeld, D.L. 'Hedonic\\nprices and the demand for clean air', J. Environ. Economics & Management,\\nvol.5, 81-102, 1978.   Used in Belsley, Kuh & Welsch, 'Regression diagnostics\\n...', Wiley, 1980.   N.B. Various transformations are used in the table on\\npages 244-261 of the latter.\\n\\nThe Boston house-price data has been used in many machine learning papers that address regression\\nproblems.   \\n     \\n.. topic:: References\\n\\n   - Belsley, Kuh & Welsch, 'Regression diagnostics: Identifying Influential Data and Sources of Collinearity', Wiley, 1980. 244-261.\\n   - Quinlan,R. (1993). Combining Instance-Based and Model-Based Learning. In Proceedings on the Tenth International Conference of Machine Learning, 236-243, University of Massachusetts, Amherst. Morgan Kaufmann.\\n\",\n",
       " 'filename': 'boston_house_prices.csv',\n",
       " 'data_module': 'sklearn.datasets.data'}"
      ]
     },
     "execution_count": 37,
     "metadata": {},
     "output_type": "execute_result"
    }
   ],
   "source": [
    "boston # 번치객체"
   ]
  },
  {
   "cell_type": "code",
   "execution_count": 39,
   "id": "779cfd05",
   "metadata": {},
   "outputs": [
    {
     "data": {
      "text/plain": [
       "dict_keys(['data', 'target', 'feature_names', 'DESCR', 'filename', 'data_module'])"
      ]
     },
     "execution_count": 39,
     "metadata": {},
     "output_type": "execute_result"
    }
   ],
   "source": [
    "# 번치 객체 내부의 키값 확인\n",
    "boston.keys()\n",
    "\n",
    "# data(필수) : 문제 데이터(특성, 피처, 독립변수)\n",
    "# targer(필수) : 답 데이터(label, 종속변수)"
   ]
  },
  {
   "cell_type": "code",
   "execution_count": 41,
   "id": "0adea92a",
   "metadata": {},
   "outputs": [
    {
     "name": "stdout",
     "output_type": "stream",
     "text": [
      ".. _boston_dataset:\n",
      "\n",
      "Boston house prices dataset\n",
      "---------------------------\n",
      "\n",
      "**Data Set Characteristics:**  \n",
      "\n",
      "    :Number of Instances: 506 \n",
      "\n",
      "    :Number of Attributes: 13 numeric/categorical predictive. Median Value (attribute 14) is usually the target.\n",
      "\n",
      "    :Attribute Information (in order):\n",
      "        - CRIM     per capita crime rate by town\n",
      "        - ZN       proportion of residential land zoned for lots over 25,000 sq.ft.\n",
      "        - INDUS    proportion of non-retail business acres per town\n",
      "        - CHAS     Charles River dummy variable (= 1 if tract bounds river; 0 otherwise)\n",
      "        - NOX      nitric oxides concentration (parts per 10 million)\n",
      "        - RM       average number of rooms per dwelling\n",
      "        - AGE      proportion of owner-occupied units built prior to 1940\n",
      "        - DIS      weighted distances to five Boston employment centres\n",
      "        - RAD      index of accessibility to radial highways\n",
      "        - TAX      full-value property-tax rate per $10,000\n",
      "        - PTRATIO  pupil-teacher ratio by town\n",
      "        - B        1000(Bk - 0.63)^2 where Bk is the proportion of black people by town\n",
      "        - LSTAT    % lower status of the population\n",
      "        - MEDV     Median value of owner-occupied homes in $1000's\n",
      "\n",
      "    :Missing Attribute Values: None\n",
      "\n",
      "    :Creator: Harrison, D. and Rubinfeld, D.L.\n",
      "\n",
      "This is a copy of UCI ML housing dataset.\n",
      "https://archive.ics.uci.edu/ml/machine-learning-databases/housing/\n",
      "\n",
      "\n",
      "This dataset was taken from the StatLib library which is maintained at Carnegie Mellon University.\n",
      "\n",
      "The Boston house-price data of Harrison, D. and Rubinfeld, D.L. 'Hedonic\n",
      "prices and the demand for clean air', J. Environ. Economics & Management,\n",
      "vol.5, 81-102, 1978.   Used in Belsley, Kuh & Welsch, 'Regression diagnostics\n",
      "...', Wiley, 1980.   N.B. Various transformations are used in the table on\n",
      "pages 244-261 of the latter.\n",
      "\n",
      "The Boston house-price data has been used in many machine learning papers that address regression\n",
      "problems.   \n",
      "     \n",
      ".. topic:: References\n",
      "\n",
      "   - Belsley, Kuh & Welsch, 'Regression diagnostics: Identifying Influential Data and Sources of Collinearity', Wiley, 1980. 244-261.\n",
      "   - Quinlan,R. (1993). Combining Instance-Based and Model-Based Learning. In Proceedings on the Tenth International Conference of Machine Learning, 236-243, University of Massachusetts, Amherst. Morgan Kaufmann.\n",
      "\n"
     ]
    }
   ],
   "source": [
    "# 데이터 정보 확인\n",
    "print(boston.DESCR)"
   ]
  },
  {
   "cell_type": "markdown",
   "id": "ab651c65",
   "metadata": {},
   "source": [
    "#### 데이터 분할"
   ]
  },
  {
   "cell_type": "code",
   "execution_count": 42,
   "id": "1b44c895",
   "metadata": {},
   "outputs": [
    {
     "name": "stdout",
     "output_type": "stream",
     "text": [
      "훈련용 문제: (354, 13)\n",
      "훈련용 답: (354,)\n",
      "테스트용 문제: (152, 13)\n",
      "테스트용 답: (152,)\n"
     ]
    }
   ],
   "source": [
    "# 훈련용 데이터셋과 테스트용 데이터 셋\n",
    "# 테스트 크기 30%\n",
    "# 랜덤 고정값 0\n",
    "from sklearn.model_selection import train_test_split\n",
    "X_train,X_test,y_train,y_test = train_test_split(boston.data,\n",
    "                                                 boston.target,\n",
    "                                                 test_size =0.3,\n",
    "                                                 random_state =0)\n",
    "\n",
    "# 크기 확인\n",
    "print('훈련용 문제:', X_train.shape)\n",
    "print('훈련용 답:', y_train.shape)\n",
    "print('테스트용 문제:', X_test.shape)\n",
    "print('테스트용 답:', y_test.shape)"
   ]
  },
  {
   "cell_type": "markdown",
   "id": "27845c73",
   "metadata": {},
   "source": [
    "특성 확장전의 모델 성능 확인 "
   ]
  },
  {
   "cell_type": "code",
   "execution_count": 44,
   "id": "7bc63dc5",
   "metadata": {},
   "outputs": [],
   "source": [
    "linear_model = LinearRegression()"
   ]
  },
  {
   "cell_type": "code",
   "execution_count": 45,
   "id": "40e41d2e",
   "metadata": {},
   "outputs": [
    {
     "data": {
      "text/plain": [
       "LinearRegression()"
      ]
     },
     "execution_count": 45,
     "metadata": {},
     "output_type": "execute_result"
    }
   ],
   "source": [
    "# 학습\n",
    "# fit(훈련문제, 훈련답)\n",
    "linear_model.fit(X_train,y_train)"
   ]
  },
  {
   "cell_type": "code",
   "execution_count": 47,
   "id": "883beae3",
   "metadata": {},
   "outputs": [
    {
     "data": {
      "text/plain": [
       "0.6733825506400171"
      ]
     },
     "execution_count": 47,
     "metadata": {},
     "output_type": "execute_result"
    }
   ],
   "source": [
    "# r2_score 값 출력해보기\n",
    "# 평가\n",
    "linear_model.score(X_test,y_test) # R squared, r2_score\n"
   ]
  },
  {
   "cell_type": "markdown",
   "id": "bc4a4ffa",
   "metadata": {},
   "source": [
    "#### 다항회귀 구현\n",
    "- 특성확장의 개념중 특성곱을 통해서 다항식을 만들어줌"
   ]
  },
  {
   "cell_type": "code",
   "execution_count": 55,
   "id": "d867d7bf",
   "metadata": {},
   "outputs": [
    {
     "data": {
      "text/plain": [
       "PRICE      1.000000\n",
       "LSTAT      0.743289\n",
       "RM         0.708978\n",
       "PTRATIO    0.564733\n",
       "INDUS      0.504361\n",
       "TAX        0.481319\n",
       "NOX        0.426690\n",
       "AGE        0.390942\n",
       "RAD        0.389533\n",
       "CRIM       0.388182\n",
       "ZN         0.386115\n",
       "B          0.324437\n",
       "DIS        0.245634\n",
       "CHAS       0.162395\n",
       "Name: PRICE, dtype: float64"
      ]
     },
     "execution_count": 55,
     "metadata": {},
     "output_type": "execute_result"
    }
   ],
   "source": [
    "# 집가격과 상관관계가 높은 컬럼을 특성확장 해보자\n",
    "data_df = pd.DataFrame(X_train, columns = boston.feature_names)\n",
    "data_df['PRICE']= y_train\n",
    "data_df\n",
    "\n",
    "# corr\n",
    "# 상관계수\n",
    "# -1 ~ 1\n",
    "# 0에 가까울수록 상관x, -1과 1에 가까울수록 상대적으로 상관o\n",
    "data_df.corr()['PRICE'].abs().sort_values(ascending = False) # 내림차순"
   ]
  },
  {
   "cell_type": "code",
   "execution_count": 57,
   "id": "2f3f6143",
   "metadata": {},
   "outputs": [
    {
     "data": {
      "text/html": [
       "<div>\n",
       "<style scoped>\n",
       "    .dataframe tbody tr th:only-of-type {\n",
       "        vertical-align: middle;\n",
       "    }\n",
       "\n",
       "    .dataframe tbody tr th {\n",
       "        vertical-align: top;\n",
       "    }\n",
       "\n",
       "    .dataframe thead th {\n",
       "        text-align: right;\n",
       "    }\n",
       "</style>\n",
       "<table border=\"1\" class=\"dataframe\">\n",
       "  <thead>\n",
       "    <tr style=\"text-align: right;\">\n",
       "      <th></th>\n",
       "      <th>CRIM</th>\n",
       "      <th>ZN</th>\n",
       "      <th>INDUS</th>\n",
       "      <th>CHAS</th>\n",
       "      <th>NOX</th>\n",
       "      <th>RM</th>\n",
       "      <th>AGE</th>\n",
       "      <th>DIS</th>\n",
       "      <th>RAD</th>\n",
       "      <th>TAX</th>\n",
       "      <th>PTRATIO</th>\n",
       "      <th>B</th>\n",
       "      <th>LSTAT</th>\n",
       "    </tr>\n",
       "  </thead>\n",
       "  <tbody>\n",
       "    <tr>\n",
       "      <th>0</th>\n",
       "      <td>1.62864</td>\n",
       "      <td>0.0</td>\n",
       "      <td>21.89</td>\n",
       "      <td>0.0</td>\n",
       "      <td>0.624</td>\n",
       "      <td>5.019</td>\n",
       "      <td>100.0</td>\n",
       "      <td>1.4394</td>\n",
       "      <td>4.0</td>\n",
       "      <td>437.0</td>\n",
       "      <td>21.2</td>\n",
       "      <td>396.90</td>\n",
       "      <td>34.41</td>\n",
       "    </tr>\n",
       "    <tr>\n",
       "      <th>1</th>\n",
       "      <td>0.11460</td>\n",
       "      <td>20.0</td>\n",
       "      <td>6.96</td>\n",
       "      <td>0.0</td>\n",
       "      <td>0.464</td>\n",
       "      <td>6.538</td>\n",
       "      <td>58.7</td>\n",
       "      <td>3.9175</td>\n",
       "      <td>3.0</td>\n",
       "      <td>223.0</td>\n",
       "      <td>18.6</td>\n",
       "      <td>394.96</td>\n",
       "      <td>7.73</td>\n",
       "    </tr>\n",
       "    <tr>\n",
       "      <th>2</th>\n",
       "      <td>0.55778</td>\n",
       "      <td>0.0</td>\n",
       "      <td>21.89</td>\n",
       "      <td>0.0</td>\n",
       "      <td>0.624</td>\n",
       "      <td>6.335</td>\n",
       "      <td>98.2</td>\n",
       "      <td>2.1107</td>\n",
       "      <td>4.0</td>\n",
       "      <td>437.0</td>\n",
       "      <td>21.2</td>\n",
       "      <td>394.67</td>\n",
       "      <td>16.96</td>\n",
       "    </tr>\n",
       "  </tbody>\n",
       "</table>\n",
       "</div>"
      ],
      "text/plain": [
       "      CRIM    ZN  INDUS  CHAS    NOX     RM    AGE     DIS  RAD    TAX  \\\n",
       "0  1.62864   0.0  21.89   0.0  0.624  5.019  100.0  1.4394  4.0  437.0   \n",
       "1  0.11460  20.0   6.96   0.0  0.464  6.538   58.7  3.9175  3.0  223.0   \n",
       "2  0.55778   0.0  21.89   0.0  0.624  6.335   98.2  2.1107  4.0  437.0   \n",
       "\n",
       "   PTRATIO       B  LSTAT  \n",
       "0     21.2  396.90  34.41  \n",
       "1     18.6  394.96   7.73  \n",
       "2     21.2  394.67  16.96  "
      ]
     },
     "metadata": {},
     "output_type": "display_data"
    },
    {
     "data": {
      "text/html": [
       "<div>\n",
       "<style scoped>\n",
       "    .dataframe tbody tr th:only-of-type {\n",
       "        vertical-align: middle;\n",
       "    }\n",
       "\n",
       "    .dataframe tbody tr th {\n",
       "        vertical-align: top;\n",
       "    }\n",
       "\n",
       "    .dataframe thead th {\n",
       "        text-align: right;\n",
       "    }\n",
       "</style>\n",
       "<table border=\"1\" class=\"dataframe\">\n",
       "  <thead>\n",
       "    <tr style=\"text-align: right;\">\n",
       "      <th></th>\n",
       "      <th>CRIM</th>\n",
       "      <th>ZN</th>\n",
       "      <th>INDUS</th>\n",
       "      <th>CHAS</th>\n",
       "      <th>NOX</th>\n",
       "      <th>RM</th>\n",
       "      <th>AGE</th>\n",
       "      <th>DIS</th>\n",
       "      <th>RAD</th>\n",
       "      <th>TAX</th>\n",
       "      <th>PTRATIO</th>\n",
       "      <th>B</th>\n",
       "      <th>LSTAT</th>\n",
       "    </tr>\n",
       "  </thead>\n",
       "  <tbody>\n",
       "    <tr>\n",
       "      <th>0</th>\n",
       "      <td>0.06724</td>\n",
       "      <td>0.0</td>\n",
       "      <td>3.24</td>\n",
       "      <td>0.0</td>\n",
       "      <td>0.460</td>\n",
       "      <td>6.333</td>\n",
       "      <td>17.2</td>\n",
       "      <td>5.2146</td>\n",
       "      <td>4.0</td>\n",
       "      <td>430.0</td>\n",
       "      <td>16.9</td>\n",
       "      <td>375.21</td>\n",
       "      <td>7.34</td>\n",
       "    </tr>\n",
       "    <tr>\n",
       "      <th>1</th>\n",
       "      <td>9.23230</td>\n",
       "      <td>0.0</td>\n",
       "      <td>18.10</td>\n",
       "      <td>0.0</td>\n",
       "      <td>0.631</td>\n",
       "      <td>6.216</td>\n",
       "      <td>100.0</td>\n",
       "      <td>1.1691</td>\n",
       "      <td>24.0</td>\n",
       "      <td>666.0</td>\n",
       "      <td>20.2</td>\n",
       "      <td>366.15</td>\n",
       "      <td>9.53</td>\n",
       "    </tr>\n",
       "    <tr>\n",
       "      <th>2</th>\n",
       "      <td>0.11425</td>\n",
       "      <td>0.0</td>\n",
       "      <td>13.89</td>\n",
       "      <td>1.0</td>\n",
       "      <td>0.550</td>\n",
       "      <td>6.373</td>\n",
       "      <td>92.4</td>\n",
       "      <td>3.3633</td>\n",
       "      <td>5.0</td>\n",
       "      <td>276.0</td>\n",
       "      <td>16.4</td>\n",
       "      <td>393.74</td>\n",
       "      <td>10.50</td>\n",
       "    </tr>\n",
       "  </tbody>\n",
       "</table>\n",
       "</div>"
      ],
      "text/plain": [
       "      CRIM   ZN  INDUS  CHAS    NOX     RM    AGE     DIS   RAD    TAX  \\\n",
       "0  0.06724  0.0   3.24   0.0  0.460  6.333   17.2  5.2146   4.0  430.0   \n",
       "1  9.23230  0.0  18.10   0.0  0.631  6.216  100.0  1.1691  24.0  666.0   \n",
       "2  0.11425  0.0  13.89   1.0  0.550  6.373   92.4  3.3633   5.0  276.0   \n",
       "\n",
       "   PTRATIO       B  LSTAT  \n",
       "0     16.9  375.21   7.34  \n",
       "1     20.2  366.15   9.53  \n",
       "2     16.4  393.74  10.50  "
      ]
     },
     "metadata": {},
     "output_type": "display_data"
    }
   ],
   "source": [
    "# 데이터 프레임으로 X_train, X-test 변환하기 - 인덱싱 편의\n",
    "X_train = pd.DataFrame(X_train, columns = boston.feature_names)\n",
    "X_test = pd.DataFrame(X_test, columns = boston.feature_names)\n",
    "display(X_train.head(3))\n",
    "display(X_test.head(3))"
   ]
  },
  {
   "cell_type": "markdown",
   "id": "e1e2f107",
   "metadata": {},
   "source": [
    "- 상관관계가 높은 특성에 대해 확장해보기"
   ]
  },
  {
   "cell_type": "code",
   "execution_count": 61,
   "id": "344046c9",
   "metadata": {},
   "outputs": [
    {
     "data": {
      "image/png": "[encoded data removed]",
      "text/plain": [
       "<Figure size 432x288 with 1 Axes>"
      ]
     },
     "metadata": {
      "needs_background": "light"
     },
     "output_type": "display_data"
    }
   ],
   "source": [
    "# 확장 전 ) 먼저 LSTAT(하위계층비율) 특성만을 가지고 학습 결과 시각화\n",
    "model = LinearRegression()\n",
    "model.fit(X_train[['LSTAT']], y_train)\n",
    "pre = model.predict(X_train[['LSTAT']])\n",
    "\n",
    "# 산점도 그래프 표현\n",
    "plt.scatter(X_train['LSTAT'], y_train)\n",
    "plt.scatter(X_train['LSTAT'], pre, color ='red')\n",
    "plt.show() "
   ]
  },
  {
   "cell_type": "code",
   "execution_count": 65,
   "id": "5c03cd24",
   "metadata": {},
   "outputs": [
    {
     "data": {
      "image/png": "[encoded data removed]",
      "text/plain": [
       "<Figure size 432x288 with 1 Axes>"
      ]
     },
     "metadata": {
      "needs_background": "light"
     },
     "output_type": "display_data"
    }
   ],
   "source": [
    "# 확장 후 ) LSTAT 특성곱을 통한 데이터를 가지고 학습 결과 시각화\n",
    "\n",
    "X_train['LSTAT x LSTAT'] = X_train['LSTAT']*X_train['LSTAT']\n",
    "model2 = LinearRegression()\n",
    "model2.fit(X_train[['LSTAT', 'LSTAT x LSTAT']], y_train)\n",
    "pre2 = model2.predict(X_train[['LSTAT', 'LSTAT x LSTAT']])\n",
    "pre2\n",
    "\n",
    "# 산점도 그래프 시각화\n",
    "plt.scatter(X_train['LSTAT'], y_train)\n",
    "plt.scatter(X_train['LSTAT'], pre2, color ='red')\n",
    "plt.show()"
   ]
  },
  {
   "cell_type": "code",
   "execution_count": 66,
   "id": "0a1010c2",
   "metadata": {},
   "outputs": [
    {
     "data": {
      "text/plain": [
       "0.6978697736472481"
      ]
     },
     "execution_count": 66,
     "metadata": {},
     "output_type": "execute_result"
    }
   ],
   "source": [
    "# LSTAT 특성확장 -> X_test 적용\n",
    "X_test['LSTAT x LSTAT'] = X_test['LSTAT'] * X_test['LSTAT']\n",
    "X_test['LSTAT x LSTAT']\n",
    "\n",
    "# 학습, 평가\n",
    "linear_model2 = LinearRegression()\n",
    "linear_model2.fit(X_train, y_train)\n",
    "linear_model2.score(X_test, y_test)"
   ]
  },
  {
   "cell_type": "markdown",
   "id": "a06ed0ae",
   "metadata": {},
   "source": [
    "- RM 특성 확장 전, 후 비교\n",
    "- X_test에도 반영하여 최종평가 확인(성능이 개선됐을까?)"
   ]
  },
  {
   "cell_type": "code",
   "execution_count": 68,
   "id": "7e1da410",
   "metadata": {},
   "outputs": [
    {
     "data": {
      "image/png": "[encoded data removed]",
      "text/plain": [
       "<Figure size 432x288 with 1 Axes>"
      ]
     },
     "metadata": {
      "needs_background": "light"
     },
     "output_type": "display_data"
    }
   ],
   "source": [
    "# 확장 전 ) 먼저 RM(하위계층비율) 특성만을 가지고 학습 결과 시각화\n",
    "model3 = LinearRegression()\n",
    "model3.fit(X_train[['RM']], y_train)\n",
    "pre3 = model3.predict(X_train[['RM']])\n",
    "\n",
    "# 산점도 그래프 표현\n",
    "plt.scatter(X_train['RM'], y_train)\n",
    "plt.scatter(X_train['RM'], pre3, color ='red')\n",
    "plt.show() "
   ]
  },
  {
   "cell_type": "code",
   "execution_count": 69,
   "id": "e02a7b89",
   "metadata": {},
   "outputs": [
    {
     "data": {
      "image/png": "[encoded data removed]",
      "text/plain": [
       "<Figure size 432x288 with 1 Axes>"
      ]
     },
     "metadata": {
      "needs_background": "light"
     },
     "output_type": "display_data"
    }
   ],
   "source": [
    "# 확장 후 ) RM 특성곱을 통한 데이터를 가지고 학습 결과 시각화\n",
    "\n",
    "X_train['RM x RM'] = X_train['RM']*X_train['RM']\n",
    "model4 = LinearRegression()\n",
    "model4.fit(X_train[['RM', 'RM x RM']], y_train)\n",
    "pre4 = model4.predict(X_train[['RM', 'RM x RM']])\n",
    "pre4\n",
    "\n",
    "# 산점도 그래프 시각화\n",
    "plt.scatter(X_train['RM'], y_train)\n",
    "plt.scatter(X_train['RM'], pre4, color ='red')\n",
    "plt.show()"
   ]
  },
  {
   "cell_type": "code",
   "execution_count": 70,
   "id": "cb3dd1d6",
   "metadata": {},
   "outputs": [
    {
     "data": {
      "text/plain": [
       "0.7460776611187943"
      ]
     },
     "execution_count": 70,
     "metadata": {},
     "output_type": "execute_result"
    }
   ],
   "source": [
    "# RM 특성확장 -> X_test 적용\n",
    "X_test['RM x RM'] = X_test['RM'] * X_test['RM']\n",
    "X_test['RM x RM']\n",
    "\n",
    "# 학습, 평가\n",
    "linear_model3 = LinearRegression()\n",
    "linear_model3.fit(X_train, y_train)\n",
    "linear_model3.score(X_test, y_test) # 75%"
   ]
  },
  {
   "cell_type": "markdown",
   "id": "e408f654",
   "metadata": {},
   "source": [
    "- 모든 데이터 특성 확장해보기"
   ]
  },
  {
   "cell_type": "code",
   "execution_count": 71,
   "id": "7244d634",
   "metadata": {},
   "outputs": [],
   "source": [
    "# 개별 특성 확장 컬럼은 삭제하고 진행\n",
    "X_train.drop(['LSTAT x LSTAT', 'RM x RM'], axis=1, inplace = True)\n",
    "X_test.drop(['LSTAT x LSTAT', 'RM x RM'], axis=1, inplace = True)"
   ]
  },
  {
   "cell_type": "code",
   "execution_count": 72,
   "id": "bea6f45c",
   "metadata": {},
   "outputs": [
    {
     "name": "stdout",
     "output_type": "stream",
     "text": [
      "<class 'pandas.core.frame.DataFrame'>\n",
      "RangeIndex: 354 entries, 0 to 353\n",
      "Data columns (total 13 columns):\n",
      " #   Column   Non-Null Count  Dtype  \n",
      "---  ------   --------------  -----  \n",
      " 0   CRIM     354 non-null    float64\n",
      " 1   ZN       354 non-null    float64\n",
      " 2   INDUS    354 non-null    float64\n",
      " 3   CHAS     354 non-null    float64\n",
      " 4   NOX      354 non-null    float64\n",
      " 5   RM       354 non-null    float64\n",
      " 6   AGE      354 non-null    float64\n",
      " 7   DIS      354 non-null    float64\n",
      " 8   RAD      354 non-null    float64\n",
      " 9   TAX      354 non-null    float64\n",
      " 10  PTRATIO  354 non-null    float64\n",
      " 11  B        354 non-null    float64\n",
      " 12  LSTAT    354 non-null    float64\n",
      "dtypes: float64(13)\n",
      "memory usage: 36.1 KB\n",
      "<class 'pandas.core.frame.DataFrame'>\n",
      "RangeIndex: 152 entries, 0 to 151\n",
      "Data columns (total 13 columns):\n",
      " #   Column   Non-Null Count  Dtype  \n",
      "---  ------   --------------  -----  \n",
      " 0   CRIM     152 non-null    float64\n",
      " 1   ZN       152 non-null    float64\n",
      " 2   INDUS    152 non-null    float64\n",
      " 3   CHAS     152 non-null    float64\n",
      " 4   NOX      152 non-null    float64\n",
      " 5   RM       152 non-null    float64\n",
      " 6   AGE      152 non-null    float64\n",
      " 7   DIS      152 non-null    float64\n",
      " 8   RAD      152 non-null    float64\n",
      " 9   TAX      152 non-null    float64\n",
      " 10  PTRATIO  152 non-null    float64\n",
      " 11  B        152 non-null    float64\n",
      " 12  LSTAT    152 non-null    float64\n",
      "dtypes: float64(13)\n",
      "memory usage: 15.6 KB\n"
     ]
    }
   ],
   "source": [
    "X_train.info()\n",
    "X_test.info()"
   ]
  },
  {
   "cell_type": "code",
   "execution_count": null,
   "id": "c93e6d79",
   "metadata": {},
   "outputs": [],
   "source": [
    "# copy() :  원본복사 -> 깊은복사\n",
    "# X.copy() 복사해서 z담기\n",
    "# z = X 위치 복사 -> 얕은 복사, X 데이터 변할때 z변함"
   ]
  },
  {
   "cell_type": "code",
   "execution_count": 73,
   "id": "eaba924f",
   "metadata": {},
   "outputs": [],
   "source": [
    "extended_X_train = X_train.copy()"
   ]
  },
  {
   "cell_type": "code",
   "execution_count": 75,
   "id": "03badf0e",
   "metadata": {},
   "outputs": [],
   "source": [
    "for col1 in X_train.columns: # 컬럼의 갯수만큼 반복, 13번 반복\n",
    "    for col2 in X_train.columns: # 13번 반복\n",
    "        extended_X_train[col1+'x'+col2] = X_train[col1] * X_train[col2]"
   ]
  },
  {
   "cell_type": "code",
   "execution_count": 76,
   "id": "a8a82052",
   "metadata": {},
   "outputs": [
    {
     "data": {
      "text/html": [
       "<div>\n",
       "<style scoped>\n",
       "    .dataframe tbody tr th:only-of-type {\n",
       "        vertical-align: middle;\n",
       "    }\n",
       "\n",
       "    .dataframe tbody tr th {\n",
       "        vertical-align: top;\n",
       "    }\n",
       "\n",
       "    .dataframe thead th {\n",
       "        text-align: right;\n",
       "    }\n",
       "</style>\n",
       "<table border=\"1\" class=\"dataframe\">\n",
       "  <thead>\n",
       "    <tr style=\"text-align: right;\">\n",
       "      <th></th>\n",
       "      <th>CRIM</th>\n",
       "      <th>ZN</th>\n",
       "      <th>INDUS</th>\n",
       "      <th>CHAS</th>\n",
       "      <th>NOX</th>\n",
       "      <th>RM</th>\n",
       "      <th>AGE</th>\n",
       "      <th>DIS</th>\n",
       "      <th>RAD</th>\n",
       "      <th>TAX</th>\n",
       "      <th>...</th>\n",
       "      <th>LSTATxCHAS</th>\n",
       "      <th>LSTATxNOX</th>\n",
       "      <th>LSTATxRM</th>\n",
       "      <th>LSTATxAGE</th>\n",
       "      <th>LSTATxDIS</th>\n",
       "      <th>LSTATxRAD</th>\n",
       "      <th>LSTATxTAX</th>\n",
       "      <th>LSTATxPTRATIO</th>\n",
       "      <th>LSTATxB</th>\n",
       "      <th>LSTATxLSTAT</th>\n",
       "    </tr>\n",
       "  </thead>\n",
       "  <tbody>\n",
       "    <tr>\n",
       "      <th>0</th>\n",
       "      <td>1.62864</td>\n",
       "      <td>0.0</td>\n",
       "      <td>21.89</td>\n",
       "      <td>0.0</td>\n",
       "      <td>0.624</td>\n",
       "      <td>5.019</td>\n",
       "      <td>100.0</td>\n",
       "      <td>1.4394</td>\n",
       "      <td>4.0</td>\n",
       "      <td>437.0</td>\n",
       "      <td>...</td>\n",
       "      <td>0.0</td>\n",
       "      <td>21.47184</td>\n",
       "      <td>172.70379</td>\n",
       "      <td>3441.000</td>\n",
       "      <td>49.529754</td>\n",
       "      <td>137.64</td>\n",
       "      <td>15037.17</td>\n",
       "      <td>729.492</td>\n",
       "      <td>13657.3290</td>\n",
       "      <td>1184.0481</td>\n",
       "    </tr>\n",
       "    <tr>\n",
       "      <th>1</th>\n",
       "      <td>0.11460</td>\n",
       "      <td>20.0</td>\n",
       "      <td>6.96</td>\n",
       "      <td>0.0</td>\n",
       "      <td>0.464</td>\n",
       "      <td>6.538</td>\n",
       "      <td>58.7</td>\n",
       "      <td>3.9175</td>\n",
       "      <td>3.0</td>\n",
       "      <td>223.0</td>\n",
       "      <td>...</td>\n",
       "      <td>0.0</td>\n",
       "      <td>3.58672</td>\n",
       "      <td>50.53874</td>\n",
       "      <td>453.751</td>\n",
       "      <td>30.282275</td>\n",
       "      <td>23.19</td>\n",
       "      <td>1723.79</td>\n",
       "      <td>143.778</td>\n",
       "      <td>3053.0408</td>\n",
       "      <td>59.7529</td>\n",
       "    </tr>\n",
       "    <tr>\n",
       "      <th>2</th>\n",
       "      <td>0.55778</td>\n",
       "      <td>0.0</td>\n",
       "      <td>21.89</td>\n",
       "      <td>0.0</td>\n",
       "      <td>0.624</td>\n",
       "      <td>6.335</td>\n",
       "      <td>98.2</td>\n",
       "      <td>2.1107</td>\n",
       "      <td>4.0</td>\n",
       "      <td>437.0</td>\n",
       "      <td>...</td>\n",
       "      <td>0.0</td>\n",
       "      <td>10.58304</td>\n",
       "      <td>107.44160</td>\n",
       "      <td>1665.472</td>\n",
       "      <td>35.797472</td>\n",
       "      <td>67.84</td>\n",
       "      <td>7411.52</td>\n",
       "      <td>359.552</td>\n",
       "      <td>6693.6032</td>\n",
       "      <td>287.6416</td>\n",
       "    </tr>\n",
       "  </tbody>\n",
       "</table>\n",
       "<p>3 rows × 182 columns</p>\n",
       "</div>"
      ],
      "text/plain": [
       "      CRIM    ZN  INDUS  CHAS    NOX     RM    AGE     DIS  RAD    TAX  ...  \\\n",
       "0  1.62864   0.0  21.89   0.0  0.624  5.019  100.0  1.4394  4.0  437.0  ...   \n",
       "1  0.11460  20.0   6.96   0.0  0.464  6.538   58.7  3.9175  3.0  223.0  ...   \n",
       "2  0.55778   0.0  21.89   0.0  0.624  6.335   98.2  2.1107  4.0  437.0  ...   \n",
       "\n",
       "   LSTATxCHAS  LSTATxNOX   LSTATxRM  LSTATxAGE  LSTATxDIS  LSTATxRAD  \\\n",
       "0         0.0   21.47184  172.70379   3441.000  49.529754     137.64   \n",
       "1         0.0    3.58672   50.53874    453.751  30.282275      23.19   \n",
       "2         0.0   10.58304  107.44160   1665.472  35.797472      67.84   \n",
       "\n",
       "   LSTATxTAX  LSTATxPTRATIO     LSTATxB  LSTATxLSTAT  \n",
       "0   15037.17        729.492  13657.3290    1184.0481  \n",
       "1    1723.79        143.778   3053.0408      59.7529  \n",
       "2    7411.52        359.552   6693.6032     287.6416  \n",
       "\n",
       "[3 rows x 182 columns]"
      ]
     },
     "execution_count": 76,
     "metadata": {},
     "output_type": "execute_result"
    }
   ],
   "source": [
    "extended_X_train.head(3)"
   ]
  },
  {
   "cell_type": "code",
   "execution_count": 77,
   "id": "9d784cd8",
   "metadata": {},
   "outputs": [
    {
     "data": {
      "text/html": [
       "<div>\n",
       "<style scoped>\n",
       "    .dataframe tbody tr th:only-of-type {\n",
       "        vertical-align: middle;\n",
       "    }\n",
       "\n",
       "    .dataframe tbody tr th {\n",
       "        vertical-align: top;\n",
       "    }\n",
       "\n",
       "    .dataframe thead th {\n",
       "        text-align: right;\n",
       "    }\n",
       "</style>\n",
       "<table border=\"1\" class=\"dataframe\">\n",
       "  <thead>\n",
       "    <tr style=\"text-align: right;\">\n",
       "      <th></th>\n",
       "      <th>CRIM</th>\n",
       "      <th>ZN</th>\n",
       "      <th>INDUS</th>\n",
       "      <th>CHAS</th>\n",
       "      <th>NOX</th>\n",
       "      <th>RM</th>\n",
       "      <th>AGE</th>\n",
       "      <th>DIS</th>\n",
       "      <th>RAD</th>\n",
       "      <th>TAX</th>\n",
       "      <th>...</th>\n",
       "      <th>LSTATxCHAS</th>\n",
       "      <th>LSTATxNOX</th>\n",
       "      <th>LSTATxRM</th>\n",
       "      <th>LSTATxAGE</th>\n",
       "      <th>LSTATxDIS</th>\n",
       "      <th>LSTATxRAD</th>\n",
       "      <th>LSTATxTAX</th>\n",
       "      <th>LSTATxPTRATIO</th>\n",
       "      <th>LSTATxB</th>\n",
       "      <th>LSTATxLSTAT</th>\n",
       "    </tr>\n",
       "  </thead>\n",
       "  <tbody>\n",
       "    <tr>\n",
       "      <th>0</th>\n",
       "      <td>0.06724</td>\n",
       "      <td>0.0</td>\n",
       "      <td>3.24</td>\n",
       "      <td>0.0</td>\n",
       "      <td>0.460</td>\n",
       "      <td>6.333</td>\n",
       "      <td>17.2</td>\n",
       "      <td>5.2146</td>\n",
       "      <td>4.0</td>\n",
       "      <td>430.0</td>\n",
       "      <td>...</td>\n",
       "      <td>0.0</td>\n",
       "      <td>3.37640</td>\n",
       "      <td>46.48422</td>\n",
       "      <td>126.248</td>\n",
       "      <td>38.275164</td>\n",
       "      <td>29.36</td>\n",
       "      <td>3156.20</td>\n",
       "      <td>124.046</td>\n",
       "      <td>2754.0414</td>\n",
       "      <td>53.8756</td>\n",
       "    </tr>\n",
       "    <tr>\n",
       "      <th>1</th>\n",
       "      <td>9.23230</td>\n",
       "      <td>0.0</td>\n",
       "      <td>18.10</td>\n",
       "      <td>0.0</td>\n",
       "      <td>0.631</td>\n",
       "      <td>6.216</td>\n",
       "      <td>100.0</td>\n",
       "      <td>1.1691</td>\n",
       "      <td>24.0</td>\n",
       "      <td>666.0</td>\n",
       "      <td>...</td>\n",
       "      <td>0.0</td>\n",
       "      <td>6.01343</td>\n",
       "      <td>59.23848</td>\n",
       "      <td>953.000</td>\n",
       "      <td>11.141523</td>\n",
       "      <td>228.72</td>\n",
       "      <td>6346.98</td>\n",
       "      <td>192.506</td>\n",
       "      <td>3489.4095</td>\n",
       "      <td>90.8209</td>\n",
       "    </tr>\n",
       "    <tr>\n",
       "      <th>2</th>\n",
       "      <td>0.11425</td>\n",
       "      <td>0.0</td>\n",
       "      <td>13.89</td>\n",
       "      <td>1.0</td>\n",
       "      <td>0.550</td>\n",
       "      <td>6.373</td>\n",
       "      <td>92.4</td>\n",
       "      <td>3.3633</td>\n",
       "      <td>5.0</td>\n",
       "      <td>276.0</td>\n",
       "      <td>...</td>\n",
       "      <td>10.5</td>\n",
       "      <td>5.77500</td>\n",
       "      <td>66.91650</td>\n",
       "      <td>970.200</td>\n",
       "      <td>35.314650</td>\n",
       "      <td>52.50</td>\n",
       "      <td>2898.00</td>\n",
       "      <td>172.200</td>\n",
       "      <td>4134.2700</td>\n",
       "      <td>110.2500</td>\n",
       "    </tr>\n",
       "  </tbody>\n",
       "</table>\n",
       "<p>3 rows × 182 columns</p>\n",
       "</div>"
      ],
      "text/plain": [
       "      CRIM   ZN  INDUS  CHAS    NOX     RM    AGE     DIS   RAD    TAX  ...  \\\n",
       "0  0.06724  0.0   3.24   0.0  0.460  6.333   17.2  5.2146   4.0  430.0  ...   \n",
       "1  9.23230  0.0  18.10   0.0  0.631  6.216  100.0  1.1691  24.0  666.0  ...   \n",
       "2  0.11425  0.0  13.89   1.0  0.550  6.373   92.4  3.3633   5.0  276.0  ...   \n",
       "\n",
       "   LSTATxCHAS  LSTATxNOX  LSTATxRM  LSTATxAGE  LSTATxDIS  LSTATxRAD  \\\n",
       "0         0.0    3.37640  46.48422    126.248  38.275164      29.36   \n",
       "1         0.0    6.01343  59.23848    953.000  11.141523     228.72   \n",
       "2        10.5    5.77500  66.91650    970.200  35.314650      52.50   \n",
       "\n",
       "   LSTATxTAX  LSTATxPTRATIO    LSTATxB  LSTATxLSTAT  \n",
       "0    3156.20        124.046  2754.0414      53.8756  \n",
       "1    6346.98        192.506  3489.4095      90.8209  \n",
       "2    2898.00        172.200  4134.2700     110.2500  \n",
       "\n",
       "[3 rows x 182 columns]"
      ]
     },
     "execution_count": 77,
     "metadata": {},
     "output_type": "execute_result"
    }
   ],
   "source": [
    "extended_X_test = X_test.copy()\n",
    "for col1 in X_test.columns: # 컬럼의 갯수만큼 반복, 13번 반복\n",
    "    for col2 in X_test.columns: # 13번 반복\n",
    "        extended_X_test[col1+'x'+col2] = X_test[col1] * X_test[col2]\n",
    "extended_X_test.head(3)"
   ]
  },
  {
   "cell_type": "code",
   "execution_count": 79,
   "id": "06ee6b4f",
   "metadata": {},
   "outputs": [
    {
     "data": {
      "text/plain": [
       "Index(['CRIM', 'ZN', 'INDUS', 'CHAS', 'NOX', 'RM', 'AGE', 'DIS', 'RAD', 'TAX',\n",
       "       'PTRATIO', 'B', 'LSTAT', 'CRIMxCRIM', 'CRIMxZN', 'CRIMxINDUS',\n",
       "       'CRIMxCHAS', 'CRIMxNOX', 'CRIMxRM', 'CRIMxAGE', 'CRIMxDIS', 'CRIMxRAD',\n",
       "       'CRIMxTAX', 'CRIMxPTRATIO', 'CRIMxB', 'CRIMxLSTAT', 'ZNxCRIM', 'ZNxZN',\n",
       "       'ZNxINDUS', 'ZNxCHAS'],\n",
       "      dtype='object')"
      ]
     },
     "execution_count": 79,
     "metadata": {},
     "output_type": "execute_result"
    }
   ],
   "source": [
    "# 컬럼명만 확인\n",
    "extended_X_train.columns[:30]"
   ]
  },
  {
   "cell_type": "code",
   "execution_count": 80,
   "id": "a7401ad6",
   "metadata": {},
   "outputs": [
    {
     "data": {
      "text/plain": [
       "0.6486839500099861"
      ]
     },
     "execution_count": 80,
     "metadata": {},
     "output_type": "execute_result"
    }
   ],
   "source": [
    "# 모델 생성\n",
    "linear_model3 = LinearRegression()\n",
    "# 모델 학습\n",
    "linear_model3.fit(extended_X_train, y_train)\n",
    "# 모델 평가\n",
    "linear_model3.score(extended_X_test, y_test)"
   ]
  },
  {
   "cell_type": "markdown",
   "id": "d2f1fce2",
   "metadata": {},
   "source": [
    "#### 정규화 모델 등장!\n",
    "- w값 제어해서 과대적합 해소\n",
    "- Ridge, Lasso : w를 제어하기 위해 나온 규제 모델"
   ]
  },
  {
   "cell_type": "code",
   "execution_count": 81,
   "id": "7f3e42c2",
   "metadata": {},
   "outputs": [],
   "source": [
    "from sklearn.linear_model import Ridge"
   ]
  },
  {
   "cell_type": "code",
   "execution_count": 85,
   "id": "3a28c8fa",
   "metadata": {},
   "outputs": [],
   "source": [
    "ridge_model =Ridge(alpha = 150) # alpha : 규제 정도 지정"
   ]
  },
  {
   "cell_type": "code",
   "execution_count": 86,
   "id": "46453ed7",
   "metadata": {},
   "outputs": [
    {
     "data": {
      "text/plain": [
       "0.7770345268527621"
      ]
     },
     "execution_count": 86,
     "metadata": {},
     "output_type": "execute_result"
    }
   ],
   "source": [
    "ridge_model.fit(extended_X_train, y_train)\n",
    "\n",
    "ridge_model.score(extended_X_test, y_test)"
   ]
  },
  {
   "cell_type": "markdown",
   "id": "42ad1dee",
   "metadata": {},
   "source": [
    "#### 규제모델 하이퍼파라미터 튜닝"
   ]
  },
  {
   "cell_type": "code",
   "execution_count": 87,
   "id": "4000fa2c",
   "metadata": {},
   "outputs": [],
   "source": [
    "from sklearn.linear_model import Lasso"
   ]
  },
  {
   "cell_type": "code",
   "execution_count": 89,
   "id": "c9d9369d",
   "metadata": {},
   "outputs": [],
   "source": [
    "# 7개 규제 적용(규제 작은 -> 큰)\n",
    "R_score_list = []\n",
    "L_score_list = []\n",
    "for alpha in [0.001, 0.01, 0.1, 1, 10, 100, 1000] :\n",
    "    R_model = Ridge(alpha=alpha) # L2규제\n",
    "    L_model = Lasso(alpha=alpha) # L1규제\n",
    "    # 모델 학습\n",
    "    R_model.fit(extended_X_train, y_train)\n",
    "    L_model.fit(extended_X_train, y_train)\n",
    "    # 모델 평가\n",
    "    R_score_list.append(R_model.score(extended_X_test,y_test))\n",
    "    L_score_list.append(L_model.score(extended_X_test,y_test))\n",
    "    "
   ]
  },
  {
   "cell_type": "code",
   "execution_count": 91,
   "id": "8a0584d6",
   "metadata": {},
   "outputs": [
    {
     "data": {
      "image/png": "[encoded data removed]",
      "text/plain": [
       "<Figure size 1080x360 with 1 Axes>"
      ]
     },
     "metadata": {
      "needs_background": "light"
     },
     "output_type": "display_data"
    }
   ],
   "source": [
    "# 시각화\n",
    "plt.figure(figsize=(15,5)) # 가로 세로 크기 설정\n",
    "plt.plot(range(7), R_score_list, label=\"Ridge\")\n",
    "plt.plot(range(7), L_score_list, label=\"Lasso\")\n",
    "plt.legend() # 범례\n",
    "plt.xticks(range(7),[0.001, 0.01, 0.1, 1, 10, 100, 1000])\n",
    "plt.show() # 그림 보여주기"
   ]
  },
  {
   "cell_type": "code",
   "execution_count": null,
   "id": "ba214310",
   "metadata": {},
   "outputs": [],
   "source": []
  }
 ],
 "metadata": {
  "kernelspec": {
   "display_name": "Python 3 (ipykernel)",
   "language": "python",
   "name": "python3"
  },
  "language_info": {
   "codemirror_mode": {
    "name": "ipython",
    "version": 3
   },
   "file_extension": ".py",
   "mimetype": "text/x-python",
   "name": "python",
   "nbconvert_exporter": "python",
   "pygments_lexer": "ipython3",
   "version": "3.9.12"
  },
  "toc": {
   "base_numbering": 1,
   "nav_menu": {},
   "number_sections": true,
   "sideBar": true,
   "skip_h1_title": false,
   "title_cell": "Table of Contents",
   "title_sidebar": "Contents",
   "toc_cell": false,
   "toc_position": {},
   "toc_section_display": true,
   "toc_window_display": true
  }
 },
 "nbformat": 4,
 "nbformat_minor": 5
}
