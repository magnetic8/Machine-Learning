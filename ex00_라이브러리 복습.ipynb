{
 "cells": [
  {
   "cell_type": "markdown",
   "id": "0cd4496a",
   "metadata": {},
   "source": [
    "### ex00 라이브러리 복습"
   ]
  },
  {
   "cell_type": "markdown",
   "id": "cbb296c7",
   "metadata": {},
   "source": [
    "- numpy : 고속연산의 수학함수, 고차원 배열(ndarray), 같은 인덱스의 데이터끼리는 한 번에 연산이 가능\n",
    "- pandas :  표 형태의 데이터를 다룰때 사용(엑셀 대체), 간단한 시각화 기능\n",
    "- matplotlib : python의 시각화 도구, seaborn(matplotlib 기반의 사용자 편의성을 확보한 시각화 도구)"
   ]
  },
  {
   "cell_type": "code",
   "execution_count": 11,
   "id": "fbae1283",
   "metadata": {},
   "outputs": [],
   "source": [
    "import pandas as pd\n",
    "# 데이터프레임 컬럼의 최대 넓이 해제\n",
    "pd.set_option(\"display.max_colwidth\",None)"
   ]
  },
  {
   "cell_type": "code",
   "execution_count": 4,
   "id": "42ae454d",
   "metadata": {},
   "outputs": [],
   "source": [
    "# 시리즈 1개 생성\n",
    "s1 = pd.Series([1,10,30,50], index=['a','b','c','d'])\n",
    "# 데이터 프레임 1개 생성\n",
    "df1 = pd.DataFrame([[1,2],[3,4],[5,6]], index=['a','b','c'], columns=['name','age'])"
   ]
  },
  {
   "cell_type": "code",
   "execution_count": 5,
   "id": "fe1d9442",
   "metadata": {},
   "outputs": [
    {
     "data": {
      "text/html": [
       "<div>\n",
       "<style scoped>\n",
       "    .dataframe tbody tr th:only-of-type {\n",
       "        vertical-align: middle;\n",
       "    }\n",
       "\n",
       "    .dataframe tbody tr th {\n",
       "        vertical-align: top;\n",
       "    }\n",
       "\n",
       "    .dataframe thead th {\n",
       "        text-align: right;\n",
       "    }\n",
       "</style>\n",
       "<table border=\"1\" class=\"dataframe\">\n",
       "  <thead>\n",
       "    <tr style=\"text-align: right;\">\n",
       "      <th></th>\n",
       "      <th>name</th>\n",
       "      <th>age</th>\n",
       "    </tr>\n",
       "  </thead>\n",
       "  <tbody>\n",
       "    <tr>\n",
       "      <th>a</th>\n",
       "      <td>1</td>\n",
       "      <td>2</td>\n",
       "    </tr>\n",
       "    <tr>\n",
       "      <th>b</th>\n",
       "      <td>3</td>\n",
       "      <td>4</td>\n",
       "    </tr>\n",
       "    <tr>\n",
       "      <th>c</th>\n",
       "      <td>5</td>\n",
       "      <td>6</td>\n",
       "    </tr>\n",
       "  </tbody>\n",
       "</table>\n",
       "</div>"
      ],
      "text/plain": [
       "   name  age\n",
       "a     1    2\n",
       "b     3    4\n",
       "c     5    6"
      ]
     },
     "execution_count": 5,
     "metadata": {},
     "output_type": "execute_result"
    }
   ],
   "source": [
    "df1"
   ]
  },
  {
   "cell_type": "code",
   "execution_count": 12,
   "id": "c2065b5c",
   "metadata": {},
   "outputs": [
    {
     "data": {
      "text/html": [
       "<div>\n",
       "<style scoped>\n",
       "    .dataframe tbody tr th:only-of-type {\n",
       "        vertical-align: middle;\n",
       "    }\n",
       "\n",
       "    .dataframe tbody tr th {\n",
       "        vertical-align: top;\n",
       "    }\n",
       "\n",
       "    .dataframe thead th {\n",
       "        text-align: right;\n",
       "    }\n",
       "</style>\n",
       "<table border=\"1\" class=\"dataframe\">\n",
       "  <thead>\n",
       "    <tr style=\"text-align: right;\">\n",
       "      <th></th>\n",
       "      <th>지역</th>\n",
       "      <th>번지</th>\n",
       "      <th>본번</th>\n",
       "      <th>부번</th>\n",
       "      <th>아파트</th>\n",
       "      <th>면적</th>\n",
       "      <th>계약년월</th>\n",
       "      <th>계약일</th>\n",
       "      <th>가격</th>\n",
       "      <th>층</th>\n",
       "      <th>건축년도</th>\n",
       "      <th>도로명</th>\n",
       "    </tr>\n",
       "  </thead>\n",
       "  <tbody>\n",
       "    <tr>\n",
       "      <th>0</th>\n",
       "      <td>강원도 강릉시 견소동</td>\n",
       "      <td>202</td>\n",
       "      <td>202</td>\n",
       "      <td>0</td>\n",
       "      <td>송정한신</td>\n",
       "      <td>59.800</td>\n",
       "      <td>201910</td>\n",
       "      <td>4</td>\n",
       "      <td>10900</td>\n",
       "      <td>5</td>\n",
       "      <td>1997</td>\n",
       "      <td>경강로2539번길 8</td>\n",
       "    </tr>\n",
       "    <tr>\n",
       "      <th>1</th>\n",
       "      <td>강원도 강릉시 견소동</td>\n",
       "      <td>202</td>\n",
       "      <td>202</td>\n",
       "      <td>0</td>\n",
       "      <td>송정한신</td>\n",
       "      <td>116.175</td>\n",
       "      <td>201910</td>\n",
       "      <td>31</td>\n",
       "      <td>18500</td>\n",
       "      <td>10</td>\n",
       "      <td>1997</td>\n",
       "      <td>경강로2539번길 8</td>\n",
       "    </tr>\n",
       "    <tr>\n",
       "      <th>2</th>\n",
       "      <td>강원도 강릉시 견소동</td>\n",
       "      <td>289</td>\n",
       "      <td>289</td>\n",
       "      <td>0</td>\n",
       "      <td>송정해변신도브래뉴아파트</td>\n",
       "      <td>84.990</td>\n",
       "      <td>201910</td>\n",
       "      <td>5</td>\n",
       "      <td>25000</td>\n",
       "      <td>6</td>\n",
       "      <td>2005</td>\n",
       "      <td>경강로2539번길 22</td>\n",
       "    </tr>\n",
       "    <tr>\n",
       "      <th>3</th>\n",
       "      <td>강원도 강릉시 견소동</td>\n",
       "      <td>289</td>\n",
       "      <td>289</td>\n",
       "      <td>0</td>\n",
       "      <td>송정해변신도브래뉴아파트</td>\n",
       "      <td>84.990</td>\n",
       "      <td>201910</td>\n",
       "      <td>12</td>\n",
       "      <td>20600</td>\n",
       "      <td>3</td>\n",
       "      <td>2005</td>\n",
       "      <td>경강로2539번길 22</td>\n",
       "    </tr>\n",
       "    <tr>\n",
       "      <th>4</th>\n",
       "      <td>강원도 강릉시 견소동</td>\n",
       "      <td>289</td>\n",
       "      <td>289</td>\n",
       "      <td>0</td>\n",
       "      <td>송정해변신도브래뉴아파트</td>\n",
       "      <td>84.990</td>\n",
       "      <td>201910</td>\n",
       "      <td>20</td>\n",
       "      <td>20500</td>\n",
       "      <td>1</td>\n",
       "      <td>2005</td>\n",
       "      <td>경강로2539번길 22</td>\n",
       "    </tr>\n",
       "  </tbody>\n",
       "</table>\n",
       "</div>"
      ],
      "text/plain": [
       "            지역   번지   본번  부번           아파트       면적    계약년월  계약일     가격   층  \\\n",
       "0  강원도 강릉시 견소동  202  202   0          송정한신   59.800  201910    4  10900   5   \n",
       "1  강원도 강릉시 견소동  202  202   0          송정한신  116.175  201910   31  18500  10   \n",
       "2  강원도 강릉시 견소동  289  289   0  송정해변신도브래뉴아파트   84.990  201910    5  25000   6   \n",
       "3  강원도 강릉시 견소동  289  289   0  송정해변신도브래뉴아파트   84.990  201910   12  20600   3   \n",
       "4  강원도 강릉시 견소동  289  289   0  송정해변신도브래뉴아파트   84.990  201910   20  20500   1   \n",
       "\n",
       "   건축년도           도로명  \n",
       "0  1997   경강로2539번길 8  \n",
       "1  1997   경강로2539번길 8  \n",
       "2  2005  경강로2539번길 22  \n",
       "3  2005  경강로2539번길 22  \n",
       "4  2005  경강로2539번길 22  "
      ]
     },
     "execution_count": 12,
     "metadata": {},
     "output_type": "execute_result"
    }
   ],
   "source": [
    "#데이터 읽기 (apt.csv을 읽어서 상위 5개 데이터만 살펴보기)\n",
    "df2= pd.read_csv(\"./data/apt.csv\", encoding=\"cp949\")\n",
    "df2.head() #상위 데이터 보여주기(기본5개)\n",
    "# 상위 20개를 보고 싶다면 df2.head(20)\n"
   ]
  },
  {
   "cell_type": "code",
   "execution_count": 16,
   "id": "4937cefe",
   "metadata": {},
   "outputs": [],
   "source": [
    "# 색인\n",
    "# iloc, loc => 특정 인덱스를 지정해서 색인\n",
    "# iloc :숫자, loc : 글자\n",
    "# 아파트 이름, 면적, 층 컬럼 색인\n",
    "# 1~100번째 행 색인\n",
    "\n",
    "# df2.iloc[행,열]\n",
    "df3=df2.iloc[0:100,[4,5,9]]\n",
    "df3\n",
    "\n",
    "# df2.loc[행,열]\n",
    "df3=df2.loc[0:100,['아파트','면적','층']]"
   ]
  },
  {
   "cell_type": "code",
   "execution_count": 17,
   "id": "e97e872c",
   "metadata": {},
   "outputs": [
    {
     "data": {
      "text/html": [
       "<div>\n",
       "<style scoped>\n",
       "    .dataframe tbody tr th:only-of-type {\n",
       "        vertical-align: middle;\n",
       "    }\n",
       "\n",
       "    .dataframe tbody tr th {\n",
       "        vertical-align: top;\n",
       "    }\n",
       "\n",
       "    .dataframe thead th {\n",
       "        text-align: right;\n",
       "    }\n",
       "</style>\n",
       "<table border=\"1\" class=\"dataframe\">\n",
       "  <thead>\n",
       "    <tr style=\"text-align: right;\">\n",
       "      <th></th>\n",
       "      <th>아파트</th>\n",
       "      <th>면적</th>\n",
       "      <th>층</th>\n",
       "    </tr>\n",
       "  </thead>\n",
       "  <tbody>\n",
       "    <tr>\n",
       "      <th>35</th>\n",
       "      <td>서일2</td>\n",
       "      <td>27.750</td>\n",
       "      <td>1</td>\n",
       "    </tr>\n",
       "    <tr>\n",
       "      <th>43</th>\n",
       "      <td>내곡시영</td>\n",
       "      <td>39.300</td>\n",
       "      <td>5</td>\n",
       "    </tr>\n",
       "    <tr>\n",
       "      <th>45</th>\n",
       "      <td>노암2주공</td>\n",
       "      <td>42.740</td>\n",
       "      <td>1</td>\n",
       "    </tr>\n",
       "    <tr>\n",
       "      <th>46</th>\n",
       "      <td>노암3한라</td>\n",
       "      <td>39.762</td>\n",
       "      <td>11</td>\n",
       "    </tr>\n",
       "    <tr>\n",
       "      <th>49</th>\n",
       "      <td>노암3한라</td>\n",
       "      <td>39.762</td>\n",
       "      <td>3</td>\n",
       "    </tr>\n",
       "    <tr>\n",
       "      <th>59</th>\n",
       "      <td>영진노암2차</td>\n",
       "      <td>49.525</td>\n",
       "      <td>2</td>\n",
       "    </tr>\n",
       "    <tr>\n",
       "      <th>67</th>\n",
       "      <td>삼우그린</td>\n",
       "      <td>30.240</td>\n",
       "      <td>4</td>\n",
       "    </tr>\n",
       "    <tr>\n",
       "      <th>68</th>\n",
       "      <td>삼우그린</td>\n",
       "      <td>43.200</td>\n",
       "      <td>9</td>\n",
       "    </tr>\n",
       "    <tr>\n",
       "      <th>69</th>\n",
       "      <td>삼우그린</td>\n",
       "      <td>43.200</td>\n",
       "      <td>12</td>\n",
       "    </tr>\n",
       "    <tr>\n",
       "      <th>83</th>\n",
       "      <td>삼동광업소사원</td>\n",
       "      <td>43.470</td>\n",
       "      <td>2</td>\n",
       "    </tr>\n",
       "    <tr>\n",
       "      <th>90</th>\n",
       "      <td>입암1주공</td>\n",
       "      <td>39.720</td>\n",
       "      <td>4</td>\n",
       "    </tr>\n",
       "    <tr>\n",
       "      <th>91</th>\n",
       "      <td>입암2주공</td>\n",
       "      <td>46.680</td>\n",
       "      <td>1</td>\n",
       "    </tr>\n",
       "    <tr>\n",
       "      <th>92</th>\n",
       "      <td>입암2주공</td>\n",
       "      <td>39.690</td>\n",
       "      <td>5</td>\n",
       "    </tr>\n",
       "    <tr>\n",
       "      <th>93</th>\n",
       "      <td>입암2주공</td>\n",
       "      <td>39.690</td>\n",
       "      <td>3</td>\n",
       "    </tr>\n",
       "  </tbody>\n",
       "</table>\n",
       "</div>"
      ],
      "text/plain": [
       "        아파트      면적   층\n",
       "35      서일2  27.750   1\n",
       "43     내곡시영  39.300   5\n",
       "45    노암2주공  42.740   1\n",
       "46    노암3한라  39.762  11\n",
       "49    노암3한라  39.762   3\n",
       "59   영진노암2차  49.525   2\n",
       "67     삼우그린  30.240   4\n",
       "68     삼우그린  43.200   9\n",
       "69     삼우그린  43.200  12\n",
       "83  삼동광업소사원  43.470   2\n",
       "90    입암1주공  39.720   4\n",
       "91    입암2주공  46.680   1\n",
       "92    입암2주공  39.690   5\n",
       "93    입암2주공  39.690   3"
      ]
     },
     "execution_count": 17,
     "metadata": {},
     "output_type": "execute_result"
    }
   ],
   "source": [
    "# 불리언 색인(조건기반 색인)\n",
    "# df3에서 면적이 50 미만인 아파트만 색인\n",
    "\n",
    "# df4=df3[조건식]\n",
    "df4=df3[df3['면적']<50]\n",
    "df4"
   ]
  },
  {
   "cell_type": "code",
   "execution_count": 25,
   "id": "7d3af39c",
   "metadata": {},
   "outputs": [],
   "source": [
    "# 광주광역시의 평균 아파트 가격 구하기\n",
    "# 1. apply 함수(pandas에서 행 또는 열 단위로 사용자 정의 함수를 적용하고 싶을 때 사용)"
   ]
  },
  {
   "cell_type": "code",
   "execution_count": 31,
   "id": "14ff4832",
   "metadata": {},
   "outputs": [],
   "source": [
    "# 지역명을 추출하는 사용자 정의 함수\n",
    "def extractName(row):\n",
    "    return row.split(\" \")[0]"
   ]
  },
  {
   "cell_type": "code",
   "execution_count": 35,
   "id": "f3cb4e2e",
   "metadata": {},
   "outputs": [
    {
     "data": {
      "text/plain": [
       "21786.90428211587"
      ]
     },
     "execution_count": 35,
     "metadata": {},
     "output_type": "execute_result"
    }
   ],
   "source": [
    "#df2['지역'].apply(사용자 정의 함수)\n",
    "df2['시도명']=df2['지역'].apply(extractName)\n",
    "df2[df2['시도명']=='광주광역시']['가격'].mean()"
   ]
  },
  {
   "cell_type": "code",
   "execution_count": 38,
   "id": "979e4e76",
   "metadata": {},
   "outputs": [
    {
     "data": {
      "text/plain": [
       "21786.90428211587"
      ]
     },
     "execution_count": 38,
     "metadata": {},
     "output_type": "execute_result"
    }
   ],
   "source": [
    "# 시리즈에서 제공하는 Str 함수 이용\n",
    "df2[df2['지역'].str.contains('광주광역시')]['가격'].mean()"
   ]
  },
  {
   "cell_type": "code",
   "execution_count": 45,
   "id": "19281572",
   "metadata": {},
   "outputs": [],
   "source": [
    "# matplotlib에 한글 폰트 적용시키기\n",
    "from matplotlib import font_manager, rc\n",
    "font_name = font_manager.FontProperties(fname ='c:/Windows/Fonts/malgun.ttf').get_name()\n",
    "rc('font', family = font_name)\n",
    "import matplotlib.pyplot as plt"
   ]
  },
  {
   "cell_type": "code",
   "execution_count": 46,
   "id": "be2ad523",
   "metadata": {},
   "outputs": [
    {
     "data": {
      "text/plain": [
       "<AxesSubplot:xlabel='시도명'>"
      ]
     },
     "execution_count": 46,
     "metadata": {},
     "output_type": "execute_result"
    },
    {
     "data": {
      "image/png": "[encoded data removed]",
      "text/plain": [
       "<Figure size 720x360 with 1 Axes>"
      ]
     },
     "metadata": {
      "needs_background": "light"
     },
     "output_type": "display_data"
    }
   ],
   "source": [
    "# 각 시도별 아파트 가격 평균을 구해보자.\n",
    "df5=df2.groupby(by=['시도명'])['가격'].mean().plot(kind=\"bar\", rot=40, figsize=(10,5))\n",
    "df5\n"
   ]
  },
  {
   "cell_type": "code",
   "execution_count": 62,
   "id": "cb41453d",
   "metadata": {},
   "outputs": [],
   "source": [
    "# 면적당 평균가격이 높은 동 상위 10개 추출\n",
    "df2['면적당가격']=(df2['가격']/df2['면적'].astype('int32')).astype('int32')  # astype('int32'): 정수 타입인데 크기가 32bit로 변환\n"
   ]
  },
  {
   "cell_type": "code",
   "execution_count": 65,
   "id": "7526ffde",
   "metadata": {},
   "outputs": [],
   "source": [
    " # 동이름 추출\n",
    "df2['동이름']=df2['지역'].str.split(\" \").str[2]"
   ]
  },
  {
   "cell_type": "code",
   "execution_count": 69,
   "id": "2d3cd452",
   "metadata": {},
   "outputs": [
    {
     "data": {
      "text/plain": [
       "동이름\n",
       "개포동     3234.666667\n",
       "압구정동    2602.700000\n",
       "반포동     2546.352941\n",
       "교북동     2177.000000\n",
       "잠원동     2155.266667\n",
       "대치동     2111.590909\n",
       "수서동     1993.800000\n",
       "역삼동     1949.909091\n",
       "잠실동     1914.545455\n",
       "홍파동     1906.000000\n",
       "Name: 면적당가격, dtype: float64"
      ]
     },
     "execution_count": 69,
     "metadata": {},
     "output_type": "execute_result"
    }
   ],
   "source": [
    "df2.groupby(by=['동이름'])['면적당가격'].mean().sort_values(ascending=False).head(10)"
   ]
  },
  {
   "cell_type": "code",
   "execution_count": null,
   "id": "ccff3b09",
   "metadata": {},
   "outputs": [],
   "source": []
  }
 ],
 "metadata": {
  "kernelspec": {
   "display_name": "Python 3 (ipykernel)",
   "language": "python",
   "name": "python3"
  },
  "language_info": {
   "codemirror_mode": {
    "name": "ipython",
    "version": 3
   },
   "file_extension": ".py",
   "mimetype": "text/x-python",
   "name": "python",
   "nbconvert_exporter": "python",
   "pygments_lexer": "ipython3",
   "version": "3.9.12"
  }
 },
 "nbformat": 4,
 "nbformat_minor": 5
}
