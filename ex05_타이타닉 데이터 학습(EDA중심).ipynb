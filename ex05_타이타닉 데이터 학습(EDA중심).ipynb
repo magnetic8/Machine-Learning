{
 "cells": [
  {
   "cell_type": "code",
   "execution_count": 2,
   "id": "cf80e63f",
   "metadata": {},
   "outputs": [
    {
     "name": "stdout",
     "output_type": "stream",
     "text": [
      "Requirement already satisfied: jupyter_contrib_nbextensions in c:\\users\\aischool\\anaconda3\\lib\\site-packages (0.5.1)\n",
      "Requirement already satisfied: jupyter-highlight-selected-word>=0.1.1 in c:\\users\\aischool\\anaconda3\\lib\\site-packages (from jupyter_contrib_nbextensions) (0.2.0)\n",
      "Requirement already satisfied: ipython-genutils in c:\\users\\aischool\\anaconda3\\lib\\site-packages (from jupyter_contrib_nbextensions) (0.2.0)\n",
      "Requirement already satisfied: lxml in c:\\users\\aischool\\anaconda3\\lib\\site-packages (from jupyter_contrib_nbextensions) (4.8.0)\n",
      "Requirement already satisfied: traitlets>=4.1 in c:\\users\\aischool\\anaconda3\\lib\\site-packages (from jupyter_contrib_nbextensions) (5.1.1)\n",
      "Requirement already satisfied: jupyter-contrib-core>=0.3.3 in c:\\users\\aischool\\anaconda3\\lib\\site-packages (from jupyter_contrib_nbextensions) (0.4.0)\n",
      "Requirement already satisfied: jupyter-core in c:\\users\\aischool\\anaconda3\\lib\\site-packages (from jupyter_contrib_nbextensions) (4.9.2)\n",
      "Requirement already satisfied: jupyter-latex-envs>=1.3.8 in c:\\users\\aischool\\anaconda3\\lib\\site-packages (from jupyter_contrib_nbextensions) (1.4.6)\n",
      "Requirement already satisfied: nbconvert>=4.2 in c:\\users\\aischool\\anaconda3\\lib\\site-packages (from jupyter_contrib_nbextensions) (6.4.4)\n",
      "Requirement already satisfied: jupyter-nbextensions-configurator>=0.4.0 in c:\\users\\aischool\\anaconda3\\lib\\site-packages (from jupyter_contrib_nbextensions) (0.5.0)\n",
      "Requirement already satisfied: pyyaml in c:\\users\\aischool\\anaconda3\\lib\\site-packages (from jupyter_contrib_nbextensions) (6.0)\n",
      "Requirement already satisfied: tornado in c:\\users\\aischool\\anaconda3\\lib\\site-packages (from jupyter_contrib_nbextensions) (6.1)\n",
      "Requirement already satisfied: notebook>=4.0 in c:\\users\\aischool\\anaconda3\\lib\\site-packages (from jupyter_contrib_nbextensions) (6.4.8)\n",
      "Requirement already satisfied: setuptools in c:\\users\\aischool\\anaconda3\\lib\\site-packages (from jupyter-contrib-core>=0.3.3->jupyter_contrib_nbextensions) (61.2.0)\n",
      "Requirement already satisfied: ipython in c:\\users\\aischool\\anaconda3\\lib\\site-packages (from jupyter-latex-envs>=1.3.8->jupyter_contrib_nbextensions) (8.2.0)\n",
      "Requirement already satisfied: testpath in c:\\users\\aischool\\anaconda3\\lib\\site-packages (from nbconvert>=4.2->jupyter_contrib_nbextensions) (0.5.0)\n",
      "Requirement already satisfied: nbclient<0.6.0,>=0.5.0 in c:\\users\\aischool\\anaconda3\\lib\\site-packages (from nbconvert>=4.2->jupyter_contrib_nbextensions) (0.5.13)\n",
      "Requirement already satisfied: bleach in c:\\users\\aischool\\anaconda3\\lib\\site-packages (from nbconvert>=4.2->jupyter_contrib_nbextensions) (4.1.0)\n",
      "Requirement already satisfied: nbformat>=4.4 in c:\\users\\aischool\\anaconda3\\lib\\site-packages (from nbconvert>=4.2->jupyter_contrib_nbextensions) (5.3.0)\n",
      "Requirement already satisfied: jupyterlab-pygments in c:\\users\\aischool\\anaconda3\\lib\\site-packages (from nbconvert>=4.2->jupyter_contrib_nbextensions) (0.1.2)\n",
      "Requirement already satisfied: pygments>=2.4.1 in c:\\users\\aischool\\anaconda3\\lib\\site-packages (from nbconvert>=4.2->jupyter_contrib_nbextensions) (2.11.2)\n",
      "Requirement already satisfied: mistune<2,>=0.8.1 in c:\\users\\aischool\\anaconda3\\lib\\site-packages (from nbconvert>=4.2->jupyter_contrib_nbextensions) (0.8.4)\n",
      "Requirement already satisfied: entrypoints>=0.2.2 in c:\\users\\aischool\\anaconda3\\lib\\site-packages (from nbconvert>=4.2->jupyter_contrib_nbextensions) (0.4)\n",
      "Requirement already satisfied: jinja2>=2.4 in c:\\users\\aischool\\anaconda3\\lib\\site-packages (from nbconvert>=4.2->jupyter_contrib_nbextensions) (2.11.3)\n",
      "Requirement already satisfied: pandocfilters>=1.4.1 in c:\\users\\aischool\\anaconda3\\lib\\site-packages (from nbconvert>=4.2->jupyter_contrib_nbextensions) (1.5.0)\n",
      "Requirement already satisfied: defusedxml in c:\\users\\aischool\\anaconda3\\lib\\site-packages (from nbconvert>=4.2->jupyter_contrib_nbextensions) (0.7.1)\n",
      "Requirement already satisfied: beautifulsoup4 in c:\\users\\aischool\\anaconda3\\lib\\site-packages (from nbconvert>=4.2->jupyter_contrib_nbextensions) (4.11.1)\n",
      "Requirement already satisfied: MarkupSafe>=0.23 in c:\\users\\aischool\\anaconda3\\lib\\site-packages (from jinja2>=2.4->nbconvert>=4.2->jupyter_contrib_nbextensions) (2.0.1)\n",
      "Requirement already satisfied: jupyter-client>=6.1.5 in c:\\users\\aischool\\anaconda3\\lib\\site-packages (from nbclient<0.6.0,>=0.5.0->nbconvert>=4.2->jupyter_contrib_nbextensions) (6.1.12)\n",
      "Requirement already satisfied: nest-asyncio in c:\\users\\aischool\\anaconda3\\lib\\site-packages (from nbclient<0.6.0,>=0.5.0->nbconvert>=4.2->jupyter_contrib_nbextensions) (1.5.5)\n",
      "Requirement already satisfied: pyzmq>=13 in c:\\users\\aischool\\anaconda3\\lib\\site-packages (from jupyter-client>=6.1.5->nbclient<0.6.0,>=0.5.0->nbconvert>=4.2->jupyter_contrib_nbextensions) (22.3.0)\n",
      "Requirement already satisfied: python-dateutil>=2.1 in c:\\users\\aischool\\anaconda3\\lib\\site-packages (from jupyter-client>=6.1.5->nbclient<0.6.0,>=0.5.0->nbconvert>=4.2->jupyter_contrib_nbextensions) (2.8.2)\n",
      "Requirement already satisfied: pywin32>=1.0 in c:\\users\\aischool\\anaconda3\\lib\\site-packages (from jupyter-core->jupyter_contrib_nbextensions) (302)\n",
      "Requirement already satisfied: fastjsonschema in c:\\users\\aischool\\anaconda3\\lib\\site-packages (from nbformat>=4.4->nbconvert>=4.2->jupyter_contrib_nbextensions) (2.15.1)\n",
      "Requirement already satisfied: jsonschema>=2.6 in c:\\users\\aischool\\anaconda3\\lib\\site-packages (from nbformat>=4.4->nbconvert>=4.2->jupyter_contrib_nbextensions) (4.4.0)\n",
      "Requirement already satisfied: attrs>=17.4.0 in c:\\users\\aischool\\anaconda3\\lib\\site-packages (from jsonschema>=2.6->nbformat>=4.4->nbconvert>=4.2->jupyter_contrib_nbextensions) (21.4.0)\n",
      "Requirement already satisfied: pyrsistent!=0.17.0,!=0.17.1,!=0.17.2,>=0.14.0 in c:\\users\\aischool\\anaconda3\\lib\\site-packages (from jsonschema>=2.6->nbformat>=4.4->nbconvert>=4.2->jupyter_contrib_nbextensions) (0.18.0)\n",
      "Requirement already satisfied: ipykernel in c:\\users\\aischool\\anaconda3\\lib\\site-packages (from notebook>=4.0->jupyter_contrib_nbextensions) (6.9.1)\n",
      "Requirement already satisfied: terminado>=0.8.3 in c:\\users\\aischool\\anaconda3\\lib\\site-packages (from notebook>=4.0->jupyter_contrib_nbextensions) (0.13.1)\n",
      "Requirement already satisfied: argon2-cffi in c:\\users\\aischool\\anaconda3\\lib\\site-packages (from notebook>=4.0->jupyter_contrib_nbextensions) (21.3.0)\n",
      "Requirement already satisfied: Send2Trash>=1.8.0 in c:\\users\\aischool\\anaconda3\\lib\\site-packages (from notebook>=4.0->jupyter_contrib_nbextensions) (1.8.0)\n",
      "Requirement already satisfied: prometheus-client in c:\\users\\aischool\\anaconda3\\lib\\site-packages (from notebook>=4.0->jupyter_contrib_nbextensions) (0.13.1)\n",
      "Requirement already satisfied: six>=1.5 in c:\\users\\aischool\\anaconda3\\lib\\site-packages (from python-dateutil>=2.1->jupyter-client>=6.1.5->nbclient<0.6.0,>=0.5.0->nbconvert>=4.2->jupyter_contrib_nbextensions) (1.16.0)\n",
      "Requirement already satisfied: pywinpty>=1.1.0 in c:\\users\\aischool\\anaconda3\\lib\\site-packages (from terminado>=0.8.3->notebook>=4.0->jupyter_contrib_nbextensions) (2.0.2)\n",
      "Requirement already satisfied: argon2-cffi-bindings in c:\\users\\aischool\\anaconda3\\lib\\site-packages (from argon2-cffi->notebook>=4.0->jupyter_contrib_nbextensions) (21.2.0)\n",
      "Requirement already satisfied: cffi>=1.0.1 in c:\\users\\aischool\\anaconda3\\lib\\site-packages (from argon2-cffi-bindings->argon2-cffi->notebook>=4.0->jupyter_contrib_nbextensions) (1.15.0)\n",
      "Requirement already satisfied: pycparser in c:\\users\\aischool\\anaconda3\\lib\\site-packages (from cffi>=1.0.1->argon2-cffi-bindings->argon2-cffi->notebook>=4.0->jupyter_contrib_nbextensions) (2.21)\n",
      "Requirement already satisfied: soupsieve>1.2 in c:\\users\\aischool\\anaconda3\\lib\\site-packages (from beautifulsoup4->nbconvert>=4.2->jupyter_contrib_nbextensions) (2.3.1)\n",
      "Requirement already satisfied: webencodings in c:\\users\\aischool\\anaconda3\\lib\\site-packages (from bleach->nbconvert>=4.2->jupyter_contrib_nbextensions) (0.5.1)\n",
      "Requirement already satisfied: packaging in c:\\users\\aischool\\anaconda3\\lib\\site-packages (from bleach->nbconvert>=4.2->jupyter_contrib_nbextensions) (21.3)\n",
      "Requirement already satisfied: matplotlib-inline<0.2.0,>=0.1.0 in c:\\users\\aischool\\anaconda3\\lib\\site-packages (from ipykernel->notebook>=4.0->jupyter_contrib_nbextensions) (0.1.2)\n",
      "Requirement already satisfied: debugpy<2.0,>=1.0.0 in c:\\users\\aischool\\anaconda3\\lib\\site-packages (from ipykernel->notebook>=4.0->jupyter_contrib_nbextensions) (1.5.1)\n",
      "Requirement already satisfied: colorama in c:\\users\\aischool\\anaconda3\\lib\\site-packages (from ipython->jupyter-latex-envs>=1.3.8->jupyter_contrib_nbextensions) (0.4.4)\n",
      "Requirement already satisfied: decorator in c:\\users\\aischool\\anaconda3\\lib\\site-packages (from ipython->jupyter-latex-envs>=1.3.8->jupyter_contrib_nbextensions) (5.1.1)\n",
      "Requirement already satisfied: prompt-toolkit!=3.0.0,!=3.0.1,<3.1.0,>=2.0.0 in c:\\users\\aischool\\anaconda3\\lib\\site-packages (from ipython->jupyter-latex-envs>=1.3.8->jupyter_contrib_nbextensions) (3.0.20)\n",
      "Requirement already satisfied: stack-data in c:\\users\\aischool\\anaconda3\\lib\\site-packages (from ipython->jupyter-latex-envs>=1.3.8->jupyter_contrib_nbextensions) (0.2.0)\n",
      "Requirement already satisfied: backcall in c:\\users\\aischool\\anaconda3\\lib\\site-packages (from ipython->jupyter-latex-envs>=1.3.8->jupyter_contrib_nbextensions) (0.2.0)\n",
      "Requirement already satisfied: jedi>=0.16 in c:\\users\\aischool\\anaconda3\\lib\\site-packages (from ipython->jupyter-latex-envs>=1.3.8->jupyter_contrib_nbextensions) (0.18.1)\n",
      "Requirement already satisfied: pickleshare in c:\\users\\aischool\\anaconda3\\lib\\site-packages (from ipython->jupyter-latex-envs>=1.3.8->jupyter_contrib_nbextensions) (0.7.5)\n",
      "Requirement already satisfied: parso<0.9.0,>=0.8.0 in c:\\users\\aischool\\anaconda3\\lib\\site-packages (from jedi>=0.16->ipython->jupyter-latex-envs>=1.3.8->jupyter_contrib_nbextensions) (0.8.3)\n",
      "Requirement already satisfied: wcwidth in c:\\users\\aischool\\anaconda3\\lib\\site-packages (from prompt-toolkit!=3.0.0,!=3.0.1,<3.1.0,>=2.0.0->ipython->jupyter-latex-envs>=1.3.8->jupyter_contrib_nbextensions) (0.2.5)\n",
      "Requirement already satisfied: pyparsing!=3.0.5,>=2.0.2 in c:\\users\\aischool\\anaconda3\\lib\\site-packages (from packaging->bleach->nbconvert>=4.2->jupyter_contrib_nbextensions) (3.0.4)\n",
      "Requirement already satisfied: pure-eval in c:\\users\\aischool\\anaconda3\\lib\\site-packages (from stack-data->ipython->jupyter-latex-envs>=1.3.8->jupyter_contrib_nbextensions) (0.2.2)\n",
      "Requirement already satisfied: executing in c:\\users\\aischool\\anaconda3\\lib\\site-packages (from stack-data->ipython->jupyter-latex-envs>=1.3.8->jupyter_contrib_nbextensions) (0.8.3)\n",
      "Requirement already satisfied: asttokens in c:\\users\\aischool\\anaconda3\\lib\\site-packages (from stack-data->ipython->jupyter-latex-envs>=1.3.8->jupyter_contrib_nbextensions) (2.0.5)\n"
     ]
    },
    {
     "name": "stderr",
     "output_type": "stream",
     "text": [
      "[I 11:25:36 InstallContribNbextensionsApp] jupyter contrib nbextension install \n",
      "[I 11:25:36 InstallContribNbextensionsApp] Installing jupyter_contrib_nbextensions nbextension files to jupyter data directory\n",
      "[I 11:25:36 InstallContribNbextensionsApp] Installing C:\\Users\\aischool\\anaconda3\\lib\\site-packages\\jupyter_contrib_nbextensions\\nbextensions\\addbefore -> addbefore\n",
      "[I 11:25:36 InstallContribNbextensionsApp] Up to date: C:\\ProgramData\\jupyter\\nbextensions\\addbefore\\addbefore.yaml\n",
      "[I 11:25:36 InstallContribNbextensionsApp] Up to date: C:\\ProgramData\\jupyter\\nbextensions\\addbefore\\icon.png\n",
      "[I 11:25:36 InstallContribNbextensionsApp] Up to date: C:\\ProgramData\\jupyter\\nbextensions\\addbefore\\main.js\n",
      "[I 11:25:36 InstallContribNbextensionsApp] Up to date: C:\\ProgramData\\jupyter\\nbextensions\\addbefore\\readme.md\n",
      "[I 11:25:36 InstallContribNbextensionsApp] - Validating: ok\n",
      "[I 11:25:36 InstallContribNbextensionsApp] Installing C:\\Users\\aischool\\anaconda3\\lib\\site-packages\\jupyter_contrib_nbextensions\\nbextensions\\autosavetime -> autosavetime\n",
      "[I 11:25:36 InstallContribNbextensionsApp] Up to date: C:\\ProgramData\\jupyter\\nbextensions\\autosavetime\\autosavetime.yaml\n",
      "[I 11:25:36 InstallContribNbextensionsApp] Up to date: C:\\ProgramData\\jupyter\\nbextensions\\autosavetime\\icon.png\n",
      "[I 11:25:36 InstallContribNbextensionsApp] Up to date: C:\\ProgramData\\jupyter\\nbextensions\\autosavetime\\main.js\n",
      "[I 11:25:36 InstallContribNbextensionsApp] Up to date: C:\\ProgramData\\jupyter\\nbextensions\\autosavetime\\README.md\n",
      "[I 11:25:36 InstallContribNbextensionsApp] - Validating: ok\n",
      "[I 11:25:36 InstallContribNbextensionsApp] Installing C:\\Users\\aischool\\anaconda3\\lib\\site-packages\\jupyter_contrib_nbextensions\\nbextensions\\autoscroll -> autoscroll\n",
      "[I 11:25:36 InstallContribNbextensionsApp] Up to date: C:\\ProgramData\\jupyter\\nbextensions\\autoscroll\\autoscroll.yaml\n",
      "[I 11:25:36 InstallContribNbextensionsApp] Up to date: C:\\ProgramData\\jupyter\\nbextensions\\autoscroll\\icon.png\n",
      "[I 11:25:36 InstallContribNbextensionsApp] Up to date: C:\\ProgramData\\jupyter\\nbextensions\\autoscroll\\main.js\n",
      "[I 11:25:36 InstallContribNbextensionsApp] Up to date: C:\\ProgramData\\jupyter\\nbextensions\\autoscroll\\README.md\n",
      "[I 11:25:36 InstallContribNbextensionsApp] - Validating: ok\n",
      "[I 11:25:36 InstallContribNbextensionsApp] Installing C:\\Users\\aischool\\anaconda3\\lib\\site-packages\\jupyter_contrib_nbextensions\\nbextensions\\cell_filter -> cell_filter\n",
      "[I 11:25:36 InstallContribNbextensionsApp] Up to date: C:\\ProgramData\\jupyter\\nbextensions\\cell_filter\\cell_filter.js\n",
      "[I 11:25:36 InstallContribNbextensionsApp] Up to date: C:\\ProgramData\\jupyter\\nbextensions\\cell_filter\\cell_filter.yml\n",
      "[I 11:25:36 InstallContribNbextensionsApp] Up to date: C:\\ProgramData\\jupyter\\nbextensions\\cell_filter\\README.md\n",
      "[I 11:25:36 InstallContribNbextensionsApp] - Validating: ok\n",
      "[I 11:25:36 InstallContribNbextensionsApp] Installing C:\\Users\\aischool\\anaconda3\\lib\\site-packages\\jupyter_contrib_nbextensions\\nbextensions\\codefolding -> codefolding\n",
      "[I 11:25:36 InstallContribNbextensionsApp] Up to date: C:\\ProgramData\\jupyter\\nbextensions\\codefolding\\codefolding.yaml\n",
      "[I 11:25:36 InstallContribNbextensionsApp] Up to date: C:\\ProgramData\\jupyter\\nbextensions\\codefolding\\codefolding_editor.png\n",
      "[I 11:25:36 InstallContribNbextensionsApp] Up to date: C:\\ProgramData\\jupyter\\nbextensions\\codefolding\\codefolding_editor.yaml\n",
      "[I 11:25:36 InstallContribNbextensionsApp] Up to date: C:\\ProgramData\\jupyter\\nbextensions\\codefolding\\codefolding_firstline_folded.png\n",
      "[I 11:25:36 InstallContribNbextensionsApp] Up to date: C:\\ProgramData\\jupyter\\nbextensions\\codefolding\\codefolding_firstline_unfolded.png\n",
      "[I 11:25:36 InstallContribNbextensionsApp] Up to date: C:\\ProgramData\\jupyter\\nbextensions\\codefolding\\codefolding_indent_folded_1.png\n",
      "[I 11:25:36 InstallContribNbextensionsApp] Up to date: C:\\ProgramData\\jupyter\\nbextensions\\codefolding\\codefolding_indent_folded_2.png\n",
      "[I 11:25:36 InstallContribNbextensionsApp] Up to date: C:\\ProgramData\\jupyter\\nbextensions\\codefolding\\codefolding_indent_unfolded.png\n",
      "[I 11:25:36 InstallContribNbextensionsApp] Up to date: C:\\ProgramData\\jupyter\\nbextensions\\codefolding\\edit.js\n",
      "[I 11:25:36 InstallContribNbextensionsApp] Up to date: C:\\ProgramData\\jupyter\\nbextensions\\codefolding\\firstline-fold.js\n",
      "[I 11:25:36 InstallContribNbextensionsApp] Up to date: C:\\ProgramData\\jupyter\\nbextensions\\codefolding\\foldgutter.css\n",
      "[I 11:25:36 InstallContribNbextensionsApp] Up to date: C:\\ProgramData\\jupyter\\nbextensions\\codefolding\\icon.png\n",
      "[I 11:25:36 InstallContribNbextensionsApp] Up to date: C:\\ProgramData\\jupyter\\nbextensions\\codefolding\\magic-fold.js\n",
      "[I 11:25:36 InstallContribNbextensionsApp] Up to date: C:\\ProgramData\\jupyter\\nbextensions\\codefolding\\magic-folded.png\n",
      "[I 11:25:36 InstallContribNbextensionsApp] Up to date: C:\\ProgramData\\jupyter\\nbextensions\\codefolding\\magic-unfolded.png\n",
      "[I 11:25:36 InstallContribNbextensionsApp] Up to date: C:\\ProgramData\\jupyter\\nbextensions\\codefolding\\main.js\n",
      "[I 11:25:36 InstallContribNbextensionsApp] Up to date: C:\\ProgramData\\jupyter\\nbextensions\\codefolding\\readme.md\n",
      "[I 11:25:36 InstallContribNbextensionsApp] - Validating: ok\n",
      "[I 11:25:36 InstallContribNbextensionsApp] Installing C:\\Users\\aischool\\anaconda3\\lib\\site-packages\\jupyter_contrib_nbextensions\\nbextensions\\codefolding -> codefolding\n",
      "[I 11:25:36 InstallContribNbextensionsApp] Up to date: C:\\ProgramData\\jupyter\\nbextensions\\codefolding\\codefolding.yaml\n",
      "[I 11:25:36 InstallContribNbextensionsApp] Up to date: C:\\ProgramData\\jupyter\\nbextensions\\codefolding\\codefolding_editor.png\n",
      "[I 11:25:36 InstallContribNbextensionsApp] Up to date: C:\\ProgramData\\jupyter\\nbextensions\\codefolding\\codefolding_editor.yaml\n",
      "[I 11:25:36 InstallContribNbextensionsApp] Up to date: C:\\ProgramData\\jupyter\\nbextensions\\codefolding\\codefolding_firstline_folded.png\n",
      "[I 11:25:36 InstallContribNbextensionsApp] Up to date: C:\\ProgramData\\jupyter\\nbextensions\\codefolding\\codefolding_firstline_unfolded.png\n",
      "[I 11:25:36 InstallContribNbextensionsApp] Up to date: C:\\ProgramData\\jupyter\\nbextensions\\codefolding\\codefolding_indent_folded_1.png\n",
      "[I 11:25:36 InstallContribNbextensionsApp] Up to date: C:\\ProgramData\\jupyter\\nbextensions\\codefolding\\codefolding_indent_folded_2.png\n",
      "[I 11:25:36 InstallContribNbextensionsApp] Up to date: C:\\ProgramData\\jupyter\\nbextensions\\codefolding\\codefolding_indent_unfolded.png\n",
      "[I 11:25:36 InstallContribNbextensionsApp] Up to date: C:\\ProgramData\\jupyter\\nbextensions\\codefolding\\edit.js\n",
      "[I 11:25:36 InstallContribNbextensionsApp] Up to date: C:\\ProgramData\\jupyter\\nbextensions\\codefolding\\firstline-fold.js\n",
      "[I 11:25:36 InstallContribNbextensionsApp] Up to date: C:\\ProgramData\\jupyter\\nbextensions\\codefolding\\foldgutter.css\n",
      "[I 11:25:36 InstallContribNbextensionsApp] Up to date: C:\\ProgramData\\jupyter\\nbextensions\\codefolding\\icon.png\n",
      "[I 11:25:36 InstallContribNbextensionsApp] Up to date: C:\\ProgramData\\jupyter\\nbextensions\\codefolding\\magic-fold.js\n",
      "[I 11:25:36 InstallContribNbextensionsApp] Up to date: C:\\ProgramData\\jupyter\\nbextensions\\codefolding\\magic-folded.png\n",
      "[I 11:25:36 InstallContribNbextensionsApp] Up to date: C:\\ProgramData\\jupyter\\nbextensions\\codefolding\\magic-unfolded.png\n",
      "[I 11:25:36 InstallContribNbextensionsApp] Up to date: C:\\ProgramData\\jupyter\\nbextensions\\codefolding\\main.js\n",
      "[I 11:25:36 InstallContribNbextensionsApp] Up to date: C:\\ProgramData\\jupyter\\nbextensions\\codefolding\\readme.md\n",
      "[I 11:25:36 InstallContribNbextensionsApp] - Validating: ok\n",
      "[I 11:25:36 InstallContribNbextensionsApp] Installing C:\\Users\\aischool\\anaconda3\\lib\\site-packages\\jupyter_contrib_nbextensions\\nbextensions\\codemirror_mode_extensions -> codemirror_mode_extensions\n",
      "[I 11:25:36 InstallContribNbextensionsApp] Up to date: C:\\ProgramData\\jupyter\\nbextensions\\codemirror_mode_extensions\\codemirror_mode_extensions.yaml\n",
      "[I 11:25:36 InstallContribNbextensionsApp] Up to date: C:\\ProgramData\\jupyter\\nbextensions\\codemirror_mode_extensions\\main.js\n",
      "[I 11:25:36 InstallContribNbextensionsApp] - Validating: ok\n",
      "[I 11:25:36 InstallContribNbextensionsApp] Installing C:\\Users\\aischool\\anaconda3\\lib\\site-packages\\jupyter_contrib_nbextensions\\nbextensions\\code_font_size -> code_font_size\n",
      "[I 11:25:36 InstallContribNbextensionsApp] Up to date: C:\\ProgramData\\jupyter\\nbextensions\\code_font_size\\code_font_size.js\n",
      "[I 11:25:36 InstallContribNbextensionsApp] Up to date: C:\\ProgramData\\jupyter\\nbextensions\\code_font_size\\code_font_size.yaml\n",
      "[I 11:25:36 InstallContribNbextensionsApp] Up to date: C:\\ProgramData\\jupyter\\nbextensions\\code_font_size\\README.md\n",
      "[I 11:25:36 InstallContribNbextensionsApp] - Validating: ok\n",
      "[I 11:25:36 InstallContribNbextensionsApp] Installing C:\\Users\\aischool\\anaconda3\\lib\\site-packages\\jupyter_contrib_nbextensions\\nbextensions\\code_prettify -> code_prettify\n",
      "[I 11:25:36 InstallContribNbextensionsApp] Up to date: C:\\ProgramData\\jupyter\\nbextensions\\code_prettify\\2to3.js\n",
      "[I 11:25:36 InstallContribNbextensionsApp] Up to date: C:\\ProgramData\\jupyter\\nbextensions\\code_prettify\\2to3.yaml\n",
      "[I 11:25:36 InstallContribNbextensionsApp] Up to date: C:\\ProgramData\\jupyter\\nbextensions\\code_prettify\\autopep8.js\n",
      "[I 11:25:36 InstallContribNbextensionsApp] Up to date: C:\\ProgramData\\jupyter\\nbextensions\\code_prettify\\autopep8.yaml\n",
      "[I 11:25:36 InstallContribNbextensionsApp] Up to date: C:\\ProgramData\\jupyter\\nbextensions\\code_prettify\\code_prettify.js\n",
      "[I 11:25:36 InstallContribNbextensionsApp] Up to date: C:\\ProgramData\\jupyter\\nbextensions\\code_prettify\\code_prettify.yaml\n",
      "[I 11:25:36 InstallContribNbextensionsApp] Up to date: C:\\ProgramData\\jupyter\\nbextensions\\code_prettify\\demo-jv.gif\n",
      "[I 11:25:36 InstallContribNbextensionsApp] Up to date: C:\\ProgramData\\jupyter\\nbextensions\\code_prettify\\demo-py.gif\n",
      "[I 11:25:36 InstallContribNbextensionsApp] Up to date: C:\\ProgramData\\jupyter\\nbextensions\\code_prettify\\demo-R.gif\n",
      "[I 11:25:36 InstallContribNbextensionsApp] Up to date: C:\\ProgramData\\jupyter\\nbextensions\\code_prettify\\demo_2to3.gif\n",
      "[I 11:25:36 InstallContribNbextensionsApp] Up to date: C:\\ProgramData\\jupyter\\nbextensions\\code_prettify\\isort.js\n",
      "[I 11:25:36 InstallContribNbextensionsApp] Up to date: C:\\ProgramData\\jupyter\\nbextensions\\code_prettify\\isort.yaml\n",
      "[I 11:25:36 InstallContribNbextensionsApp] Up to date: C:\\ProgramData\\jupyter\\nbextensions\\code_prettify\\kernel_exec_on_cell.js\n",
      "[I 11:25:36 InstallContribNbextensionsApp] Up to date: C:\\ProgramData\\jupyter\\nbextensions\\code_prettify\\README.md\n",
      "[I 11:25:36 InstallContribNbextensionsApp] Up to date: C:\\ProgramData\\jupyter\\nbextensions\\code_prettify\\README_2to3.md\n",
      "[I 11:25:36 InstallContribNbextensionsApp] Up to date: C:\\ProgramData\\jupyter\\nbextensions\\code_prettify\\README_autopep8.md\n",
      "[I 11:25:36 InstallContribNbextensionsApp] Up to date: C:\\ProgramData\\jupyter\\nbextensions\\code_prettify\\README_code_prettify.md\n",
      "[I 11:25:36 InstallContribNbextensionsApp] Up to date: C:\\ProgramData\\jupyter\\nbextensions\\code_prettify\\README_isort.md\n",
      "[I 11:25:36 InstallContribNbextensionsApp] - Validating: ok\n",
      "[I 11:25:36 InstallContribNbextensionsApp] Installing C:\\Users\\aischool\\anaconda3\\lib\\site-packages\\jupyter_contrib_nbextensions\\nbextensions\\code_prettify -> code_prettify\n",
      "[I 11:25:36 InstallContribNbextensionsApp] Up to date: C:\\ProgramData\\jupyter\\nbextensions\\code_prettify\\2to3.js\n",
      "[I 11:25:36 InstallContribNbextensionsApp] Up to date: C:\\ProgramData\\jupyter\\nbextensions\\code_prettify\\2to3.yaml\n",
      "[I 11:25:36 InstallContribNbextensionsApp] Up to date: C:\\ProgramData\\jupyter\\nbextensions\\code_prettify\\autopep8.js\n",
      "[I 11:25:36 InstallContribNbextensionsApp] Up to date: C:\\ProgramData\\jupyter\\nbextensions\\code_prettify\\autopep8.yaml\n",
      "[I 11:25:36 InstallContribNbextensionsApp] Up to date: C:\\ProgramData\\jupyter\\nbextensions\\code_prettify\\code_prettify.js\n",
      "[I 11:25:36 InstallContribNbextensionsApp] Up to date: C:\\ProgramData\\jupyter\\nbextensions\\code_prettify\\code_prettify.yaml\n",
      "[I 11:25:36 InstallContribNbextensionsApp] Up to date: C:\\ProgramData\\jupyter\\nbextensions\\code_prettify\\demo-jv.gif\n",
      "[I 11:25:36 InstallContribNbextensionsApp] Up to date: C:\\ProgramData\\jupyter\\nbextensions\\code_prettify\\demo-py.gif\n",
      "[I 11:25:36 InstallContribNbextensionsApp] Up to date: C:\\ProgramData\\jupyter\\nbextensions\\code_prettify\\demo-R.gif\n",
      "[I 11:25:36 InstallContribNbextensionsApp] Up to date: C:\\ProgramData\\jupyter\\nbextensions\\code_prettify\\demo_2to3.gif\n",
      "[I 11:25:36 InstallContribNbextensionsApp] Up to date: C:\\ProgramData\\jupyter\\nbextensions\\code_prettify\\isort.js\n",
      "[I 11:25:36 InstallContribNbextensionsApp] Up to date: C:\\ProgramData\\jupyter\\nbextensions\\code_prettify\\isort.yaml\n",
      "[I 11:25:36 InstallContribNbextensionsApp] Up to date: C:\\ProgramData\\jupyter\\nbextensions\\code_prettify\\kernel_exec_on_cell.js\n",
      "[I 11:25:36 InstallContribNbextensionsApp] Up to date: C:\\ProgramData\\jupyter\\nbextensions\\code_prettify\\README.md\n",
      "[I 11:25:36 InstallContribNbextensionsApp] Up to date: C:\\ProgramData\\jupyter\\nbextensions\\code_prettify\\README_2to3.md\n",
      "[I 11:25:36 InstallContribNbextensionsApp] Up to date: C:\\ProgramData\\jupyter\\nbextensions\\code_prettify\\README_autopep8.md\n",
      "[I 11:25:36 InstallContribNbextensionsApp] Up to date: C:\\ProgramData\\jupyter\\nbextensions\\code_prettify\\README_code_prettify.md\n",
      "[I 11:25:36 InstallContribNbextensionsApp] Up to date: C:\\ProgramData\\jupyter\\nbextensions\\code_prettify\\README_isort.md\n",
      "[I 11:25:36 InstallContribNbextensionsApp] - Validating: ok\n",
      "[I 11:25:36 InstallContribNbextensionsApp] Installing C:\\Users\\aischool\\anaconda3\\lib\\site-packages\\jupyter_contrib_nbextensions\\nbextensions\\code_prettify -> code_prettify\n",
      "[I 11:25:36 InstallContribNbextensionsApp] Up to date: C:\\ProgramData\\jupyter\\nbextensions\\code_prettify\\2to3.js\n",
      "[I 11:25:36 InstallContribNbextensionsApp] Up to date: C:\\ProgramData\\jupyter\\nbextensions\\code_prettify\\2to3.yaml\n",
      "[I 11:25:36 InstallContribNbextensionsApp] Up to date: C:\\ProgramData\\jupyter\\nbextensions\\code_prettify\\autopep8.js\n",
      "[I 11:25:36 InstallContribNbextensionsApp] Up to date: C:\\ProgramData\\jupyter\\nbextensions\\code_prettify\\autopep8.yaml\n",
      "[I 11:25:36 InstallContribNbextensionsApp] Up to date: C:\\ProgramData\\jupyter\\nbextensions\\code_prettify\\code_prettify.js\n",
      "[I 11:25:36 InstallContribNbextensionsApp] Up to date: C:\\ProgramData\\jupyter\\nbextensions\\code_prettify\\code_prettify.yaml\n",
      "[I 11:25:36 InstallContribNbextensionsApp] Up to date: C:\\ProgramData\\jupyter\\nbextensions\\code_prettify\\demo-jv.gif\n",
      "[I 11:25:36 InstallContribNbextensionsApp] Up to date: C:\\ProgramData\\jupyter\\nbextensions\\code_prettify\\demo-py.gif\n",
      "[I 11:25:36 InstallContribNbextensionsApp] Up to date: C:\\ProgramData\\jupyter\\nbextensions\\code_prettify\\demo-R.gif\n",
      "[I 11:25:36 InstallContribNbextensionsApp] Up to date: C:\\ProgramData\\jupyter\\nbextensions\\code_prettify\\demo_2to3.gif\n",
      "[I 11:25:36 InstallContribNbextensionsApp] Up to date: C:\\ProgramData\\jupyter\\nbextensions\\code_prettify\\isort.js\n",
      "[I 11:25:36 InstallContribNbextensionsApp] Up to date: C:\\ProgramData\\jupyter\\nbextensions\\code_prettify\\isort.yaml\n",
      "[I 11:25:36 InstallContribNbextensionsApp] Up to date: C:\\ProgramData\\jupyter\\nbextensions\\code_prettify\\kernel_exec_on_cell.js\n"
     ]
    },
    {
     "name": "stderr",
     "output_type": "stream",
     "text": [
      "[I 11:25:36 InstallContribNbextensionsApp] Up to date: C:\\ProgramData\\jupyter\\nbextensions\\code_prettify\\README.md\n",
      "[I 11:25:36 InstallContribNbextensionsApp] Up to date: C:\\ProgramData\\jupyter\\nbextensions\\code_prettify\\README_2to3.md\n",
      "[I 11:25:36 InstallContribNbextensionsApp] Up to date: C:\\ProgramData\\jupyter\\nbextensions\\code_prettify\\README_autopep8.md\n",
      "[I 11:25:36 InstallContribNbextensionsApp] Up to date: C:\\ProgramData\\jupyter\\nbextensions\\code_prettify\\README_code_prettify.md\n",
      "[I 11:25:36 InstallContribNbextensionsApp] Up to date: C:\\ProgramData\\jupyter\\nbextensions\\code_prettify\\README_isort.md\n",
      "[I 11:25:36 InstallContribNbextensionsApp] - Validating: ok\n",
      "[I 11:25:36 InstallContribNbextensionsApp] Installing C:\\Users\\aischool\\anaconda3\\lib\\site-packages\\jupyter_contrib_nbextensions\\nbextensions\\code_prettify -> code_prettify\n",
      "[I 11:25:36 InstallContribNbextensionsApp] Up to date: C:\\ProgramData\\jupyter\\nbextensions\\code_prettify\\2to3.js\n",
      "[I 11:25:36 InstallContribNbextensionsApp] Up to date: C:\\ProgramData\\jupyter\\nbextensions\\code_prettify\\2to3.yaml\n",
      "[I 11:25:36 InstallContribNbextensionsApp] Up to date: C:\\ProgramData\\jupyter\\nbextensions\\code_prettify\\autopep8.js\n",
      "[I 11:25:36 InstallContribNbextensionsApp] Up to date: C:\\ProgramData\\jupyter\\nbextensions\\code_prettify\\autopep8.yaml\n",
      "[I 11:25:36 InstallContribNbextensionsApp] Up to date: C:\\ProgramData\\jupyter\\nbextensions\\code_prettify\\code_prettify.js\n",
      "[I 11:25:36 InstallContribNbextensionsApp] Up to date: C:\\ProgramData\\jupyter\\nbextensions\\code_prettify\\code_prettify.yaml\n",
      "[I 11:25:36 InstallContribNbextensionsApp] Up to date: C:\\ProgramData\\jupyter\\nbextensions\\code_prettify\\demo-jv.gif\n",
      "[I 11:25:36 InstallContribNbextensionsApp] Up to date: C:\\ProgramData\\jupyter\\nbextensions\\code_prettify\\demo-py.gif\n",
      "[I 11:25:36 InstallContribNbextensionsApp] Up to date: C:\\ProgramData\\jupyter\\nbextensions\\code_prettify\\demo-R.gif\n",
      "[I 11:25:36 InstallContribNbextensionsApp] Up to date: C:\\ProgramData\\jupyter\\nbextensions\\code_prettify\\demo_2to3.gif\n",
      "[I 11:25:36 InstallContribNbextensionsApp] Up to date: C:\\ProgramData\\jupyter\\nbextensions\\code_prettify\\isort.js\n",
      "[I 11:25:36 InstallContribNbextensionsApp] Up to date: C:\\ProgramData\\jupyter\\nbextensions\\code_prettify\\isort.yaml\n",
      "[I 11:25:36 InstallContribNbextensionsApp] Up to date: C:\\ProgramData\\jupyter\\nbextensions\\code_prettify\\kernel_exec_on_cell.js\n",
      "[I 11:25:36 InstallContribNbextensionsApp] Up to date: C:\\ProgramData\\jupyter\\nbextensions\\code_prettify\\README.md\n",
      "[I 11:25:36 InstallContribNbextensionsApp] Up to date: C:\\ProgramData\\jupyter\\nbextensions\\code_prettify\\README_2to3.md\n",
      "[I 11:25:36 InstallContribNbextensionsApp] Up to date: C:\\ProgramData\\jupyter\\nbextensions\\code_prettify\\README_autopep8.md\n",
      "[I 11:25:36 InstallContribNbextensionsApp] Up to date: C:\\ProgramData\\jupyter\\nbextensions\\code_prettify\\README_code_prettify.md\n",
      "[I 11:25:36 InstallContribNbextensionsApp] Up to date: C:\\ProgramData\\jupyter\\nbextensions\\code_prettify\\README_isort.md\n",
      "[I 11:25:36 InstallContribNbextensionsApp] - Validating: ok\n",
      "[I 11:25:36 InstallContribNbextensionsApp] Installing C:\\Users\\aischool\\anaconda3\\lib\\site-packages\\jupyter_contrib_nbextensions\\nbextensions\\collapsible_headings -> collapsible_headings\n",
      "[I 11:25:36 InstallContribNbextensionsApp] Up to date: C:\\ProgramData\\jupyter\\nbextensions\\collapsible_headings\\collapsible_headings.yaml\n",
      "[I 11:25:36 InstallContribNbextensionsApp] Up to date: C:\\ProgramData\\jupyter\\nbextensions\\collapsible_headings\\icon.png\n",
      "[I 11:25:36 InstallContribNbextensionsApp] Up to date: C:\\ProgramData\\jupyter\\nbextensions\\collapsible_headings\\main.css\n",
      "[I 11:25:36 InstallContribNbextensionsApp] Up to date: C:\\ProgramData\\jupyter\\nbextensions\\collapsible_headings\\main.js\n",
      "[I 11:25:36 InstallContribNbextensionsApp] Up to date: C:\\ProgramData\\jupyter\\nbextensions\\collapsible_headings\\readme.md\n",
      "[I 11:25:36 InstallContribNbextensionsApp] Up to date: C:\\ProgramData\\jupyter\\nbextensions\\collapsible_headings\\screenshot.png\n",
      "[I 11:25:36 InstallContribNbextensionsApp] - Validating: ok\n",
      "[I 11:25:36 InstallContribNbextensionsApp] Installing C:\\Users\\aischool\\anaconda3\\lib\\site-packages\\jupyter_contrib_nbextensions\\nbextensions\\comment-uncomment -> comment-uncomment\n",
      "[I 11:25:36 InstallContribNbextensionsApp] Up to date: C:\\ProgramData\\jupyter\\nbextensions\\comment-uncomment\\comment-uncomment.yaml\n",
      "[I 11:25:36 InstallContribNbextensionsApp] Up to date: C:\\ProgramData\\jupyter\\nbextensions\\comment-uncomment\\icon.png\n",
      "[I 11:25:36 InstallContribNbextensionsApp] Up to date: C:\\ProgramData\\jupyter\\nbextensions\\comment-uncomment\\main.js\n",
      "[I 11:25:36 InstallContribNbextensionsApp] Up to date: C:\\ProgramData\\jupyter\\nbextensions\\comment-uncomment\\readme.md\n",
      "[I 11:25:36 InstallContribNbextensionsApp] - Validating: ok\n",
      "[I 11:25:36 InstallContribNbextensionsApp] Installing C:\\Users\\aischool\\anaconda3\\lib\\site-packages\\jupyter_contrib_nbextensions\\nbextensions\\contrib_nbextensions_help_item -> contrib_nbextensions_help_item\n",
      "[I 11:25:36 InstallContribNbextensionsApp] Up to date: C:\\ProgramData\\jupyter\\nbextensions\\contrib_nbextensions_help_item\\contrib_nbextensions_help_item.yaml\n",
      "[I 11:25:36 InstallContribNbextensionsApp] Up to date: C:\\ProgramData\\jupyter\\nbextensions\\contrib_nbextensions_help_item\\main.js\n",
      "[I 11:25:36 InstallContribNbextensionsApp] Up to date: C:\\ProgramData\\jupyter\\nbextensions\\contrib_nbextensions_help_item\\README.md\n",
      "[I 11:25:36 InstallContribNbextensionsApp] - Validating: ok\n",
      "[I 11:25:36 InstallContribNbextensionsApp] Installing C:\\Users\\aischool\\anaconda3\\lib\\site-packages\\jupyter_contrib_nbextensions\\nbextensions\\datestamper -> datestamper\n",
      "[I 11:25:36 InstallContribNbextensionsApp] Up to date: C:\\ProgramData\\jupyter\\nbextensions\\datestamper\\icon.png\n",
      "[I 11:25:36 InstallContribNbextensionsApp] Up to date: C:\\ProgramData\\jupyter\\nbextensions\\datestamper\\main.js\n",
      "[I 11:25:36 InstallContribNbextensionsApp] Up to date: C:\\ProgramData\\jupyter\\nbextensions\\datestamper\\main.yaml\n",
      "[I 11:25:36 InstallContribNbextensionsApp] Up to date: C:\\ProgramData\\jupyter\\nbextensions\\datestamper\\readme.md\n",
      "[I 11:25:36 InstallContribNbextensionsApp] - Validating: ok\n",
      "[I 11:25:36 InstallContribNbextensionsApp] Installing C:\\Users\\aischool\\anaconda3\\lib\\site-packages\\jupyter_contrib_nbextensions\\nbextensions\\equation-numbering -> equation-numbering\n",
      "[I 11:25:36 InstallContribNbextensionsApp] Up to date: C:\\ProgramData\\jupyter\\nbextensions\\equation-numbering\\button.png\n",
      "[I 11:25:36 InstallContribNbextensionsApp] Up to date: C:\\ProgramData\\jupyter\\nbextensions\\equation-numbering\\icon.png\n",
      "[I 11:25:36 InstallContribNbextensionsApp] Up to date: C:\\ProgramData\\jupyter\\nbextensions\\equation-numbering\\info.yaml\n",
      "[I 11:25:36 InstallContribNbextensionsApp] Up to date: C:\\ProgramData\\jupyter\\nbextensions\\equation-numbering\\main.js\n",
      "[I 11:25:36 InstallContribNbextensionsApp] Up to date: C:\\ProgramData\\jupyter\\nbextensions\\equation-numbering\\readme.md\n",
      "[I 11:25:36 InstallContribNbextensionsApp] - Validating: ok\n",
      "[I 11:25:36 InstallContribNbextensionsApp] Installing C:\\Users\\aischool\\anaconda3\\lib\\site-packages\\jupyter_contrib_nbextensions\\nbextensions\\execute_time -> execute_time\n",
      "[I 11:25:36 InstallContribNbextensionsApp] Up to date: C:\\ProgramData\\jupyter\\nbextensions\\execute_time\\ExecuteTime.css\n",
      "[I 11:25:36 InstallContribNbextensionsApp] Up to date: C:\\ProgramData\\jupyter\\nbextensions\\execute_time\\ExecuteTime.js\n",
      "[I 11:25:36 InstallContribNbextensionsApp] Up to date: C:\\ProgramData\\jupyter\\nbextensions\\execute_time\\ExecuteTime.yaml\n",
      "[I 11:25:36 InstallContribNbextensionsApp] Up to date: C:\\ProgramData\\jupyter\\nbextensions\\execute_time\\execution-timings-box.png\n",
      "[I 11:25:36 InstallContribNbextensionsApp] Up to date: C:\\ProgramData\\jupyter\\nbextensions\\execute_time\\execution-timings-menu.png\n",
      "[I 11:25:36 InstallContribNbextensionsApp] Up to date: C:\\ProgramData\\jupyter\\nbextensions\\execute_time\\icon.png\n",
      "[I 11:25:36 InstallContribNbextensionsApp] Up to date: C:\\ProgramData\\jupyter\\nbextensions\\execute_time\\readme.md\n",
      "[I 11:25:36 InstallContribNbextensionsApp] - Validating: ok\n",
      "[I 11:25:36 InstallContribNbextensionsApp] Installing C:\\Users\\aischool\\anaconda3\\lib\\site-packages\\jupyter_contrib_nbextensions\\nbextensions\\execution_dependencies -> execution_dependencies\n",
      "[I 11:25:36 InstallContribNbextensionsApp] Up to date: C:\\ProgramData\\jupyter\\nbextensions\\execution_dependencies\\execution_dependencies.js\n",
      "[I 11:25:36 InstallContribNbextensionsApp] Up to date: C:\\ProgramData\\jupyter\\nbextensions\\execution_dependencies\\execution_dependencies.yml\n",
      "[I 11:25:36 InstallContribNbextensionsApp] Up to date: C:\\ProgramData\\jupyter\\nbextensions\\execution_dependencies\\README.md\n",
      "[I 11:25:36 InstallContribNbextensionsApp] - Validating: ok\n",
      "[I 11:25:36 InstallContribNbextensionsApp] Installing C:\\Users\\aischool\\anaconda3\\lib\\site-packages\\jupyter_contrib_nbextensions\\nbextensions\\exercise -> exercise\n",
      "[I 11:25:36 InstallContribNbextensionsApp] Up to date: C:\\ProgramData\\jupyter\\nbextensions\\exercise\\exercise.yaml\n",
      "[I 11:25:36 InstallContribNbextensionsApp] Up to date: C:\\ProgramData\\jupyter\\nbextensions\\exercise\\history.md\n",
      "[I 11:25:36 InstallContribNbextensionsApp] Up to date: C:\\ProgramData\\jupyter\\nbextensions\\exercise\\icon.png\n",
      "[I 11:25:36 InstallContribNbextensionsApp] Up to date: C:\\ProgramData\\jupyter\\nbextensions\\exercise\\image.gif\n",
      "[I 11:25:36 InstallContribNbextensionsApp] Up to date: C:\\ProgramData\\jupyter\\nbextensions\\exercise\\main.css\n",
      "[I 11:25:36 InstallContribNbextensionsApp] Up to date: C:\\ProgramData\\jupyter\\nbextensions\\exercise\\main.js\n",
      "[I 11:25:36 InstallContribNbextensionsApp] Up to date: C:\\ProgramData\\jupyter\\nbextensions\\exercise\\readme.md\n",
      "[I 11:25:36 InstallContribNbextensionsApp] - Validating: ok\n",
      "[I 11:25:36 InstallContribNbextensionsApp] Installing C:\\Users\\aischool\\anaconda3\\lib\\site-packages\\jupyter_contrib_nbextensions\\nbextensions\\exercise2 -> exercise2\n",
      "[I 11:25:36 InstallContribNbextensionsApp] Up to date: C:\\ProgramData\\jupyter\\nbextensions\\exercise2\\exercise2.yaml\n",
      "[I 11:25:36 InstallContribNbextensionsApp] Up to date: C:\\ProgramData\\jupyter\\nbextensions\\exercise2\\icon.png\n",
      "[I 11:25:36 InstallContribNbextensionsApp] Up to date: C:\\ProgramData\\jupyter\\nbextensions\\exercise2\\image.gif\n",
      "[I 11:25:36 InstallContribNbextensionsApp] Up to date: C:\\ProgramData\\jupyter\\nbextensions\\exercise2\\main.css\n",
      "[I 11:25:36 InstallContribNbextensionsApp] Up to date: C:\\ProgramData\\jupyter\\nbextensions\\exercise2\\main.js\n",
      "[I 11:25:36 InstallContribNbextensionsApp] Up to date: C:\\ProgramData\\jupyter\\nbextensions\\exercise2\\readme.md\n",
      "[I 11:25:36 InstallContribNbextensionsApp] - Validating: ok\n",
      "[I 11:25:36 InstallContribNbextensionsApp] Installing C:\\Users\\aischool\\anaconda3\\lib\\site-packages\\jupyter_contrib_nbextensions\\nbextensions\\export_embedded -> export_embedded\n",
      "[I 11:25:36 InstallContribNbextensionsApp] Up to date: C:\\ProgramData\\jupyter\\nbextensions\\export_embedded\\export_embedded.yaml\n",
      "[I 11:25:36 InstallContribNbextensionsApp] Up to date: C:\\ProgramData\\jupyter\\nbextensions\\export_embedded\\icon.png\n",
      "[I 11:25:36 InstallContribNbextensionsApp] Up to date: C:\\ProgramData\\jupyter\\nbextensions\\export_embedded\\main.js\n",
      "[I 11:25:36 InstallContribNbextensionsApp] Up to date: C:\\ProgramData\\jupyter\\nbextensions\\export_embedded\\readme.md\n",
      "[I 11:25:36 InstallContribNbextensionsApp] - Validating: ok\n",
      "[I 11:25:36 InstallContribNbextensionsApp] Installing C:\\Users\\aischool\\anaconda3\\lib\\site-packages\\jupyter_contrib_nbextensions\\nbextensions\\freeze -> freeze\n",
      "[I 11:25:36 InstallContribNbextensionsApp] Up to date: C:\\ProgramData\\jupyter\\nbextensions\\freeze\\config.yaml\n",
      "[I 11:25:36 InstallContribNbextensionsApp] Up to date: C:\\ProgramData\\jupyter\\nbextensions\\freeze\\icon.png\n",
      "[I 11:25:36 InstallContribNbextensionsApp] Up to date: C:\\ProgramData\\jupyter\\nbextensions\\freeze\\main.js\n",
      "[I 11:25:36 InstallContribNbextensionsApp] Up to date: C:\\ProgramData\\jupyter\\nbextensions\\freeze\\readme.md\n",
      "[I 11:25:36 InstallContribNbextensionsApp] - Validating: ok\n",
      "[I 11:25:36 InstallContribNbextensionsApp] Installing C:\\Users\\aischool\\anaconda3\\lib\\site-packages\\jupyter_contrib_nbextensions\\nbextensions\\gist_it -> gist_it\n",
      "[I 11:25:36 InstallContribNbextensionsApp] Up to date: C:\\ProgramData\\jupyter\\nbextensions\\gist_it\\gist_it.yaml\n",
      "[I 11:25:36 InstallContribNbextensionsApp] Up to date: C:\\ProgramData\\jupyter\\nbextensions\\gist_it\\icon.png\n",
      "[I 11:25:36 InstallContribNbextensionsApp] Up to date: C:\\ProgramData\\jupyter\\nbextensions\\gist_it\\main.js\n",
      "[I 11:25:36 InstallContribNbextensionsApp] Up to date: C:\\ProgramData\\jupyter\\nbextensions\\gist_it\\readme.md\n",
      "[I 11:25:36 InstallContribNbextensionsApp] - Validating: ok\n",
      "[I 11:25:36 InstallContribNbextensionsApp] Installing C:\\Users\\aischool\\anaconda3\\lib\\site-packages\\jupyter_contrib_nbextensions\\nbextensions\\help_panel -> help_panel\n",
      "[I 11:25:36 InstallContribNbextensionsApp] Up to date: C:\\ProgramData\\jupyter\\nbextensions\\help_panel\\help_panel.css\n",
      "[I 11:25:36 InstallContribNbextensionsApp] Up to date: C:\\ProgramData\\jupyter\\nbextensions\\help_panel\\help_panel.js\n",
      "[I 11:25:36 InstallContribNbextensionsApp] Up to date: C:\\ProgramData\\jupyter\\nbextensions\\help_panel\\help_panel.yaml\n",
      "[I 11:25:36 InstallContribNbextensionsApp] Up to date: C:\\ProgramData\\jupyter\\nbextensions\\help_panel\\help_panel_ext.png\n",
      "[I 11:25:36 InstallContribNbextensionsApp] Up to date: C:\\ProgramData\\jupyter\\nbextensions\\help_panel\\help_panel_ext_fullscreen.png\n",
      "[I 11:25:36 InstallContribNbextensionsApp] Up to date: C:\\ProgramData\\jupyter\\nbextensions\\help_panel\\icon.png\n",
      "[I 11:25:36 InstallContribNbextensionsApp] Up to date: C:\\ProgramData\\jupyter\\nbextensions\\help_panel\\readme.md\n",
      "[I 11:25:36 InstallContribNbextensionsApp] Up to date: C:\\ProgramData\\jupyter\\nbextensions\\help_panel\\img\\handle-v.png\n",
      "[I 11:25:36 InstallContribNbextensionsApp] - Validating: ok\n",
      "[I 11:25:36 InstallContribNbextensionsApp] Installing C:\\Users\\aischool\\anaconda3\\lib\\site-packages\\jupyter_contrib_nbextensions\\nbextensions\\hide_header -> hide_header\n",
      "[I 11:25:36 InstallContribNbextensionsApp] Up to date: C:\\ProgramData\\jupyter\\nbextensions\\hide_header\\hide_header.yaml\n",
      "[I 11:25:36 InstallContribNbextensionsApp] Up to date: C:\\ProgramData\\jupyter\\nbextensions\\hide_header\\main.js\n",
      "[I 11:25:36 InstallContribNbextensionsApp] Up to date: C:\\ProgramData\\jupyter\\nbextensions\\hide_header\\README.md\n",
      "[I 11:25:36 InstallContribNbextensionsApp] - Validating: ok\n",
      "[I 11:25:36 InstallContribNbextensionsApp] Installing C:\\Users\\aischool\\anaconda3\\lib\\site-packages\\jupyter_contrib_nbextensions\\nbextensions\\hide_input -> hide_input\n",
      "[I 11:25:36 InstallContribNbextensionsApp] Up to date: C:\\ProgramData\\jupyter\\nbextensions\\hide_input\\hide-input.yaml\n",
      "[I 11:25:36 InstallContribNbextensionsApp] Up to date: C:\\ProgramData\\jupyter\\nbextensions\\hide_input\\icon.png\n",
      "[I 11:25:36 InstallContribNbextensionsApp] Up to date: C:\\ProgramData\\jupyter\\nbextensions\\hide_input\\main.js\n",
      "[I 11:25:36 InstallContribNbextensionsApp] Up to date: C:\\ProgramData\\jupyter\\nbextensions\\hide_input\\readme.md\n",
      "[I 11:25:36 InstallContribNbextensionsApp] - Validating: ok\n",
      "[I 11:25:36 InstallContribNbextensionsApp] Installing C:\\Users\\aischool\\anaconda3\\lib\\site-packages\\jupyter_contrib_nbextensions\\nbextensions\\hide_input_all -> hide_input_all\n",
      "[I 11:25:36 InstallContribNbextensionsApp] Up to date: C:\\ProgramData\\jupyter\\nbextensions\\hide_input_all\\hide_input_all.yaml\n",
      "[I 11:25:36 InstallContribNbextensionsApp] Up to date: C:\\ProgramData\\jupyter\\nbextensions\\hide_input_all\\hide_input_all_hide.png\n",
      "[I 11:25:36 InstallContribNbextensionsApp] Up to date: C:\\ProgramData\\jupyter\\nbextensions\\hide_input_all\\hide_input_all_show.png\n",
      "[I 11:25:36 InstallContribNbextensionsApp] Up to date: C:\\ProgramData\\jupyter\\nbextensions\\hide_input_all\\icon.png\n",
      "[I 11:25:36 InstallContribNbextensionsApp] Up to date: C:\\ProgramData\\jupyter\\nbextensions\\hide_input_all\\main.js\n",
      "[I 11:25:36 InstallContribNbextensionsApp] Up to date: C:\\ProgramData\\jupyter\\nbextensions\\hide_input_all\\readme.md\n",
      "[I 11:25:36 InstallContribNbextensionsApp] - Validating: ok\n",
      "[I 11:25:36 InstallContribNbextensionsApp] Installing C:\\Users\\aischool\\anaconda3\\lib\\site-packages\\jupyter_contrib_nbextensions\\nbextensions\\highlighter -> highlighter\n",
      "[I 11:25:36 InstallContribNbextensionsApp] Up to date: C:\\ProgramData\\jupyter\\nbextensions\\highlighter\\demo_highlighter.html\n",
      "[I 11:25:36 InstallContribNbextensionsApp] Up to date: C:\\ProgramData\\jupyter\\nbextensions\\highlighter\\demo_highlighter.ipynb\n",
      "[I 11:25:36 InstallContribNbextensionsApp] Up to date: C:\\ProgramData\\jupyter\\nbextensions\\highlighter\\export_highlights.html\n",
      "[I 11:25:36 InstallContribNbextensionsApp] Up to date: C:\\ProgramData\\jupyter\\nbextensions\\highlighter\\export_highlights.ipynb\n",
      "[I 11:25:36 InstallContribNbextensionsApp] Up to date: C:\\ProgramData\\jupyter\\nbextensions\\highlighter\\export_highlights.pdf\n",
      "[I 11:25:36 InstallContribNbextensionsApp] Up to date: C:\\ProgramData\\jupyter\\nbextensions\\highlighter\\export_highlights.tex\n",
      "[I 11:25:36 InstallContribNbextensionsApp] Up to date: C:\\ProgramData\\jupyter\\nbextensions\\highlighter\\highlighter.css\n",
      "[I 11:25:36 InstallContribNbextensionsApp] Up to date: C:\\ProgramData\\jupyter\\nbextensions\\highlighter\\highlighter.js\n",
      "[I 11:25:36 InstallContribNbextensionsApp] Up to date: C:\\ProgramData\\jupyter\\nbextensions\\highlighter\\highlighter.yaml\n",
      "[I 11:25:36 InstallContribNbextensionsApp] Up to date: C:\\ProgramData\\jupyter\\nbextensions\\highlighter\\icon.png\n",
      "[I 11:25:36 InstallContribNbextensionsApp] Up to date: C:\\ProgramData\\jupyter\\nbextensions\\highlighter\\image.gif\n",
      "[I 11:25:36 InstallContribNbextensionsApp] Up to date: C:\\ProgramData\\jupyter\\nbextensions\\highlighter\\readme.md\n",
      "[I 11:25:36 InstallContribNbextensionsApp] Up to date: C:\\ProgramData\\jupyter\\nbextensions\\highlighter\\tst_highlights.html\n",
      "[I 11:25:36 InstallContribNbextensionsApp] Up to date: C:\\ProgramData\\jupyter\\nbextensions\\highlighter\\tst_highlights.ipynb\n",
      "[I 11:25:36 InstallContribNbextensionsApp] Up to date: C:\\ProgramData\\jupyter\\nbextensions\\highlighter\\tst_highlights.pdf\n",
      "[I 11:25:36 InstallContribNbextensionsApp] Up to date: C:\\ProgramData\\jupyter\\nbextensions\\highlighter\\tst_highlights.tex\n",
      "[I 11:25:36 InstallContribNbextensionsApp] - Validating: ok\n",
      "[I 11:25:36 InstallContribNbextensionsApp] Installing C:\\Users\\aischool\\anaconda3\\lib\\site-packages\\jupyter_contrib_nbextensions\\nbextensions\\hinterland -> hinterland\n",
      "[I 11:25:36 InstallContribNbextensionsApp] Up to date: C:\\ProgramData\\jupyter\\nbextensions\\hinterland\\hinterland.js\n",
      "[I 11:25:36 InstallContribNbextensionsApp] Up to date: C:\\ProgramData\\jupyter\\nbextensions\\hinterland\\hinterland.yaml\n",
      "[I 11:25:36 InstallContribNbextensionsApp] Up to date: C:\\ProgramData\\jupyter\\nbextensions\\hinterland\\README.md\n",
      "[I 11:25:36 InstallContribNbextensionsApp] - Validating: ok\n",
      "[I 11:25:36 InstallContribNbextensionsApp] Installing C:\\Users\\aischool\\anaconda3\\lib\\site-packages\\jupyter_contrib_nbextensions\\nbextensions\\init_cell -> init_cell\n",
      "[I 11:25:36 InstallContribNbextensionsApp] Up to date: C:\\ProgramData\\jupyter\\nbextensions\\init_cell\\cell_toolbar_menu.png\n",
      "[I 11:25:36 InstallContribNbextensionsApp] Up to date: C:\\ProgramData\\jupyter\\nbextensions\\init_cell\\icon.png\n",
      "[I 11:25:36 InstallContribNbextensionsApp] Up to date: C:\\ProgramData\\jupyter\\nbextensions\\init_cell\\init_cell.yaml\n",
      "[I 11:25:36 InstallContribNbextensionsApp] Up to date: C:\\ProgramData\\jupyter\\nbextensions\\init_cell\\main.js\n",
      "[I 11:25:36 InstallContribNbextensionsApp] Up to date: C:\\ProgramData\\jupyter\\nbextensions\\init_cell\\README.md\n",
      "[I 11:25:36 InstallContribNbextensionsApp] - Validating: ok\n",
      "[I 11:25:36 InstallContribNbextensionsApp] Installing C:\\Users\\aischool\\anaconda3\\lib\\site-packages\\jupyter_contrib_nbextensions\\nbextensions\\keyboard_shortcut_editor -> keyboard_shortcut_editor\n",
      "[I 11:25:36 InstallContribNbextensionsApp] Up to date: C:\\ProgramData\\jupyter\\nbextensions\\keyboard_shortcut_editor\\icon.png\n",
      "[I 11:25:36 InstallContribNbextensionsApp] Up to date: C:\\ProgramData\\jupyter\\nbextensions\\keyboard_shortcut_editor\\keyboard_shortcut_editor.yaml\n",
      "[I 11:25:36 InstallContribNbextensionsApp] Up to date: C:\\ProgramData\\jupyter\\nbextensions\\keyboard_shortcut_editor\\kse_components.js\n",
      "[I 11:25:36 InstallContribNbextensionsApp] Up to date: C:\\ProgramData\\jupyter\\nbextensions\\keyboard_shortcut_editor\\main.css\n",
      "[I 11:25:36 InstallContribNbextensionsApp] Up to date: C:\\ProgramData\\jupyter\\nbextensions\\keyboard_shortcut_editor\\main.js\n",
      "[I 11:25:36 InstallContribNbextensionsApp] Up to date: C:\\ProgramData\\jupyter\\nbextensions\\keyboard_shortcut_editor\\quickhelp_shim.js\n",
      "[I 11:25:36 InstallContribNbextensionsApp] Up to date: C:\\ProgramData\\jupyter\\nbextensions\\keyboard_shortcut_editor\\README.md\n",
      "[I 11:25:36 InstallContribNbextensionsApp] Up to date: C:\\ProgramData\\jupyter\\nbextensions\\keyboard_shortcut_editor\\readme_add_new_link.png\n",
      "[I 11:25:36 InstallContribNbextensionsApp] Up to date: C:\\ProgramData\\jupyter\\nbextensions\\keyboard_shortcut_editor\\readme_add_new_select_action.png\n",
      "[I 11:25:36 InstallContribNbextensionsApp] Up to date: C:\\ProgramData\\jupyter\\nbextensions\\keyboard_shortcut_editor\\readme_comma.png\n",
      "[I 11:25:36 InstallContribNbextensionsApp] Up to date: C:\\ProgramData\\jupyter\\nbextensions\\keyboard_shortcut_editor\\readme_conflict.png\n",
      "[I 11:25:36 InstallContribNbextensionsApp] Up to date: C:\\ProgramData\\jupyter\\nbextensions\\keyboard_shortcut_editor\\readme_dropdown.png\n",
      "[I 11:25:36 InstallContribNbextensionsApp] Up to date: C:\\ProgramData\\jupyter\\nbextensions\\keyboard_shortcut_editor\\readme_menu_item.png\n",
      "[I 11:25:36 InstallContribNbextensionsApp] Up to date: C:\\ProgramData\\jupyter\\nbextensions\\keyboard_shortcut_editor\\readme_reset_disabled.png\n",
      "[I 11:25:36 InstallContribNbextensionsApp] Up to date: C:\\ProgramData\\jupyter\\nbextensions\\keyboard_shortcut_editor\\readme_shortcut_editor_blank.png\n",
      "[I 11:25:36 InstallContribNbextensionsApp] Up to date: C:\\ProgramData\\jupyter\\nbextensions\\keyboard_shortcut_editor\\readme_shortcut_editor_success.png\n",
      "[I 11:25:36 InstallContribNbextensionsApp] Up to date: C:\\ProgramData\\jupyter\\nbextensions\\keyboard_shortcut_editor\\readme_undefined_key.png\n",
      "[I 11:25:36 InstallContribNbextensionsApp] - Validating: ok\n",
      "[I 11:25:36 InstallContribNbextensionsApp] Installing C:\\Users\\aischool\\anaconda3\\lib\\site-packages\\jupyter_contrib_nbextensions\\nbextensions\\limit_output -> limit_output\n",
      "[I 11:25:36 InstallContribNbextensionsApp] Up to date: C:\\ProgramData\\jupyter\\nbextensions\\limit_output\\icon.png\n",
      "[I 11:25:36 InstallContribNbextensionsApp] Up to date: C:\\ProgramData\\jupyter\\nbextensions\\limit_output\\limit-output.yaml\n",
      "[I 11:25:36 InstallContribNbextensionsApp] Up to date: C:\\ProgramData\\jupyter\\nbextensions\\limit_output\\main.js\n",
      "[I 11:25:36 InstallContribNbextensionsApp] Up to date: C:\\ProgramData\\jupyter\\nbextensions\\limit_output\\readme.md\n",
      "[I 11:25:36 InstallContribNbextensionsApp] - Validating: ok\n",
      "[I 11:25:36 InstallContribNbextensionsApp] Installing C:\\Users\\aischool\\anaconda3\\lib\\site-packages\\jupyter_contrib_nbextensions\\nbextensions\\livemdpreview -> livemdpreview\n",
      "[I 11:25:36 InstallContribNbextensionsApp] Up to date: C:\\ProgramData\\jupyter\\nbextensions\\livemdpreview\\livemdpreview.js\n",
      "[I 11:25:36 InstallContribNbextensionsApp] Up to date: C:\\ProgramData\\jupyter\\nbextensions\\livemdpreview\\livemdpreview.yml\n",
      "[I 11:25:36 InstallContribNbextensionsApp] - Validating: ok\n",
      "[I 11:25:36 InstallContribNbextensionsApp] Installing C:\\Users\\aischool\\anaconda3\\lib\\site-packages\\jupyter_contrib_nbextensions\\nbextensions\\load_tex_macros -> load_tex_macros\n",
      "[I 11:25:36 InstallContribNbextensionsApp] Up to date: C:\\ProgramData\\jupyter\\nbextensions\\load_tex_macros\\icon.png\n",
      "[I 11:25:36 InstallContribNbextensionsApp] Up to date: C:\\ProgramData\\jupyter\\nbextensions\\load_tex_macros\\load_tex_macros.yaml\n",
      "[I 11:25:36 InstallContribNbextensionsApp] Up to date: C:\\ProgramData\\jupyter\\nbextensions\\load_tex_macros\\main.js\n",
      "[I 11:25:36 InstallContribNbextensionsApp] Up to date: C:\\ProgramData\\jupyter\\nbextensions\\load_tex_macros\\readme.md\n",
      "[I 11:25:36 InstallContribNbextensionsApp] - Validating: ok\n",
      "[I 11:25:36 InstallContribNbextensionsApp] Installing C:\\Users\\aischool\\anaconda3\\lib\\site-packages\\jupyter_contrib_nbextensions\\nbextensions\\move_selected_cells -> move_selected_cells\n",
      "[I 11:25:36 InstallContribNbextensionsApp] Up to date: C:\\ProgramData\\jupyter\\nbextensions\\move_selected_cells\\main.js\n",
      "[I 11:25:36 InstallContribNbextensionsApp] Up to date: C:\\ProgramData\\jupyter\\nbextensions\\move_selected_cells\\move_selected_cells.yaml\n",
      "[I 11:25:36 InstallContribNbextensionsApp] Up to date: C:\\ProgramData\\jupyter\\nbextensions\\move_selected_cells\\README.md\n",
      "[I 11:25:36 InstallContribNbextensionsApp] - Validating: ok\n",
      "[I 11:25:36 InstallContribNbextensionsApp] Installing C:\\Users\\aischool\\anaconda3\\lib\\site-packages\\jupyter_contrib_nbextensions\\nbextensions\\navigation-hotkeys -> navigation-hotkeys\n",
      "[I 11:25:36 InstallContribNbextensionsApp] Up to date: C:\\ProgramData\\jupyter\\nbextensions\\navigation-hotkeys\\hotkeys.yaml\n",
      "[I 11:25:36 InstallContribNbextensionsApp] Up to date: C:\\ProgramData\\jupyter\\nbextensions\\navigation-hotkeys\\icon.png\n",
      "[I 11:25:36 InstallContribNbextensionsApp] Up to date: C:\\ProgramData\\jupyter\\nbextensions\\navigation-hotkeys\\main.js\n",
      "[I 11:25:36 InstallContribNbextensionsApp] Up to date: C:\\ProgramData\\jupyter\\nbextensions\\navigation-hotkeys\\readme.md\n",
      "[I 11:25:36 InstallContribNbextensionsApp] - Validating: ok\n",
      "[I 11:25:36 InstallContribNbextensionsApp] Installing C:\\Users\\aischool\\anaconda3\\lib\\site-packages\\jupyter_contrib_nbextensions\\nbextensions\\nbTranslate -> nbTranslate\n",
      "[I 11:25:36 InstallContribNbextensionsApp] Up to date: C:\\ProgramData\\jupyter\\nbextensions\\nbTranslate\\demo1.gif\n",
      "[I 11:25:36 InstallContribNbextensionsApp] Up to date: C:\\ProgramData\\jupyter\\nbextensions\\nbTranslate\\demo2.gif\n",
      "[I 11:25:36 InstallContribNbextensionsApp] Up to date: C:\\ProgramData\\jupyter\\nbextensions\\nbTranslate\\languages.js\n",
      "[I 11:25:36 InstallContribNbextensionsApp] Up to date: C:\\ProgramData\\jupyter\\nbextensions\\nbTranslate\\main.js\n",
      "[I 11:25:36 InstallContribNbextensionsApp] Up to date: C:\\ProgramData\\jupyter\\nbextensions\\nbTranslate\\mutils.js\n",
      "[I 11:25:36 InstallContribNbextensionsApp] Up to date: C:\\ProgramData\\jupyter\\nbextensions\\nbTranslate\\nbTranslate.js\n",
      "[I 11:25:36 InstallContribNbextensionsApp] Up to date: C:\\ProgramData\\jupyter\\nbextensions\\nbTranslate\\nbTranslate.yaml\n",
      "[I 11:25:36 InstallContribNbextensionsApp] Up to date: C:\\ProgramData\\jupyter\\nbextensions\\nbTranslate\\README.md\n",
      "[I 11:25:36 InstallContribNbextensionsApp] - Validating: ok\n",
      "[I 11:25:36 InstallContribNbextensionsApp] Installing C:\\Users\\aischool\\anaconda3\\lib\\site-packages\\jupyter_contrib_nbextensions\\nbextensions\\notify -> notify\n",
      "[I 11:25:36 InstallContribNbextensionsApp] Up to date: C:\\ProgramData\\jupyter\\nbextensions\\notify\\notification.png\n",
      "[I 11:25:36 InstallContribNbextensionsApp] Up to date: C:\\ProgramData\\jupyter\\nbextensions\\notify\\notify.js\n",
      "[I 11:25:36 InstallContribNbextensionsApp] Up to date: C:\\ProgramData\\jupyter\\nbextensions\\notify\\notify.mp3\n",
      "[I 11:25:36 InstallContribNbextensionsApp] Up to date: C:\\ProgramData\\jupyter\\nbextensions\\notify\\notify.yaml\n",
      "[I 11:25:36 InstallContribNbextensionsApp] Up to date: C:\\ProgramData\\jupyter\\nbextensions\\notify\\readme.md\n",
      "[I 11:25:36 InstallContribNbextensionsApp] - Validating: ok\n",
      "[I 11:25:36 InstallContribNbextensionsApp] Installing C:\\Users\\aischool\\anaconda3\\lib\\site-packages\\jupyter_contrib_nbextensions\\nbextensions\\printview -> printview\n",
      "[I 11:25:36 InstallContribNbextensionsApp] Up to date: C:\\ProgramData\\jupyter\\nbextensions\\printview\\icon.png\n",
      "[I 11:25:36 InstallContribNbextensionsApp] Up to date: C:\\ProgramData\\jupyter\\nbextensions\\printview\\main.js\n",
      "[I 11:25:36 InstallContribNbextensionsApp] Up to date: C:\\ProgramData\\jupyter\\nbextensions\\printview\\printview-button.png\n",
      "[I 11:25:36 InstallContribNbextensionsApp] Up to date: C:\\ProgramData\\jupyter\\nbextensions\\printview\\printview.yaml\n",
      "[I 11:25:36 InstallContribNbextensionsApp] Up to date: C:\\ProgramData\\jupyter\\nbextensions\\printview\\readme.md\n",
      "[I 11:25:36 InstallContribNbextensionsApp] - Validating: ok\n",
      "[I 11:25:36 InstallContribNbextensionsApp] Installing C:\\Users\\aischool\\anaconda3\\lib\\site-packages\\jupyter_contrib_nbextensions\\nbextensions\\python-markdown -> python-markdown\n",
      "[I 11:25:36 InstallContribNbextensionsApp] Up to date: C:\\ProgramData\\jupyter\\nbextensions\\python-markdown\\main.css\n",
      "[I 11:25:36 InstallContribNbextensionsApp] Up to date: C:\\ProgramData\\jupyter\\nbextensions\\python-markdown\\main.js\n",
      "[I 11:25:36 InstallContribNbextensionsApp] Up to date: C:\\ProgramData\\jupyter\\nbextensions\\python-markdown\\python-markdown-post.png\n",
      "[I 11:25:36 InstallContribNbextensionsApp] Up to date: C:\\ProgramData\\jupyter\\nbextensions\\python-markdown\\python-markdown-pre.png\n",
      "[I 11:25:36 InstallContribNbextensionsApp] Up to date: C:\\ProgramData\\jupyter\\nbextensions\\python-markdown\\python-markdown.png\n",
      "[I 11:25:36 InstallContribNbextensionsApp] Up to date: C:\\ProgramData\\jupyter\\nbextensions\\python-markdown\\python-markdown.yaml\n",
      "[I 11:25:36 InstallContribNbextensionsApp] Up to date: C:\\ProgramData\\jupyter\\nbextensions\\python-markdown\\readme.md\n",
      "[I 11:25:36 InstallContribNbextensionsApp] Up to date: C:\\ProgramData\\jupyter\\nbextensions\\python-markdown\\trusted.png\n",
      "[I 11:25:36 InstallContribNbextensionsApp] Up to date: C:\\ProgramData\\jupyter\\nbextensions\\python-markdown\\untrusted.png\n",
      "[I 11:25:36 InstallContribNbextensionsApp] - Validating: ok\n",
      "[I 11:25:36 InstallContribNbextensionsApp] Installing C:\\Users\\aischool\\anaconda3\\lib\\site-packages\\jupyter_contrib_nbextensions\\nbextensions\\qtconsole -> qtconsole\n",
      "[I 11:25:36 InstallContribNbextensionsApp] Up to date: C:\\ProgramData\\jupyter\\nbextensions\\qtconsole\\qtconsole.js\n",
      "[I 11:25:36 InstallContribNbextensionsApp] Up to date: C:\\ProgramData\\jupyter\\nbextensions\\qtconsole\\qtconsole.yaml\n",
      "[I 11:25:36 InstallContribNbextensionsApp] Up to date: C:\\ProgramData\\jupyter\\nbextensions\\qtconsole\\README.md\n",
      "[I 11:25:36 InstallContribNbextensionsApp] - Validating: ok\n",
      "[I 11:25:36 InstallContribNbextensionsApp] Installing C:\\Users\\aischool\\anaconda3\\lib\\site-packages\\jupyter_contrib_nbextensions\\nbextensions\\rubberband -> rubberband\n",
      "[I 11:25:36 InstallContribNbextensionsApp] Up to date: C:\\ProgramData\\jupyter\\nbextensions\\rubberband\\icon.png\n",
      "[I 11:25:36 InstallContribNbextensionsApp] Up to date: C:\\ProgramData\\jupyter\\nbextensions\\rubberband\\main.css\n",
      "[I 11:25:36 InstallContribNbextensionsApp] Up to date: C:\\ProgramData\\jupyter\\nbextensions\\rubberband\\main.js\n",
      "[I 11:25:36 InstallContribNbextensionsApp] Up to date: C:\\ProgramData\\jupyter\\nbextensions\\rubberband\\readme.md\n",
      "[I 11:25:36 InstallContribNbextensionsApp] Up to date: C:\\ProgramData\\jupyter\\nbextensions\\rubberband\\rubberband.yaml\n",
      "[I 11:25:36 InstallContribNbextensionsApp] - Validating: ok\n",
      "[I 11:25:36 InstallContribNbextensionsApp] Installing C:\\Users\\aischool\\anaconda3\\lib\\site-packages\\jupyter_contrib_nbextensions\\nbextensions\\ruler -> ruler\n",
      "[I 11:25:36 InstallContribNbextensionsApp] Up to date: C:\\ProgramData\\jupyter\\nbextensions\\ruler\\edit.js\n",
      "[I 11:25:36 InstallContribNbextensionsApp] Up to date: C:\\ProgramData\\jupyter\\nbextensions\\ruler\\icon.png\n",
      "[I 11:25:36 InstallContribNbextensionsApp] Up to date: C:\\ProgramData\\jupyter\\nbextensions\\ruler\\main.js\n",
      "[I 11:25:36 InstallContribNbextensionsApp] Up to date: C:\\ProgramData\\jupyter\\nbextensions\\ruler\\readme.md\n",
      "[I 11:25:36 InstallContribNbextensionsApp] Up to date: C:\\ProgramData\\jupyter\\nbextensions\\ruler\\ruler.yaml\n",
      "[I 11:25:36 InstallContribNbextensionsApp] Up to date: C:\\ProgramData\\jupyter\\nbextensions\\ruler\\ruler_editor.yaml\n",
      "[I 11:25:36 InstallContribNbextensionsApp] - Validating: ok\n",
      "[I 11:25:36 InstallContribNbextensionsApp] Installing C:\\Users\\aischool\\anaconda3\\lib\\site-packages\\jupyter_contrib_nbextensions\\nbextensions\\ruler -> ruler\n",
      "[I 11:25:36 InstallContribNbextensionsApp] Up to date: C:\\ProgramData\\jupyter\\nbextensions\\ruler\\edit.js\n",
      "[I 11:25:36 InstallContribNbextensionsApp] Up to date: C:\\ProgramData\\jupyter\\nbextensions\\ruler\\icon.png\n",
      "[I 11:25:36 InstallContribNbextensionsApp] Up to date: C:\\ProgramData\\jupyter\\nbextensions\\ruler\\main.js\n",
      "[I 11:25:36 InstallContribNbextensionsApp] Up to date: C:\\ProgramData\\jupyter\\nbextensions\\ruler\\readme.md\n",
      "[I 11:25:36 InstallContribNbextensionsApp] Up to date: C:\\ProgramData\\jupyter\\nbextensions\\ruler\\ruler.yaml\n",
      "[I 11:25:36 InstallContribNbextensionsApp] Up to date: C:\\ProgramData\\jupyter\\nbextensions\\ruler\\ruler_editor.yaml\n",
      "[I 11:25:36 InstallContribNbextensionsApp] - Validating: ok\n",
      "[I 11:25:36 InstallContribNbextensionsApp] Installing C:\\Users\\aischool\\anaconda3\\lib\\site-packages\\jupyter_contrib_nbextensions\\nbextensions\\runtools -> runtools\n",
      "[I 11:25:36 InstallContribNbextensionsApp] Up to date: C:\\ProgramData\\jupyter\\nbextensions\\runtools\\annotations.odg\n",
      "[I 11:25:36 InstallContribNbextensionsApp] Up to date: C:\\ProgramData\\jupyter\\nbextensions\\runtools\\cellstate.js\n",
      "[I 11:25:36 InstallContribNbextensionsApp] Up to date: C:\\ProgramData\\jupyter\\nbextensions\\runtools\\demo.gif\n",
      "[I 11:25:36 InstallContribNbextensionsApp] Up to date: C:\\ProgramData\\jupyter\\nbextensions\\runtools\\gutter.css\n",
      "[I 11:25:36 InstallContribNbextensionsApp] Up to date: C:\\ProgramData\\jupyter\\nbextensions\\runtools\\icon.png\n",
      "[I 11:25:36 InstallContribNbextensionsApp] Up to date: C:\\ProgramData\\jupyter\\nbextensions\\runtools\\main.css\n",
      "[I 11:25:36 InstallContribNbextensionsApp] Up to date: C:\\ProgramData\\jupyter\\nbextensions\\runtools\\main.js\n",
      "[I 11:25:36 InstallContribNbextensionsApp] Up to date: C:\\ProgramData\\jupyter\\nbextensions\\runtools\\readme.md\n",
      "[I 11:25:36 InstallContribNbextensionsApp] Up to date: C:\\ProgramData\\jupyter\\nbextensions\\runtools\\runtools.yaml\n",
      "[I 11:25:36 InstallContribNbextensionsApp] Up to date: C:\\ProgramData\\jupyter\\nbextensions\\runtools\\runtools_execute.png\n",
      "[I 11:25:36 InstallContribNbextensionsApp] Up to date: C:\\ProgramData\\jupyter\\nbextensions\\runtools\\runtools_lock.png\n",
      "[I 11:25:36 InstallContribNbextensionsApp] Up to date: C:\\ProgramData\\jupyter\\nbextensions\\runtools\\runtools_marker.png\n",
      "[I 11:25:36 InstallContribNbextensionsApp] Up to date: C:\\ProgramData\\jupyter\\nbextensions\\runtools\\runtools_nb.png\n",
      "[I 11:25:36 InstallContribNbextensionsApp] Up to date: C:\\ProgramData\\jupyter\\nbextensions\\runtools\\runtools_show_hide.png\n",
      "[I 11:25:36 InstallContribNbextensionsApp] - Validating: ok\n",
      "[I 11:25:36 InstallContribNbextensionsApp] Installing C:\\Users\\aischool\\anaconda3\\lib\\site-packages\\jupyter_contrib_nbextensions\\nbextensions\\scratchpad -> scratchpad\n",
      "[I 11:25:36 InstallContribNbextensionsApp] Up to date: C:\\ProgramData\\jupyter\\nbextensions\\scratchpad\\demo.gif\n",
      "[I 11:25:36 InstallContribNbextensionsApp] Up to date: C:\\ProgramData\\jupyter\\nbextensions\\scratchpad\\LICENSE\n",
      "[I 11:25:36 InstallContribNbextensionsApp] Up to date: C:\\ProgramData\\jupyter\\nbextensions\\scratchpad\\main.js\n",
      "[I 11:25:36 InstallContribNbextensionsApp] Up to date: C:\\ProgramData\\jupyter\\nbextensions\\scratchpad\\README.md\n",
      "[I 11:25:36 InstallContribNbextensionsApp] Up to date: C:\\ProgramData\\jupyter\\nbextensions\\scratchpad\\scratchpad.css\n",
      "[I 11:25:36 InstallContribNbextensionsApp] Up to date: C:\\ProgramData\\jupyter\\nbextensions\\scratchpad\\scratchpad.yaml\n",
      "[I 11:25:36 InstallContribNbextensionsApp] - Validating: ok\n",
      "[I 11:25:36 InstallContribNbextensionsApp] Installing C:\\Users\\aischool\\anaconda3\\lib\\site-packages\\jupyter_contrib_nbextensions\\nbextensions\\scroll_down -> scroll_down\n",
      "[I 11:25:36 InstallContribNbextensionsApp] Up to date: C:\\ProgramData\\jupyter\\nbextensions\\scroll_down\\config.yaml\n",
      "[I 11:25:36 InstallContribNbextensionsApp] Up to date: C:\\ProgramData\\jupyter\\nbextensions\\scroll_down\\icon.png\n",
      "[I 11:25:36 InstallContribNbextensionsApp] Up to date: C:\\ProgramData\\jupyter\\nbextensions\\scroll_down\\main.js\n",
      "[I 11:25:36 InstallContribNbextensionsApp] Up to date: C:\\ProgramData\\jupyter\\nbextensions\\scroll_down\\readme.md\n",
      "[I 11:25:36 InstallContribNbextensionsApp] - Validating: ok\n",
      "[I 11:25:36 InstallContribNbextensionsApp] Installing C:\\Users\\aischool\\anaconda3\\lib\\site-packages\\jupyter_contrib_nbextensions\\nbextensions\\select_keymap -> select_keymap\n",
      "[I 11:25:36 InstallContribNbextensionsApp] Up to date: C:\\ProgramData\\jupyter\\nbextensions\\select_keymap\\main.js\n",
      "[I 11:25:36 InstallContribNbextensionsApp] Up to date: C:\\ProgramData\\jupyter\\nbextensions\\select_keymap\\README.md\n",
      "[I 11:25:36 InstallContribNbextensionsApp] Up to date: C:\\ProgramData\\jupyter\\nbextensions\\select_keymap\\select_keymap.png\n",
      "[I 11:25:36 InstallContribNbextensionsApp] Up to date: C:\\ProgramData\\jupyter\\nbextensions\\select_keymap\\select_keymap.yaml\n",
      "[I 11:25:36 InstallContribNbextensionsApp] - Validating: ok\n",
      "[I 11:25:36 InstallContribNbextensionsApp] Installing C:\\Users\\aischool\\anaconda3\\lib\\site-packages\\jupyter_contrib_nbextensions\\nbextensions\\skill -> skill\n",
      "[I 11:25:36 InstallContribNbextensionsApp] Up to date: C:\\ProgramData\\jupyter\\nbextensions\\skill\\main.js\n",
      "[I 11:25:36 InstallContribNbextensionsApp] Up to date: C:\\ProgramData\\jupyter\\nbextensions\\skill\\README.md\n",
      "[I 11:25:36 InstallContribNbextensionsApp] Up to date: C:\\ProgramData\\jupyter\\nbextensions\\skill\\skill.js\n",
      "[I 11:25:36 InstallContribNbextensionsApp] Up to date: C:\\ProgramData\\jupyter\\nbextensions\\skill\\skill.yaml\n",
      "[I 11:25:36 InstallContribNbextensionsApp] - Validating: ok\n",
      "[I 11:25:36 InstallContribNbextensionsApp] Installing C:\\Users\\aischool\\anaconda3\\lib\\site-packages\\jupyter_contrib_nbextensions\\nbextensions\\skip-traceback -> skip-traceback\n",
      "[I 11:25:36 InstallContribNbextensionsApp] Up to date: C:\\ProgramData\\jupyter\\nbextensions\\skip-traceback\\icon.png\n",
      "[I 11:25:36 InstallContribNbextensionsApp] Up to date: C:\\ProgramData\\jupyter\\nbextensions\\skip-traceback\\main.js\n",
      "[I 11:25:36 InstallContribNbextensionsApp] Up to date: C:\\ProgramData\\jupyter\\nbextensions\\skip-traceback\\readme.md\n",
      "[I 11:25:36 InstallContribNbextensionsApp] Up to date: C:\\ProgramData\\jupyter\\nbextensions\\skip-traceback\\skip-traceback.png\n",
      "[I 11:25:36 InstallContribNbextensionsApp] Up to date: C:\\ProgramData\\jupyter\\nbextensions\\skip-traceback\\skip-traceback.yaml\n",
      "[I 11:25:36 InstallContribNbextensionsApp] Up to date: C:\\ProgramData\\jupyter\\nbextensions\\skip-traceback\\traceback.png\n",
      "[I 11:25:36 InstallContribNbextensionsApp] - Validating: ok\n",
      "[I 11:25:36 InstallContribNbextensionsApp] Installing C:\\Users\\aischool\\anaconda3\\lib\\site-packages\\jupyter_contrib_nbextensions\\nbextensions\\snippets -> snippets\n",
      "[I 11:25:36 InstallContribNbextensionsApp] Up to date: C:\\ProgramData\\jupyter\\nbextensions\\snippets\\main.js\n",
      "[I 11:25:36 InstallContribNbextensionsApp] Up to date: C:\\ProgramData\\jupyter\\nbextensions\\snippets\\README.md\n",
      "[I 11:25:36 InstallContribNbextensionsApp] Up to date: C:\\ProgramData\\jupyter\\nbextensions\\snippets\\snippets-demo.gif\n",
      "[I 11:25:36 InstallContribNbextensionsApp] Up to date: C:\\ProgramData\\jupyter\\nbextensions\\snippets\\snippets.json\n",
      "[I 11:25:36 InstallContribNbextensionsApp] Up to date: C:\\ProgramData\\jupyter\\nbextensions\\snippets\\snippets.yaml\n",
      "[I 11:25:36 InstallContribNbextensionsApp] - Validating: ok\n",
      "[I 11:25:36 InstallContribNbextensionsApp] Installing C:\\Users\\aischool\\anaconda3\\lib\\site-packages\\jupyter_contrib_nbextensions\\nbextensions\\snippets_menu -> snippets_menu\n",
      "[I 11:25:36 InstallContribNbextensionsApp] Up to date: C:\\ProgramData\\jupyter\\nbextensions\\snippets_menu\\config.yaml\n",
      "[I 11:25:36 InstallContribNbextensionsApp] Up to date: C:\\ProgramData\\jupyter\\nbextensions\\snippets_menu\\examples_for_custom.js\n",
      "[I 11:25:36 InstallContribNbextensionsApp] Up to date: C:\\ProgramData\\jupyter\\nbextensions\\snippets_menu\\main.js\n",
      "[I 11:25:36 InstallContribNbextensionsApp] Up to date: C:\\ProgramData\\jupyter\\nbextensions\\snippets_menu\\readme.md\n",
      "[I 11:25:36 InstallContribNbextensionsApp] Up to date: C:\\ProgramData\\jupyter\\nbextensions\\snippets_menu\\screenshot1.png\n",
      "[I 11:25:36 InstallContribNbextensionsApp] Up to date: C:\\ProgramData\\jupyter\\nbextensions\\snippets_menu\\screenshot2.png\n",
      "[I 11:25:36 InstallContribNbextensionsApp] Up to date: C:\\ProgramData\\jupyter\\nbextensions\\snippets_menu\\screenshot3.png\n",
      "[I 11:25:36 InstallContribNbextensionsApp] Up to date: C:\\ProgramData\\jupyter\\nbextensions\\snippets_menu\\snippets_menu.css\n",
      "[I 11:25:36 InstallContribNbextensionsApp] Up to date: C:\\ProgramData\\jupyter\\nbextensions\\snippets_menu\\snippets_submenu_markdown.js\n",
      "[I 11:25:36 InstallContribNbextensionsApp] Up to date: C:\\ProgramData\\jupyter\\nbextensions\\snippets_menu\\snippets_submenu_python.js\n",
      "[I 11:25:36 InstallContribNbextensionsApp] Up to date: C:\\ProgramData\\jupyter\\nbextensions\\snippets_menu\\thumbnail.png\n",
      "[I 11:25:36 InstallContribNbextensionsApp] Up to date: C:\\ProgramData\\jupyter\\nbextensions\\snippets_menu\\snippets_submenus_python\\astropy.js\n",
      "[I 11:25:36 InstallContribNbextensionsApp] Up to date: C:\\ProgramData\\jupyter\\nbextensions\\snippets_menu\\snippets_submenus_python\\h5py.js\n",
      "[I 11:25:36 InstallContribNbextensionsApp] Up to date: C:\\ProgramData\\jupyter\\nbextensions\\snippets_menu\\snippets_submenus_python\\matplotlib.js\n",
      "[I 11:25:36 InstallContribNbextensionsApp] Up to date: C:\\ProgramData\\jupyter\\nbextensions\\snippets_menu\\snippets_submenus_python\\numba.js\n",
      "[I 11:25:36 InstallContribNbextensionsApp] Up to date: C:\\ProgramData\\jupyter\\nbextensions\\snippets_menu\\snippets_submenus_python\\numpy.js\n",
      "[I 11:25:36 InstallContribNbextensionsApp] Up to date: C:\\ProgramData\\jupyter\\nbextensions\\snippets_menu\\snippets_submenus_python\\numpy_polynomial.js\n",
      "[I 11:25:36 InstallContribNbextensionsApp] Up to date: C:\\ProgramData\\jupyter\\nbextensions\\snippets_menu\\snippets_submenus_python\\numpy_ufuncs.js\n",
      "[I 11:25:36 InstallContribNbextensionsApp] Up to date: C:\\ProgramData\\jupyter\\nbextensions\\snippets_menu\\snippets_submenus_python\\pandas.js\n",
      "[I 11:25:36 InstallContribNbextensionsApp] Up to date: C:\\ProgramData\\jupyter\\nbextensions\\snippets_menu\\snippets_submenus_python\\python.js\n",
      "[I 11:25:36 InstallContribNbextensionsApp] Up to date: C:\\ProgramData\\jupyter\\nbextensions\\snippets_menu\\snippets_submenus_python\\python_regex.js\n",
      "[I 11:25:36 InstallContribNbextensionsApp] Up to date: C:\\ProgramData\\jupyter\\nbextensions\\snippets_menu\\snippets_submenus_python\\scipy.js\n",
      "[I 11:25:36 InstallContribNbextensionsApp] Up to date: C:\\ProgramData\\jupyter\\nbextensions\\snippets_menu\\snippets_submenus_python\\scipy_constants.js\n",
      "[I 11:25:36 InstallContribNbextensionsApp] Up to date: C:\\ProgramData\\jupyter\\nbextensions\\snippets_menu\\snippets_submenus_python\\scipy_special.js\n",
      "[I 11:25:36 InstallContribNbextensionsApp] Up to date: C:\\ProgramData\\jupyter\\nbextensions\\snippets_menu\\snippets_submenus_python\\sympy.js\n",
      "[I 11:25:36 InstallContribNbextensionsApp] Up to date: C:\\ProgramData\\jupyter\\nbextensions\\snippets_menu\\snippets_submenus_python\\sympy_assumptions.js\n",
      "[I 11:25:36 InstallContribNbextensionsApp] Up to date: C:\\ProgramData\\jupyter\\nbextensions\\snippets_menu\\snippets_submenus_python\\sympy_functions.js\n",
      "[I 11:25:36 InstallContribNbextensionsApp] - Validating: ok\n",
      "[I 11:25:36 InstallContribNbextensionsApp] Installing C:\\Users\\aischool\\anaconda3\\lib\\site-packages\\jupyter_contrib_nbextensions\\nbextensions\\spellchecker -> spellchecker\n",
      "[I 11:25:36 InstallContribNbextensionsApp] Up to date: C:\\ProgramData\\jupyter\\nbextensions\\spellchecker\\config.yaml\n",
      "[I 11:25:36 InstallContribNbextensionsApp] Up to date: C:\\ProgramData\\jupyter\\nbextensions\\spellchecker\\download_new_dict.py\n",
      "[I 11:25:36 InstallContribNbextensionsApp] Up to date: C:\\ProgramData\\jupyter\\nbextensions\\spellchecker\\main.css\n",
      "[I 11:25:36 InstallContribNbextensionsApp] Up to date: C:\\ProgramData\\jupyter\\nbextensions\\spellchecker\\main.js\n",
      "[I 11:25:36 InstallContribNbextensionsApp] Up to date: C:\\ProgramData\\jupyter\\nbextensions\\spellchecker\\README.md\n",
      "[I 11:25:36 InstallContribNbextensionsApp] Up to date: C:\\ProgramData\\jupyter\\nbextensions\\spellchecker\\screenshot.png\n",
      "[I 11:25:36 InstallContribNbextensionsApp] Up to date: C:\\ProgramData\\jupyter\\nbextensions\\spellchecker\\typo\\LICENSE.txt\n",
      "[I 11:25:36 InstallContribNbextensionsApp] Up to date: C:\\ProgramData\\jupyter\\nbextensions\\spellchecker\\typo\\typo.js\n",
      "[I 11:25:36 InstallContribNbextensionsApp] Up to date: C:\\ProgramData\\jupyter\\nbextensions\\spellchecker\\__pycache__\\download_new_dict.cpython-39.pyc\n",
      "[I 11:25:36 InstallContribNbextensionsApp] - Validating: ok\n",
      "[I 11:25:36 InstallContribNbextensionsApp] Installing C:\\Users\\aischool\\anaconda3\\lib\\site-packages\\jupyter_contrib_nbextensions\\nbextensions\\splitcell -> splitcell\n",
      "[I 11:25:36 InstallContribNbextensionsApp] Up to date: C:\\ProgramData\\jupyter\\nbextensions\\splitcell\\icon.png\n",
      "[I 11:25:36 InstallContribNbextensionsApp] Up to date: C:\\ProgramData\\jupyter\\nbextensions\\splitcell\\readme.md\n",
      "[I 11:25:36 InstallContribNbextensionsApp] Up to date: C:\\ProgramData\\jupyter\\nbextensions\\splitcell\\splitcell.js\n",
      "[I 11:25:36 InstallContribNbextensionsApp] Up to date: C:\\ProgramData\\jupyter\\nbextensions\\splitcell\\splitcell.yaml\n",
      "[I 11:25:36 InstallContribNbextensionsApp] - Validating: ok\n",
      "[I 11:25:36 InstallContribNbextensionsApp] Installing C:\\Users\\aischool\\anaconda3\\lib\\site-packages\\jupyter_contrib_nbextensions\\nbextensions\\table_beautifier -> table_beautifier\n",
      "[I 11:25:36 InstallContribNbextensionsApp] Up to date: C:\\ProgramData\\jupyter\\nbextensions\\table_beautifier\\main.css\n",
      "[I 11:25:36 InstallContribNbextensionsApp] Up to date: C:\\ProgramData\\jupyter\\nbextensions\\table_beautifier\\main.js\n",
      "[I 11:25:36 InstallContribNbextensionsApp] Up to date: C:\\ProgramData\\jupyter\\nbextensions\\table_beautifier\\README.md\n",
      "[I 11:25:36 InstallContribNbextensionsApp] Up to date: C:\\ProgramData\\jupyter\\nbextensions\\table_beautifier\\table_beautifier.yaml\n",
      "[I 11:25:36 InstallContribNbextensionsApp] - Validating: ok\n",
      "[I 11:25:36 InstallContribNbextensionsApp] Installing C:\\Users\\aischool\\anaconda3\\lib\\site-packages\\jupyter_contrib_nbextensions\\nbextensions\\toc2 -> toc2\n",
      "[I 11:25:36 InstallContribNbextensionsApp] Up to date: C:\\ProgramData\\jupyter\\nbextensions\\toc2\\demo.gif\n",
      "[I 11:25:36 InstallContribNbextensionsApp] Up to date: C:\\ProgramData\\jupyter\\nbextensions\\toc2\\demo2.gif\n",
      "[I 11:25:36 InstallContribNbextensionsApp] Up to date: C:\\ProgramData\\jupyter\\nbextensions\\toc2\\demo3.gif\n",
      "[I 11:25:36 InstallContribNbextensionsApp] Up to date: C:\\ProgramData\\jupyter\\nbextensions\\toc2\\demo_dark.png\n",
      "[I 11:25:36 InstallContribNbextensionsApp] Up to date: C:\\ProgramData\\jupyter\\nbextensions\\toc2\\icon.png\n",
      "[I 11:25:36 InstallContribNbextensionsApp] Up to date: C:\\ProgramData\\jupyter\\nbextensions\\toc2\\image.png\n",
      "[I 11:25:36 InstallContribNbextensionsApp] Up to date: C:\\ProgramData\\jupyter\\nbextensions\\toc2\\main.css\n",
      "[I 11:25:36 InstallContribNbextensionsApp] Up to date: C:\\ProgramData\\jupyter\\nbextensions\\toc2\\main.js\n",
      "[I 11:25:36 InstallContribNbextensionsApp] Up to date: C:\\ProgramData\\jupyter\\nbextensions\\toc2\\README.md\n",
      "[I 11:25:36 InstallContribNbextensionsApp] Up to date: C:\\ProgramData\\jupyter\\nbextensions\\toc2\\toc2.js\n",
      "[I 11:25:36 InstallContribNbextensionsApp] Up to date: C:\\ProgramData\\jupyter\\nbextensions\\toc2\\toc2.yaml\n",
      "[I 11:25:36 InstallContribNbextensionsApp] - Validating: ok\n",
      "[I 11:25:36 InstallContribNbextensionsApp] Installing C:\\Users\\aischool\\anaconda3\\lib\\site-packages\\jupyter_contrib_nbextensions\\nbextensions\\toggle_all_line_numbers -> toggle_all_line_numbers\n",
      "[I 11:25:36 InstallContribNbextensionsApp] Up to date: C:\\ProgramData\\jupyter\\nbextensions\\toggle_all_line_numbers\\icon.png\n",
      "[I 11:25:36 InstallContribNbextensionsApp] Up to date: C:\\ProgramData\\jupyter\\nbextensions\\toggle_all_line_numbers\\main.js\n",
      "[I 11:25:36 InstallContribNbextensionsApp] Up to date: C:\\ProgramData\\jupyter\\nbextensions\\toggle_all_line_numbers\\main.yaml\n",
      "[I 11:25:36 InstallContribNbextensionsApp] Up to date: C:\\ProgramData\\jupyter\\nbextensions\\toggle_all_line_numbers\\readme.md\n",
      "[I 11:25:36 InstallContribNbextensionsApp] - Validating: ok\n",
      "[I 11:25:36 InstallContribNbextensionsApp] Installing C:\\Users\\aischool\\anaconda3\\lib\\site-packages\\jupyter_contrib_nbextensions\\nbextensions\\tree-filter -> tree-filter\n",
      "[I 11:25:36 InstallContribNbextensionsApp] Up to date: C:\\ProgramData\\jupyter\\nbextensions\\tree-filter\\demo.gif\n",
      "[I 11:25:36 InstallContribNbextensionsApp] Up to date: C:\\ProgramData\\jupyter\\nbextensions\\tree-filter\\index.js\n",
      "[I 11:25:36 InstallContribNbextensionsApp] Up to date: C:\\ProgramData\\jupyter\\nbextensions\\tree-filter\\readme.md\n",
      "[I 11:25:36 InstallContribNbextensionsApp] Up to date: C:\\ProgramData\\jupyter\\nbextensions\\tree-filter\\tree-filter.yaml\n",
      "[I 11:25:36 InstallContribNbextensionsApp] - Validating: ok\n",
      "[I 11:25:36 InstallContribNbextensionsApp] Installing C:\\Users\\aischool\\anaconda3\\lib\\site-packages\\jupyter_contrib_nbextensions\\nbextensions\\varInspector -> varInspector\n",
      "[I 11:25:36 InstallContribNbextensionsApp] Up to date: C:\\ProgramData\\jupyter\\nbextensions\\varInspector\\demo.gif\n",
      "[I 11:25:36 InstallContribNbextensionsApp] Up to date: C:\\ProgramData\\jupyter\\nbextensions\\varInspector\\icon.png\n",
      "[I 11:25:36 InstallContribNbextensionsApp] Up to date: C:\\ProgramData\\jupyter\\nbextensions\\varInspector\\jquery.tablesorter.min.js\n",
      "[I 11:25:36 InstallContribNbextensionsApp] Up to date: C:\\ProgramData\\jupyter\\nbextensions\\varInspector\\main.css\n",
      "[I 11:25:36 InstallContribNbextensionsApp] Up to date: C:\\ProgramData\\jupyter\\nbextensions\\varInspector\\main.js\n",
      "[I 11:25:36 InstallContribNbextensionsApp] Up to date: C:\\ProgramData\\jupyter\\nbextensions\\varInspector\\README.md\n",
      "[I 11:25:36 InstallContribNbextensionsApp] Up to date: C:\\ProgramData\\jupyter\\nbextensions\\varInspector\\tablesorter_LICENSE.txt\n",
      "[I 11:25:36 InstallContribNbextensionsApp] Up to date: C:\\ProgramData\\jupyter\\nbextensions\\varInspector\\varInspector.yaml\n",
      "[I 11:25:36 InstallContribNbextensionsApp] Up to date: C:\\ProgramData\\jupyter\\nbextensions\\varInspector\\var_list.py\n",
      "[I 11:25:36 InstallContribNbextensionsApp] Up to date: C:\\ProgramData\\jupyter\\nbextensions\\varInspector\\var_list.r\n",
      "[I 11:25:36 InstallContribNbextensionsApp] Up to date: C:\\ProgramData\\jupyter\\nbextensions\\varInspector\\__pycache__\\var_list.cpython-39.pyc\n",
      "[I 11:25:36 InstallContribNbextensionsApp] - Validating: ok\n",
      "[I 11:25:36 InstallContribNbextensionsApp] Installing C:\\Users\\aischool\\anaconda3\\lib\\site-packages\\jupyter_contrib_nbextensions\\nbextensions\\zenmode -> zenmode\n",
      "[I 11:25:36 InstallContribNbextensionsApp] Up to date: C:\\ProgramData\\jupyter\\nbextensions\\zenmode\\main.css\n",
      "[I 11:25:36 InstallContribNbextensionsApp] Up to date: C:\\ProgramData\\jupyter\\nbextensions\\zenmode\\main.js\n",
      "[I 11:25:36 InstallContribNbextensionsApp] Up to date: C:\\ProgramData\\jupyter\\nbextensions\\zenmode\\README.md\n",
      "[I 11:25:36 InstallContribNbextensionsApp] Up to date: C:\\ProgramData\\jupyter\\nbextensions\\zenmode\\zenmode.yaml\n",
      "[I 11:25:36 InstallContribNbextensionsApp] Up to date: C:\\ProgramData\\jupyter\\nbextensions\\zenmode\\images\\back1.jpg\n",
      "[I 11:25:36 InstallContribNbextensionsApp] Up to date: C:\\ProgramData\\jupyter\\nbextensions\\zenmode\\images\\back11.jpg\n",
      "[I 11:25:36 InstallContribNbextensionsApp] Up to date: C:\\ProgramData\\jupyter\\nbextensions\\zenmode\\images\\back12.jpg\n",
      "[I 11:25:36 InstallContribNbextensionsApp] Up to date: C:\\ProgramData\\jupyter\\nbextensions\\zenmode\\images\\back2.jpg\n",
      "[I 11:25:36 InstallContribNbextensionsApp] Up to date: C:\\ProgramData\\jupyter\\nbextensions\\zenmode\\images\\back21.jpg\n",
      "[I 11:25:36 InstallContribNbextensionsApp] Up to date: C:\\ProgramData\\jupyter\\nbextensions\\zenmode\\images\\back22.jpg\n",
      "[I 11:25:36 InstallContribNbextensionsApp] Up to date: C:\\ProgramData\\jupyter\\nbextensions\\zenmode\\images\\back3.jpg\n",
      "[I 11:25:36 InstallContribNbextensionsApp] Up to date: C:\\ProgramData\\jupyter\\nbextensions\\zenmode\\images\\ipynblogo0.png\n",
      "[I 11:25:36 InstallContribNbextensionsApp] Up to date: C:\\ProgramData\\jupyter\\nbextensions\\zenmode\\images\\ipynblogo1.png\n",
      "[I 11:25:36 InstallContribNbextensionsApp] - Validating: ok\n",
      "[I 11:25:36 InstallContribNbextensionsApp] Installing C:\\Users\\aischool\\anaconda3\\lib\\site-packages\\jupyter_highlight_selected_word\\static\\highlight_selected_word -> highlight_selected_word\n",
      "[I 11:25:36 InstallContribNbextensionsApp] Up to date: C:\\ProgramData\\jupyter\\nbextensions\\highlight_selected_word\\configurator.yaml\n",
      "[I 11:25:36 InstallContribNbextensionsApp] Up to date: C:\\ProgramData\\jupyter\\nbextensions\\highlight_selected_word\\main.js\n",
      "[I 11:25:36 InstallContribNbextensionsApp] Up to date: C:\\ProgramData\\jupyter\\nbextensions\\highlight_selected_word\\README.md\n",
      "[I 11:25:36 InstallContribNbextensionsApp] - Validating: ok\n",
      "[I 11:25:36 InstallContribNbextensionsApp] Installing C:\\Users\\aischool\\anaconda3\\lib\\site-packages\\latex_envs\\static -> latex_envs\n",
      "[I 11:25:36 InstallContribNbextensionsApp] Up to date: C:\\ProgramData\\jupyter\\nbextensions\\latex_envs\\bibInNb4.js\n",
      "[I 11:25:36 InstallContribNbextensionsApp] Up to date: C:\\ProgramData\\jupyter\\nbextensions\\latex_envs\\bibtex2.js\n",
      "[I 11:25:36 InstallContribNbextensionsApp] Up to date: C:\\ProgramData\\jupyter\\nbextensions\\latex_envs\\configuration_toolbar.png\n",
      "[I 11:25:36 InstallContribNbextensionsApp] Up to date: C:\\ProgramData\\jupyter\\nbextensions\\latex_envs\\envsLatex.js\n",
      "[I 11:25:36 InstallContribNbextensionsApp] Up to date: C:\\ProgramData\\jupyter\\nbextensions\\latex_envs\\envsLatex.json\n",
      "[I 11:25:36 InstallContribNbextensionsApp] Up to date: C:\\ProgramData\\jupyter\\nbextensions\\latex_envs\\example.png\n",
      "[I 11:25:36 InstallContribNbextensionsApp] Up to date: C:\\ProgramData\\jupyter\\nbextensions\\latex_envs\\example_user_envs.json\n",
      "[I 11:25:36 InstallContribNbextensionsApp] Up to date: C:\\ProgramData\\jupyter\\nbextensions\\latex_envs\\icon.png\n",
      "[I 11:25:36 InstallContribNbextensionsApp] Up to date: C:\\ProgramData\\jupyter\\nbextensions\\latex_envs\\initNb.js\n",
      "[I 11:25:36 InstallContribNbextensionsApp] Up to date: C:\\ProgramData\\jupyter\\nbextensions\\latex_envs\\latex_envs.css\n",
      "[I 11:25:36 InstallContribNbextensionsApp] Up to date: C:\\ProgramData\\jupyter\\nbextensions\\latex_envs\\latex_envs.js\n",
      "[I 11:25:36 InstallContribNbextensionsApp] Up to date: C:\\ProgramData\\jupyter\\nbextensions\\latex_envs\\latex_envs.yaml\n",
      "[I 11:25:36 InstallContribNbextensionsApp] Up to date: C:\\ProgramData\\jupyter\\nbextensions\\latex_envs\\main_toolbar.png\n",
      "[I 11:25:36 InstallContribNbextensionsApp] Up to date: C:\\ProgramData\\jupyter\\nbextensions\\latex_envs\\README.md\n",
      "[I 11:25:36 InstallContribNbextensionsApp] Up to date: C:\\ProgramData\\jupyter\\nbextensions\\latex_envs\\thmsInNb4.js\n",
      "[I 11:25:36 InstallContribNbextensionsApp] Up to date: C:\\ProgramData\\jupyter\\nbextensions\\latex_envs\\doc\\biblio_ipython.bib\n",
      "[I 11:25:36 InstallContribNbextensionsApp] Up to date: C:\\ProgramData\\jupyter\\nbextensions\\latex_envs\\doc\\configuration_toolbar.png\n",
      "[I 11:25:36 InstallContribNbextensionsApp] Up to date: C:\\ProgramData\\jupyter\\nbextensions\\latex_envs\\doc\\config_toolbar.png\n",
      "[I 11:25:36 InstallContribNbextensionsApp] Up to date: C:\\ProgramData\\jupyter\\nbextensions\\latex_envs\\doc\\documentation.pdf\n",
      "[I 11:25:36 InstallContribNbextensionsApp] Up to date: C:\\ProgramData\\jupyter\\nbextensions\\latex_envs\\doc\\documentation.tex\n",
      "[I 11:25:36 InstallContribNbextensionsApp] Up to date: C:\\ProgramData\\jupyter\\nbextensions\\latex_envs\\doc\\example.png\n",
      "[I 11:25:36 InstallContribNbextensionsApp] Up to date: C:\\ProgramData\\jupyter\\nbextensions\\latex_envs\\doc\\header.tex\n",
      "[I 11:25:36 InstallContribNbextensionsApp] Up to date: C:\\ProgramData\\jupyter\\nbextensions\\latex_envs\\doc\\IEEEtran.bst\n",
      "[I 11:25:36 InstallContribNbextensionsApp] Up to date: C:\\ProgramData\\jupyter\\nbextensions\\latex_envs\\doc\\LaTeX_envs_menu.png\n",
      "[I 11:25:36 InstallContribNbextensionsApp] Up to date: C:\\ProgramData\\jupyter\\nbextensions\\latex_envs\\doc\\latex_env_doc.html\n",
      "[I 11:25:36 InstallContribNbextensionsApp] Up to date: C:\\ProgramData\\jupyter\\nbextensions\\latex_envs\\doc\\latex_env_doc.ipynb\n",
      "[I 11:25:36 InstallContribNbextensionsApp] Up to date: C:\\ProgramData\\jupyter\\nbextensions\\latex_envs\\doc\\latex_env_doc.tex\n",
      "[I 11:25:36 InstallContribNbextensionsApp] Up to date: C:\\ProgramData\\jupyter\\nbextensions\\latex_envs\\doc\\main_toolbar.png\n"
     ]
    }
   ],
   "source": [
    "!pip install jupyter_contrib_nbextensions && jupyter contrib nbextension install"
   ]
  },
  {
   "cell_type": "markdown",
   "id": "15897201",
   "metadata": {},
   "source": [
    "### 목표\n",
    "- 머신러닝 기반 데이터 분석 프로세스를 이해하자. \n",
    "- 데이터 전처리, 탐색적 데이터 분석을 실습해보자. \n",
    "- 타이타닉 탐승객의 생존여부를 예측분석 해보자."
   ]
  },
  {
   "cell_type": "markdown",
   "id": "e14b808d",
   "metadata": {},
   "source": [
    "#### 데이터분석 프로세스\n",
    "1. 문제정의\n",
    "2. 데이터 수집\n",
    "3. 데이터 전처리(preprocessing)\n",
    "4. 탐색적 데이터분석(EDA)\n",
    "5. 모델링(정의, 학습, 예측)\n",
    "6. 모델평가\n",
    "7. 모델활용 및 결과 리포팅"
   ]
  },
  {
   "cell_type": "markdown",
   "id": "06a13fff",
   "metadata": {},
   "source": [
    "#### 1. 문제정의\n",
    "- kaggle의 타이타닉 데이터를 분석해보자.(생존자 예측 분석)\n",
    "- 지도학습 이용 -> 분류 -> 이진분류"
   ]
  },
  {
   "cell_type": "markdown",
   "id": "de81b57f",
   "metadata": {},
   "source": [
    "#### 2. 데이터 수집\n",
    "- kaggle에 업로드된 데이터 활용\n",
    "- train.csv, test.csv 활용"
   ]
  },
  {
   "cell_type": "code",
   "execution_count": 3,
   "id": "e1570890",
   "metadata": {},
   "outputs": [
    {
     "name": "stderr",
     "output_type": "stream",
     "text": [
      "[I 11:25:36 InstallContribNbextensionsApp] Up to date: C:\\ProgramData\\jupyter\\nbextensions\\latex_envs\\doc\\README.md\n",
      "[I 11:25:36 InstallContribNbextensionsApp] Up to date: C:\\ProgramData\\jupyter\\nbextensions\\latex_envs\\doc\\Toggles.png\n",
      "[I 11:25:36 InstallContribNbextensionsApp] Up to date: C:\\ProgramData\\jupyter\\nbextensions\\latex_envs\\doc\\.ipynb_checkpoints\\latex_env_doc-checkpoint.ipynb\n",
      "[I 11:25:36 InstallContribNbextensionsApp] Up to date: C:\\ProgramData\\jupyter\\nbextensions\\latex_envs\\doc\\latex_env_doc_files\\latex_env_doc_23_2.png\n",
      "[I 11:25:36 InstallContribNbextensionsApp] Up to date: C:\\ProgramData\\jupyter\\nbextensions\\latex_envs\\doc\\latex_env_doc_files\\latex_env_doc_24_2.png\n",
      "[I 11:25:36 InstallContribNbextensionsApp] Up to date: C:\\ProgramData\\jupyter\\nbextensions\\latex_envs\\doc\\latex_env_doc_files\\latex_env_doc_26_2.png\n",
      "[I 11:25:36 InstallContribNbextensionsApp] Up to date: C:\\ProgramData\\jupyter\\nbextensions\\latex_envs\\doc\\latex_env_doc_files\\latex_env_doc_27_2.png\n",
      "[I 11:25:36 InstallContribNbextensionsApp] Up to date: C:\\ProgramData\\jupyter\\nbextensions\\latex_envs\\doc\\latex_env_doc_files\\latex_env_doc_41_0.png\n",
      "[I 11:25:36 InstallContribNbextensionsApp] Up to date: C:\\ProgramData\\jupyter\\nbextensions\\latex_envs\\doc\\latex_env_doc_files\\latex_env_doc_42_0.png\n",
      "[I 11:25:36 InstallContribNbextensionsApp] Up to date: C:\\ProgramData\\jupyter\\nbextensions\\latex_envs\\doc\\latex_env_doc_files\\latex_env_doc_43_0.png\n",
      "[I 11:25:36 InstallContribNbextensionsApp] Up to date: C:\\ProgramData\\jupyter\\nbextensions\\latex_envs\\doc\\latex_env_doc_files\\latex_env_doc_44_0.png\n",
      "[I 11:25:36 InstallContribNbextensionsApp] Up to date: C:\\ProgramData\\jupyter\\nbextensions\\latex_envs\\doc\\latex_env_doc_files\\latex_env_doc_45_0.png\n",
      "[I 11:25:36 InstallContribNbextensionsApp] Up to date: C:\\ProgramData\\jupyter\\nbextensions\\latex_envs\\doc\\latex_env_doc_files\\latex_env_doc_46_0.png\n",
      "[I 11:25:36 InstallContribNbextensionsApp] Up to date: C:\\ProgramData\\jupyter\\nbextensions\\latex_envs\\doc\\latex_env_doc_files\\latex_env_doc_47_0.png\n",
      "[I 11:25:36 InstallContribNbextensionsApp] Up to date: C:\\ProgramData\\jupyter\\nbextensions\\latex_envs\\doc\\latex_env_doc_files\\latex_env_doc_48_0.png\n",
      "[I 11:25:36 InstallContribNbextensionsApp] Up to date: C:\\ProgramData\\jupyter\\nbextensions\\latex_envs\\doc\\latex_env_doc_files\\latex_env_doc_49_0.png\n",
      "[I 11:25:36 InstallContribNbextensionsApp] Up to date: C:\\ProgramData\\jupyter\\nbextensions\\latex_envs\\doc\\latex_env_doc_files\\latex_env_doc_50_0.png\n",
      "[I 11:25:36 InstallContribNbextensionsApp] Up to date: C:\\ProgramData\\jupyter\\nbextensions\\latex_envs\\doc\\latex_env_doc_files\\latex_env_doc_51_0.png\n",
      "[I 11:25:36 InstallContribNbextensionsApp] Up to date: C:\\ProgramData\\jupyter\\nbextensions\\latex_envs\\doc\\latex_env_doc_files\\latex_env_doc_52_0.png\n",
      "[I 11:25:36 InstallContribNbextensionsApp] - Validating: ok\n",
      "[I 11:25:36 InstallContribNbextensionsApp] Installing jupyter_contrib_nbextensions items to config in C:\\ProgramData\\jupyter\n",
      "Enabling: jupyter_nbextensions_configurator\n",
      "- Writing config: C:\\ProgramData\\jupyter\n",
      "    - Validating...\n",
      "      jupyter_nbextensions_configurator 0.4.1 ok\n",
      "Enabling notebook nbextension nbextensions_configurator/config_menu/main...\n",
      "Enabling tree nbextension nbextensions_configurator/tree_tab/main...\n",
      "[I 11:25:36 InstallContribNbextensionsApp] Enabling notebook extension contrib_nbextensions_help_item/main...\n",
      "[I 11:25:36 InstallContribNbextensionsApp]       - Validating: ok\n",
      "[I 11:25:36 InstallContribNbextensionsApp] - Editing config: C:\\ProgramData\\jupyter\\jupyter_nbconvert_config.json\n",
      "[I 11:25:36 InstallContribNbextensionsApp] --  Configuring nbconvert template path\n",
      "[I 11:25:36 InstallContribNbextensionsApp] --  Configuring nbconvert preprocessors\n",
      "[I 11:25:36 InstallContribNbextensionsApp] - Writing config: C:\\ProgramData\\jupyter\\jupyter_nbconvert_config.json\n",
      "[I 11:25:36 InstallContribNbextensionsApp] --  Writing updated config file C:\\ProgramData\\jupyter\\jupyter_nbconvert_config.json\n"
     ]
    }
   ],
   "source": [
    "# EDA를 위한 분석 라이브러리 \n",
    "import pandas as pd\n",
    "import numpy as np\n",
    "import matplotlib.pyplot as plt\n",
    "import seaborn as sns\n",
    "# 검증 데이터 분리를 위한 함수\n",
    "from sklearn.model_selection import train_test_split\n",
    "# 학습을 위한 모델 클래스\n",
    "from sklearn.neighbors import KNeighborsClassifier\n",
    "from sklearn.tree import DecisionTreeClassifier\n",
    "# 평가를 위한 함수(정확도)\n",
    "from sklearn.metrics import accuracy_score"
   ]
  },
  {
   "cell_type": "code",
   "execution_count": 4,
   "id": "96f53ca6",
   "metadata": {},
   "outputs": [
    {
     "data": {
      "text/plain": [
       "'Train'"
      ]
     },
     "metadata": {},
     "output_type": "display_data"
    },
    {
     "data": {
      "text/html": [
       "<div>\n",
       "<style scoped>\n",
       "    .dataframe tbody tr th:only-of-type {\n",
       "        vertical-align: middle;\n",
       "    }\n",
       "\n",
       "    .dataframe tbody tr th {\n",
       "        vertical-align: top;\n",
       "    }\n",
       "\n",
       "    .dataframe thead th {\n",
       "        text-align: right;\n",
       "    }\n",
       "</style>\n",
       "<table border=\"1\" class=\"dataframe\">\n",
       "  <thead>\n",
       "    <tr style=\"text-align: right;\">\n",
       "      <th></th>\n",
       "      <th>Survived</th>\n",
       "      <th>Pclass</th>\n",
       "      <th>Name</th>\n",
       "      <th>Sex</th>\n",
       "      <th>Age</th>\n",
       "      <th>SibSp</th>\n",
       "      <th>Parch</th>\n",
       "      <th>Ticket</th>\n",
       "      <th>Fare</th>\n",
       "      <th>Cabin</th>\n",
       "      <th>Embarked</th>\n",
       "    </tr>\n",
       "    <tr>\n",
       "      <th>PassengerId</th>\n",
       "      <th></th>\n",
       "      <th></th>\n",
       "      <th></th>\n",
       "      <th></th>\n",
       "      <th></th>\n",
       "      <th></th>\n",
       "      <th></th>\n",
       "      <th></th>\n",
       "      <th></th>\n",
       "      <th></th>\n",
       "      <th></th>\n",
       "    </tr>\n",
       "  </thead>\n",
       "  <tbody>\n",
       "    <tr>\n",
       "      <th>1</th>\n",
       "      <td>0</td>\n",
       "      <td>3</td>\n",
       "      <td>Braund, Mr. Owen Harris</td>\n",
       "      <td>male</td>\n",
       "      <td>22.0</td>\n",
       "      <td>1</td>\n",
       "      <td>0</td>\n",
       "      <td>A/5 21171</td>\n",
       "      <td>7.2500</td>\n",
       "      <td>NaN</td>\n",
       "      <td>S</td>\n",
       "    </tr>\n",
       "    <tr>\n",
       "      <th>2</th>\n",
       "      <td>1</td>\n",
       "      <td>1</td>\n",
       "      <td>Cumings, Mrs. John Bradley (Florence Briggs Th...</td>\n",
       "      <td>female</td>\n",
       "      <td>38.0</td>\n",
       "      <td>1</td>\n",
       "      <td>0</td>\n",
       "      <td>PC 17599</td>\n",
       "      <td>71.2833</td>\n",
       "      <td>C85</td>\n",
       "      <td>C</td>\n",
       "    </tr>\n",
       "    <tr>\n",
       "      <th>3</th>\n",
       "      <td>1</td>\n",
       "      <td>3</td>\n",
       "      <td>Heikkinen, Miss. Laina</td>\n",
       "      <td>female</td>\n",
       "      <td>26.0</td>\n",
       "      <td>0</td>\n",
       "      <td>0</td>\n",
       "      <td>STON/O2. 3101282</td>\n",
       "      <td>7.9250</td>\n",
       "      <td>NaN</td>\n",
       "      <td>S</td>\n",
       "    </tr>\n",
       "    <tr>\n",
       "      <th>4</th>\n",
       "      <td>1</td>\n",
       "      <td>1</td>\n",
       "      <td>Futrelle, Mrs. Jacques Heath (Lily May Peel)</td>\n",
       "      <td>female</td>\n",
       "      <td>35.0</td>\n",
       "      <td>1</td>\n",
       "      <td>0</td>\n",
       "      <td>113803</td>\n",
       "      <td>53.1000</td>\n",
       "      <td>C123</td>\n",
       "      <td>S</td>\n",
       "    </tr>\n",
       "    <tr>\n",
       "      <th>5</th>\n",
       "      <td>0</td>\n",
       "      <td>3</td>\n",
       "      <td>Allen, Mr. William Henry</td>\n",
       "      <td>male</td>\n",
       "      <td>35.0</td>\n",
       "      <td>0</td>\n",
       "      <td>0</td>\n",
       "      <td>373450</td>\n",
       "      <td>8.0500</td>\n",
       "      <td>NaN</td>\n",
       "      <td>S</td>\n",
       "    </tr>\n",
       "  </tbody>\n",
       "</table>\n",
       "</div>"
      ],
      "text/plain": [
       "             Survived  Pclass  \\\n",
       "PassengerId                     \n",
       "1                   0       3   \n",
       "2                   1       1   \n",
       "3                   1       3   \n",
       "4                   1       1   \n",
       "5                   0       3   \n",
       "\n",
       "                                                          Name     Sex   Age  \\\n",
       "PassengerId                                                                    \n",
       "1                                      Braund, Mr. Owen Harris    male  22.0   \n",
       "2            Cumings, Mrs. John Bradley (Florence Briggs Th...  female  38.0   \n",
       "3                                       Heikkinen, Miss. Laina  female  26.0   \n",
       "4                 Futrelle, Mrs. Jacques Heath (Lily May Peel)  female  35.0   \n",
       "5                                     Allen, Mr. William Henry    male  35.0   \n",
       "\n",
       "             SibSp  Parch            Ticket     Fare Cabin Embarked  \n",
       "PassengerId                                                          \n",
       "1                1      0         A/5 21171   7.2500   NaN        S  \n",
       "2                1      0          PC 17599  71.2833   C85        C  \n",
       "3                0      0  STON/O2. 3101282   7.9250   NaN        S  \n",
       "4                1      0            113803  53.1000  C123        S  \n",
       "5                0      0            373450   8.0500   NaN        S  "
      ]
     },
     "metadata": {},
     "output_type": "display_data"
    },
    {
     "data": {
      "text/plain": [
       "'Test'"
      ]
     },
     "metadata": {},
     "output_type": "display_data"
    },
    {
     "data": {
      "text/html": [
       "<div>\n",
       "<style scoped>\n",
       "    .dataframe tbody tr th:only-of-type {\n",
       "        vertical-align: middle;\n",
       "    }\n",
       "\n",
       "    .dataframe tbody tr th {\n",
       "        vertical-align: top;\n",
       "    }\n",
       "\n",
       "    .dataframe thead th {\n",
       "        text-align: right;\n",
       "    }\n",
       "</style>\n",
       "<table border=\"1\" class=\"dataframe\">\n",
       "  <thead>\n",
       "    <tr style=\"text-align: right;\">\n",
       "      <th></th>\n",
       "      <th>Pclass</th>\n",
       "      <th>Name</th>\n",
       "      <th>Sex</th>\n",
       "      <th>Age</th>\n",
       "      <th>SibSp</th>\n",
       "      <th>Parch</th>\n",
       "      <th>Ticket</th>\n",
       "      <th>Fare</th>\n",
       "      <th>Cabin</th>\n",
       "      <th>Embarked</th>\n",
       "    </tr>\n",
       "    <tr>\n",
       "      <th>PassengerId</th>\n",
       "      <th></th>\n",
       "      <th></th>\n",
       "      <th></th>\n",
       "      <th></th>\n",
       "      <th></th>\n",
       "      <th></th>\n",
       "      <th></th>\n",
       "      <th></th>\n",
       "      <th></th>\n",
       "      <th></th>\n",
       "    </tr>\n",
       "  </thead>\n",
       "  <tbody>\n",
       "    <tr>\n",
       "      <th>892</th>\n",
       "      <td>3</td>\n",
       "      <td>Kelly, Mr. James</td>\n",
       "      <td>male</td>\n",
       "      <td>34.5</td>\n",
       "      <td>0</td>\n",
       "      <td>0</td>\n",
       "      <td>330911</td>\n",
       "      <td>7.8292</td>\n",
       "      <td>NaN</td>\n",
       "      <td>Q</td>\n",
       "    </tr>\n",
       "    <tr>\n",
       "      <th>893</th>\n",
       "      <td>3</td>\n",
       "      <td>Wilkes, Mrs. James (Ellen Needs)</td>\n",
       "      <td>female</td>\n",
       "      <td>47.0</td>\n",
       "      <td>1</td>\n",
       "      <td>0</td>\n",
       "      <td>363272</td>\n",
       "      <td>7.0000</td>\n",
       "      <td>NaN</td>\n",
       "      <td>S</td>\n",
       "    </tr>\n",
       "    <tr>\n",
       "      <th>894</th>\n",
       "      <td>2</td>\n",
       "      <td>Myles, Mr. Thomas Francis</td>\n",
       "      <td>male</td>\n",
       "      <td>62.0</td>\n",
       "      <td>0</td>\n",
       "      <td>0</td>\n",
       "      <td>240276</td>\n",
       "      <td>9.6875</td>\n",
       "      <td>NaN</td>\n",
       "      <td>Q</td>\n",
       "    </tr>\n",
       "    <tr>\n",
       "      <th>895</th>\n",
       "      <td>3</td>\n",
       "      <td>Wirz, Mr. Albert</td>\n",
       "      <td>male</td>\n",
       "      <td>27.0</td>\n",
       "      <td>0</td>\n",
       "      <td>0</td>\n",
       "      <td>315154</td>\n",
       "      <td>8.6625</td>\n",
       "      <td>NaN</td>\n",
       "      <td>S</td>\n",
       "    </tr>\n",
       "    <tr>\n",
       "      <th>896</th>\n",
       "      <td>3</td>\n",
       "      <td>Hirvonen, Mrs. Alexander (Helga E Lindqvist)</td>\n",
       "      <td>female</td>\n",
       "      <td>22.0</td>\n",
       "      <td>1</td>\n",
       "      <td>1</td>\n",
       "      <td>3101298</td>\n",
       "      <td>12.2875</td>\n",
       "      <td>NaN</td>\n",
       "      <td>S</td>\n",
       "    </tr>\n",
       "  </tbody>\n",
       "</table>\n",
       "</div>"
      ],
      "text/plain": [
       "             Pclass                                          Name     Sex  \\\n",
       "PassengerId                                                                 \n",
       "892               3                              Kelly, Mr. James    male   \n",
       "893               3              Wilkes, Mrs. James (Ellen Needs)  female   \n",
       "894               2                     Myles, Mr. Thomas Francis    male   \n",
       "895               3                              Wirz, Mr. Albert    male   \n",
       "896               3  Hirvonen, Mrs. Alexander (Helga E Lindqvist)  female   \n",
       "\n",
       "              Age  SibSp  Parch   Ticket     Fare Cabin Embarked  \n",
       "PassengerId                                                       \n",
       "892          34.5      0      0   330911   7.8292   NaN        Q  \n",
       "893          47.0      1      0   363272   7.0000   NaN        S  \n",
       "894          62.0      0      0   240276   9.6875   NaN        Q  \n",
       "895          27.0      0      0   315154   8.6625   NaN        S  \n",
       "896          22.0      1      1  3101298  12.2875   NaN        S  "
      ]
     },
     "metadata": {},
     "output_type": "display_data"
    }
   ],
   "source": [
    "train = pd.read_csv(\"./data/titanic/train.csv\", index_col=\"PassengerId\")\n",
    "test = pd.read_csv(\"./data/titanic/test.csv\", index_col=\"PassengerId\")\n",
    "display(\"Train\")\n",
    "display(train.head())\n",
    "display(\"Test\")\n",
    "display(test.head())"
   ]
  },
  {
   "cell_type": "markdown",
   "id": "d00d6cd7",
   "metadata": {},
   "source": [
    "#### 3. 데이터 전처리 ~ 4. 탐색적데이터 분석(EDA)"
   ]
  },
  {
   "cell_type": "markdown",
   "id": "b4d05393",
   "metadata": {},
   "source": [
    "#### 1. 전체데이터 수 파악"
   ]
  },
  {
   "cell_type": "code",
   "execution_count": 5,
   "id": "566f0efc",
   "metadata": {},
   "outputs": [
    {
     "data": {
      "text/plain": [
       "((891, 11), (418, 10))"
      ]
     },
     "execution_count": 5,
     "metadata": {},
     "output_type": "execute_result"
    }
   ],
   "source": [
    "train.shape,test.shape"
   ]
  },
  {
   "cell_type": "markdown",
   "id": "66e0ab49",
   "metadata": {},
   "source": [
    "##### 2. 결측치 파악(train,test)"
   ]
  },
  {
   "cell_type": "code",
   "execution_count": 6,
   "id": "8b44f4ec",
   "metadata": {},
   "outputs": [
    {
     "data": {
      "text/plain": [
       "Survived      0\n",
       "Pclass        0\n",
       "Name          0\n",
       "Sex           0\n",
       "Age         177\n",
       "SibSp         0\n",
       "Parch         0\n",
       "Ticket        0\n",
       "Fare          0\n",
       "Cabin       687\n",
       "Embarked      2\n",
       "dtype: int64"
      ]
     },
     "execution_count": 6,
     "metadata": {},
     "output_type": "execute_result"
    }
   ],
   "source": [
    "#display(train.info())\n",
    "#display(test.info())\n",
    "\n",
    "train.isnull().sum()"
   ]
  },
  {
   "cell_type": "code",
   "execution_count": 7,
   "id": "0ab328d9",
   "metadata": {},
   "outputs": [
    {
     "data": {
      "text/plain": [
       "Pclass        0\n",
       "Name          0\n",
       "Sex           0\n",
       "Age          86\n",
       "SibSp         0\n",
       "Parch         0\n",
       "Ticket        0\n",
       "Fare          1\n",
       "Cabin       327\n",
       "Embarked      0\n",
       "dtype: int64"
      ]
     },
     "execution_count": 7,
     "metadata": {},
     "output_type": "execute_result"
    }
   ],
   "source": [
    "test.isnull().sum()"
   ]
  },
  {
   "cell_type": "markdown",
   "id": "2bb042da",
   "metadata": {},
   "source": [
    "- train 결측치: Age, Cabin, Embarked\n",
    "- test 결측치: Age, Cabin, Fare"
   ]
  },
  {
   "cell_type": "markdown",
   "id": "2a3530c2",
   "metadata": {},
   "source": [
    "##### 3. 결측치 채우기"
   ]
  },
  {
   "cell_type": "code",
   "execution_count": 8,
   "id": "0cb17e66",
   "metadata": {},
   "outputs": [
    {
     "data": {
      "text/html": [
       "<div>\n",
       "<style scoped>\n",
       "    .dataframe tbody tr th:only-of-type {\n",
       "        vertical-align: middle;\n",
       "    }\n",
       "\n",
       "    .dataframe tbody tr th {\n",
       "        vertical-align: top;\n",
       "    }\n",
       "\n",
       "    .dataframe thead th {\n",
       "        text-align: right;\n",
       "    }\n",
       "</style>\n",
       "<table border=\"1\" class=\"dataframe\">\n",
       "  <thead>\n",
       "    <tr style=\"text-align: right;\">\n",
       "      <th></th>\n",
       "      <th>Age</th>\n",
       "      <th>Cabin</th>\n",
       "      <th>Embarked</th>\n",
       "    </tr>\n",
       "  </thead>\n",
       "  <tbody>\n",
       "    <tr>\n",
       "      <th>count</th>\n",
       "      <td>714.000000</td>\n",
       "      <td>204</td>\n",
       "      <td>889</td>\n",
       "    </tr>\n",
       "    <tr>\n",
       "      <th>unique</th>\n",
       "      <td>NaN</td>\n",
       "      <td>147</td>\n",
       "      <td>3</td>\n",
       "    </tr>\n",
       "    <tr>\n",
       "      <th>top</th>\n",
       "      <td>NaN</td>\n",
       "      <td>B96 B98</td>\n",
       "      <td>S</td>\n",
       "    </tr>\n",
       "    <tr>\n",
       "      <th>freq</th>\n",
       "      <td>NaN</td>\n",
       "      <td>4</td>\n",
       "      <td>644</td>\n",
       "    </tr>\n",
       "    <tr>\n",
       "      <th>mean</th>\n",
       "      <td>29.699118</td>\n",
       "      <td>NaN</td>\n",
       "      <td>NaN</td>\n",
       "    </tr>\n",
       "    <tr>\n",
       "      <th>std</th>\n",
       "      <td>14.526497</td>\n",
       "      <td>NaN</td>\n",
       "      <td>NaN</td>\n",
       "    </tr>\n",
       "    <tr>\n",
       "      <th>min</th>\n",
       "      <td>0.420000</td>\n",
       "      <td>NaN</td>\n",
       "      <td>NaN</td>\n",
       "    </tr>\n",
       "    <tr>\n",
       "      <th>25%</th>\n",
       "      <td>20.125000</td>\n",
       "      <td>NaN</td>\n",
       "      <td>NaN</td>\n",
       "    </tr>\n",
       "    <tr>\n",
       "      <th>50%</th>\n",
       "      <td>28.000000</td>\n",
       "      <td>NaN</td>\n",
       "      <td>NaN</td>\n",
       "    </tr>\n",
       "    <tr>\n",
       "      <th>75%</th>\n",
       "      <td>38.000000</td>\n",
       "      <td>NaN</td>\n",
       "      <td>NaN</td>\n",
       "    </tr>\n",
       "    <tr>\n",
       "      <th>max</th>\n",
       "      <td>80.000000</td>\n",
       "      <td>NaN</td>\n",
       "      <td>NaN</td>\n",
       "    </tr>\n",
       "  </tbody>\n",
       "</table>\n",
       "</div>"
      ],
      "text/plain": [
       "               Age    Cabin Embarked\n",
       "count   714.000000      204      889\n",
       "unique         NaN      147        3\n",
       "top            NaN  B96 B98        S\n",
       "freq           NaN        4      644\n",
       "mean     29.699118      NaN      NaN\n",
       "std      14.526497      NaN      NaN\n",
       "min       0.420000      NaN      NaN\n",
       "25%      20.125000      NaN      NaN\n",
       "50%      28.000000      NaN      NaN\n",
       "75%      38.000000      NaN      NaN\n",
       "max      80.000000      NaN      NaN"
      ]
     },
     "metadata": {},
     "output_type": "display_data"
    },
    {
     "data": {
      "text/html": [
       "<div>\n",
       "<style scoped>\n",
       "    .dataframe tbody tr th:only-of-type {\n",
       "        vertical-align: middle;\n",
       "    }\n",
       "\n",
       "    .dataframe tbody tr th {\n",
       "        vertical-align: top;\n",
       "    }\n",
       "\n",
       "    .dataframe thead th {\n",
       "        text-align: right;\n",
       "    }\n",
       "</style>\n",
       "<table border=\"1\" class=\"dataframe\">\n",
       "  <thead>\n",
       "    <tr style=\"text-align: right;\">\n",
       "      <th></th>\n",
       "      <th>Age</th>\n",
       "      <th>Cabin</th>\n",
       "      <th>Fare</th>\n",
       "    </tr>\n",
       "  </thead>\n",
       "  <tbody>\n",
       "    <tr>\n",
       "      <th>count</th>\n",
       "      <td>332.000000</td>\n",
       "      <td>91</td>\n",
       "      <td>417.000000</td>\n",
       "    </tr>\n",
       "    <tr>\n",
       "      <th>unique</th>\n",
       "      <td>NaN</td>\n",
       "      <td>76</td>\n",
       "      <td>NaN</td>\n",
       "    </tr>\n",
       "    <tr>\n",
       "      <th>top</th>\n",
       "      <td>NaN</td>\n",
       "      <td>B57 B59 B63 B66</td>\n",
       "      <td>NaN</td>\n",
       "    </tr>\n",
       "    <tr>\n",
       "      <th>freq</th>\n",
       "      <td>NaN</td>\n",
       "      <td>3</td>\n",
       "      <td>NaN</td>\n",
       "    </tr>\n",
       "    <tr>\n",
       "      <th>mean</th>\n",
       "      <td>30.272590</td>\n",
       "      <td>NaN</td>\n",
       "      <td>35.627188</td>\n",
       "    </tr>\n",
       "    <tr>\n",
       "      <th>std</th>\n",
       "      <td>14.181209</td>\n",
       "      <td>NaN</td>\n",
       "      <td>55.907576</td>\n",
       "    </tr>\n",
       "    <tr>\n",
       "      <th>min</th>\n",
       "      <td>0.170000</td>\n",
       "      <td>NaN</td>\n",
       "      <td>0.000000</td>\n",
       "    </tr>\n",
       "    <tr>\n",
       "      <th>25%</th>\n",
       "      <td>21.000000</td>\n",
       "      <td>NaN</td>\n",
       "      <td>7.895800</td>\n",
       "    </tr>\n",
       "    <tr>\n",
       "      <th>50%</th>\n",
       "      <td>27.000000</td>\n",
       "      <td>NaN</td>\n",
       "      <td>14.454200</td>\n",
       "    </tr>\n",
       "    <tr>\n",
       "      <th>75%</th>\n",
       "      <td>39.000000</td>\n",
       "      <td>NaN</td>\n",
       "      <td>31.500000</td>\n",
       "    </tr>\n",
       "    <tr>\n",
       "      <th>max</th>\n",
       "      <td>76.000000</td>\n",
       "      <td>NaN</td>\n",
       "      <td>512.329200</td>\n",
       "    </tr>\n",
       "  </tbody>\n",
       "</table>\n",
       "</div>"
      ],
      "text/plain": [
       "               Age            Cabin        Fare\n",
       "count   332.000000               91  417.000000\n",
       "unique         NaN               76         NaN\n",
       "top            NaN  B57 B59 B63 B66         NaN\n",
       "freq           NaN                3         NaN\n",
       "mean     30.272590              NaN   35.627188\n",
       "std      14.181209              NaN   55.907576\n",
       "min       0.170000              NaN    0.000000\n",
       "25%      21.000000              NaN    7.895800\n",
       "50%      27.000000              NaN   14.454200\n",
       "75%      39.000000              NaN   31.500000\n",
       "max      76.000000              NaN  512.329200"
      ]
     },
     "metadata": {},
     "output_type": "display_data"
    }
   ],
   "source": [
    "# 기술통계 확인 \n",
    "display(train[['Age','Cabin','Embarked']].describe(include='all'))\n",
    "display(test[['Age','Cabin','Fare']].describe(include='all'))"
   ]
  },
  {
   "cell_type": "code",
   "execution_count": 9,
   "id": "a7aa1fa7",
   "metadata": {},
   "outputs": [],
   "source": [
    "# Fare 채우기(수치 데이터 -평균, 중앙값 등 )\n",
    "test['Fare'].describe()\n",
    "test['Fare'].fillna(14,inplace=True)\n",
    "\n",
    "# Embarked 채우기 (범주형 데이터 - 최빈값 등)\n",
    "train['Embarked'].describe()\n",
    "train['Embarked'].fillna('S',inplace=True)"
   ]
  },
  {
   "cell_type": "code",
   "execution_count": 10,
   "id": "f76dc194",
   "metadata": {},
   "outputs": [
    {
     "data": {
      "text/plain": [
       "Survived      0\n",
       "Pclass        0\n",
       "Name          0\n",
       "Sex           0\n",
       "Age         177\n",
       "SibSp         0\n",
       "Parch         0\n",
       "Ticket        0\n",
       "Fare          0\n",
       "Cabin       687\n",
       "Embarked      0\n",
       "dtype: int64"
      ]
     },
     "execution_count": 10,
     "metadata": {},
     "output_type": "execute_result"
    }
   ],
   "source": [
    "# 채운 결측치 확인\n",
    "train.isnull().sum()"
   ]
  },
  {
   "cell_type": "code",
   "execution_count": 11,
   "id": "a9bc4b4f",
   "metadata": {},
   "outputs": [
    {
     "data": {
      "text/plain": [
       "Pclass        0\n",
       "Name          0\n",
       "Sex           0\n",
       "Age          86\n",
       "SibSp         0\n",
       "Parch         0\n",
       "Ticket        0\n",
       "Fare          0\n",
       "Cabin       327\n",
       "Embarked      0\n",
       "dtype: int64"
      ]
     },
     "execution_count": 11,
     "metadata": {},
     "output_type": "execute_result"
    }
   ],
   "source": [
    "# 채운 결측치 확인\n",
    "test.isnull().sum()"
   ]
  },
  {
   "cell_type": "code",
   "execution_count": 12,
   "id": "97544135",
   "metadata": {},
   "outputs": [
    {
     "data": {
      "text/html": [
       "<div>\n",
       "<style scoped>\n",
       "    .dataframe tbody tr th:only-of-type {\n",
       "        vertical-align: middle;\n",
       "    }\n",
       "\n",
       "    .dataframe tbody tr th {\n",
       "        vertical-align: top;\n",
       "    }\n",
       "\n",
       "    .dataframe thead th {\n",
       "        text-align: right;\n",
       "    }\n",
       "</style>\n",
       "<table border=\"1\" class=\"dataframe\">\n",
       "  <thead>\n",
       "    <tr style=\"text-align: right;\">\n",
       "      <th></th>\n",
       "      <th>Survived</th>\n",
       "      <th>Pclass</th>\n",
       "      <th>Age</th>\n",
       "      <th>SibSp</th>\n",
       "      <th>Parch</th>\n",
       "      <th>Fare</th>\n",
       "    </tr>\n",
       "  </thead>\n",
       "  <tbody>\n",
       "    <tr>\n",
       "      <th>Survived</th>\n",
       "      <td>1.000000</td>\n",
       "      <td>-0.338481</td>\n",
       "      <td>-0.077221</td>\n",
       "      <td>-0.035322</td>\n",
       "      <td>0.081629</td>\n",
       "      <td>0.257307</td>\n",
       "    </tr>\n",
       "    <tr>\n",
       "      <th>Pclass</th>\n",
       "      <td>-0.338481</td>\n",
       "      <td>1.000000</td>\n",
       "      <td>-0.369226</td>\n",
       "      <td>0.083081</td>\n",
       "      <td>0.018443</td>\n",
       "      <td>-0.549500</td>\n",
       "    </tr>\n",
       "    <tr>\n",
       "      <th>Age</th>\n",
       "      <td>-0.077221</td>\n",
       "      <td>-0.369226</td>\n",
       "      <td>1.000000</td>\n",
       "      <td>-0.308247</td>\n",
       "      <td>-0.189119</td>\n",
       "      <td>0.096067</td>\n",
       "    </tr>\n",
       "    <tr>\n",
       "      <th>SibSp</th>\n",
       "      <td>-0.035322</td>\n",
       "      <td>0.083081</td>\n",
       "      <td>-0.308247</td>\n",
       "      <td>1.000000</td>\n",
       "      <td>0.414838</td>\n",
       "      <td>0.159651</td>\n",
       "    </tr>\n",
       "    <tr>\n",
       "      <th>Parch</th>\n",
       "      <td>0.081629</td>\n",
       "      <td>0.018443</td>\n",
       "      <td>-0.189119</td>\n",
       "      <td>0.414838</td>\n",
       "      <td>1.000000</td>\n",
       "      <td>0.216225</td>\n",
       "    </tr>\n",
       "    <tr>\n",
       "      <th>Fare</th>\n",
       "      <td>0.257307</td>\n",
       "      <td>-0.549500</td>\n",
       "      <td>0.096067</td>\n",
       "      <td>0.159651</td>\n",
       "      <td>0.216225</td>\n",
       "      <td>1.000000</td>\n",
       "    </tr>\n",
       "  </tbody>\n",
       "</table>\n",
       "</div>"
      ],
      "text/plain": [
       "          Survived    Pclass       Age     SibSp     Parch      Fare\n",
       "Survived  1.000000 -0.338481 -0.077221 -0.035322  0.081629  0.257307\n",
       "Pclass   -0.338481  1.000000 -0.369226  0.083081  0.018443 -0.549500\n",
       "Age      -0.077221 -0.369226  1.000000 -0.308247 -0.189119  0.096067\n",
       "SibSp    -0.035322  0.083081 -0.308247  1.000000  0.414838  0.159651\n",
       "Parch     0.081629  0.018443 -0.189119  0.414838  1.000000  0.216225\n",
       "Fare      0.257307 -0.549500  0.096067  0.159651  0.216225  1.000000"
      ]
     },
     "metadata": {},
     "output_type": "display_data"
    },
    {
     "data": {
      "text/plain": [
       "Survived   -0.077221\n",
       "Pclass     -0.369226\n",
       "Age         1.000000\n",
       "SibSp      -0.308247\n",
       "Parch      -0.189119\n",
       "Fare        0.096067\n",
       "Name: Age, dtype: float64"
      ]
     },
     "metadata": {},
     "output_type": "display_data"
    }
   ],
   "source": [
    "# Age 채우기 - 상관관계 및 데이터 그룹핑을 이용\n",
    "display(train.corr()) # 전체 상관계수 확인\n",
    "display(train.corr()['Age']) # Age의 상관계수 확인"
   ]
  },
  {
   "cell_type": "markdown",
   "id": "6f6f0f74",
   "metadata": {},
   "source": [
    "- Pclass가 Age와 반비례 관계를 가진다(상관계수 : -0.36) Pclass     -0.369226\n",
    "- 등급숫자가 높아질수록 나이대가 어려진다. \n",
    "- 그리고 시대적 배경을 고려해 남성과 여성도 활용하자."
   ]
  },
  {
   "cell_type": "code",
   "execution_count": 13,
   "id": "e901e5ad",
   "metadata": {},
   "outputs": [
    {
     "data": {
      "text/html": [
       "<div>\n",
       "<style scoped>\n",
       "    .dataframe tbody tr th:only-of-type {\n",
       "        vertical-align: middle;\n",
       "    }\n",
       "\n",
       "    .dataframe tbody tr th {\n",
       "        vertical-align: top;\n",
       "    }\n",
       "\n",
       "    .dataframe thead th {\n",
       "        text-align: right;\n",
       "    }\n",
       "</style>\n",
       "<table border=\"1\" class=\"dataframe\">\n",
       "  <thead>\n",
       "    <tr style=\"text-align: right;\">\n",
       "      <th></th>\n",
       "      <th></th>\n",
       "      <th>Age</th>\n",
       "    </tr>\n",
       "    <tr>\n",
       "      <th>Pclass</th>\n",
       "      <th>Sex</th>\n",
       "      <th></th>\n",
       "    </tr>\n",
       "  </thead>\n",
       "  <tbody>\n",
       "    <tr>\n",
       "      <th rowspan=\"2\" valign=\"top\">1</th>\n",
       "      <th>female</th>\n",
       "      <td>35.0</td>\n",
       "    </tr>\n",
       "    <tr>\n",
       "      <th>male</th>\n",
       "      <td>40.0</td>\n",
       "    </tr>\n",
       "    <tr>\n",
       "      <th rowspan=\"2\" valign=\"top\">2</th>\n",
       "      <th>female</th>\n",
       "      <td>28.0</td>\n",
       "    </tr>\n",
       "    <tr>\n",
       "      <th>male</th>\n",
       "      <td>30.0</td>\n",
       "    </tr>\n",
       "    <tr>\n",
       "      <th rowspan=\"2\" valign=\"top\">3</th>\n",
       "      <th>female</th>\n",
       "      <td>21.5</td>\n",
       "    </tr>\n",
       "    <tr>\n",
       "      <th>male</th>\n",
       "      <td>25.0</td>\n",
       "    </tr>\n",
       "  </tbody>\n",
       "</table>\n",
       "</div>"
      ],
      "text/plain": [
       "                Age\n",
       "Pclass Sex         \n",
       "1      female  35.0\n",
       "       male    40.0\n",
       "2      female  28.0\n",
       "       male    30.0\n",
       "3      female  21.5\n",
       "       male    25.0"
      ]
     },
     "execution_count": 13,
     "metadata": {},
     "output_type": "execute_result"
    }
   ],
   "source": [
    "# 등급과 성별을 모두 이용해 그룹핑을 하고 나이의 중앙값을 계산시켜보자\n",
    "# 나이의 중앙 값을 계산시켜보자\n",
    "train[['Age','Pclass','Sex']].groupby(by=['Pclass','Sex']).median()"
   ]
  },
  {
   "cell_type": "code",
   "execution_count": 14,
   "id": "326bf545",
   "metadata": {},
   "outputs": [],
   "source": [
    "# 데이터 채우기 \n",
    "age_data=train[['Age','Pclass','Sex']].groupby(by=['Pclass','Sex']).transform('median')"
   ]
  },
  {
   "cell_type": "code",
   "execution_count": 15,
   "id": "3e157bd5",
   "metadata": {},
   "outputs": [],
   "source": [
    "train['Age'].fillna(age_data['Age'],inplace=True)"
   ]
  },
  {
   "cell_type": "code",
   "execution_count": 16,
   "id": "5bab64bf",
   "metadata": {},
   "outputs": [
    {
     "data": {
      "text/plain": [
       "0"
      ]
     },
     "execution_count": 16,
     "metadata": {},
     "output_type": "execute_result"
    }
   ],
   "source": [
    "train['Age'].isnull().sum()"
   ]
  },
  {
   "cell_type": "code",
   "execution_count": 17,
   "id": "e483bb58",
   "metadata": {},
   "outputs": [],
   "source": [
    "# test age 채우기\n",
    "test[['Age','Pclass','Sex']].groupby(by=['Pclass','Sex']).median()\n",
    "\n",
    "# 데이터 채우기 \n",
    "age_data_test=test[['Age','Pclass','Sex']].groupby(by=['Pclass','Sex']).transform('median')\n",
    "test['Age'].fillna(age_data_test['Age'],inplace=True)\n"
   ]
  },
  {
   "cell_type": "code",
   "execution_count": 18,
   "id": "076a49b3",
   "metadata": {},
   "outputs": [
    {
     "data": {
      "text/plain": [
       "0"
      ]
     },
     "execution_count": 18,
     "metadata": {},
     "output_type": "execute_result"
    }
   ],
   "source": [
    "test['Age'].isnull().sum()"
   ]
  },
  {
   "cell_type": "code",
   "execution_count": 19,
   "id": "05476e7b",
   "metadata": {},
   "outputs": [
    {
     "data": {
      "text/plain": [
       "array([nan, 'C85', 'C123', 'E46', 'G6', 'C103', 'D56', 'A6',\n",
       "       'C23 C25 C27', 'B78', 'D33', 'B30', 'C52', 'B28', 'C83', 'F33',\n",
       "       'F G73', 'E31', 'A5', 'D10 D12', 'D26', 'C110', 'B58 B60', 'E101',\n",
       "       'F E69', 'D47', 'B86', 'F2', 'C2', 'E33', 'B19', 'A7', 'C49', 'F4',\n",
       "       'A32', 'B4', 'B80', 'A31', 'D36', 'D15', 'C93', 'C78', 'D35',\n",
       "       'C87', 'B77', 'E67', 'B94', 'C125', 'C99', 'C118', 'D7', 'A19',\n",
       "       'B49', 'D', 'C22 C26', 'C106', 'C65', 'E36', 'C54',\n",
       "       'B57 B59 B63 B66', 'C7', 'E34', 'C32', 'B18', 'C124', 'C91', 'E40',\n",
       "       'T', 'C128', 'D37', 'B35', 'E50', 'C82', 'B96 B98', 'E10', 'E44',\n",
       "       'A34', 'C104', 'C111', 'C92', 'E38', 'D21', 'E12', 'E63', 'A14',\n",
       "       'B37', 'C30', 'D20', 'B79', 'E25', 'D46', 'B73', 'C95', 'B38',\n",
       "       'B39', 'B22', 'C86', 'C70', 'A16', 'C101', 'C68', 'A10', 'E68',\n",
       "       'B41', 'A20', 'D19', 'D50', 'D9', 'A23', 'B50', 'A26', 'D48',\n",
       "       'E58', 'C126', 'B71', 'B51 B53 B55', 'D49', 'B5', 'B20', 'F G63',\n",
       "       'C62 C64', 'E24', 'C90', 'C45', 'E8', 'B101', 'D45', 'C46', 'D30',\n",
       "       'E121', 'D11', 'E77', 'F38', 'B3', 'D6', 'B82 B84', 'D17', 'A36',\n",
       "       'B102', 'B69', 'E49', 'C47', 'D28', 'E17', 'A24', 'C50', 'B42',\n",
       "       'C148'], dtype=object)"
      ]
     },
     "execution_count": 19,
     "metadata": {},
     "output_type": "execute_result"
    }
   ],
   "source": [
    "# Cabin 채우기\n",
    "train['Cabin'].unique()"
   ]
  },
  {
   "cell_type": "markdown",
   "id": "4c2e2835",
   "metadata": {},
   "source": [
    "- 결측치 비율이 너무 높기 때문에 대체값을 추정하는 것보다는 결측치로 인정하는 값을 넣자. \n",
    "- 고유값이 너무 많아서 앞글자만 따서 정리하자"
   ]
  },
  {
   "cell_type": "code",
   "execution_count": 20,
   "id": "4768542c",
   "metadata": {},
   "outputs": [],
   "source": [
    "train['Cabin']=train['Cabin'].str[0]"
   ]
  },
  {
   "cell_type": "code",
   "execution_count": 21,
   "id": "08908950",
   "metadata": {},
   "outputs": [
    {
     "data": {
      "text/plain": [
       "array(['M', 'C', 'E', 'G', 'D', 'A', 'B', 'F', 'T'], dtype=object)"
      ]
     },
     "execution_count": 21,
     "metadata": {},
     "output_type": "execute_result"
    }
   ],
   "source": [
    "train['Cabin'].fillna('M', inplace=True) #M은 missig\n",
    "train['Cabin'].unique()"
   ]
  },
  {
   "cell_type": "code",
   "execution_count": 22,
   "id": "9effe67d",
   "metadata": {},
   "outputs": [],
   "source": [
    "# test cabin 채우기 "
   ]
  },
  {
   "cell_type": "code",
   "execution_count": 23,
   "id": "1b99b31d",
   "metadata": {},
   "outputs": [
    {
     "data": {
      "text/plain": [
       "array(['M', 'B', 'E', 'A', 'C', 'D', 'F', 'G'], dtype=object)"
      ]
     },
     "execution_count": 23,
     "metadata": {},
     "output_type": "execute_result"
    }
   ],
   "source": [
    "test['Cabin']=test['Cabin'].str[0]\n",
    "test['Cabin'].fillna('M', inplace=True) #M은 missig\n",
    "test['Cabin'].unique()"
   ]
  },
  {
   "cell_type": "markdown",
   "id": "383f786f",
   "metadata": {},
   "source": [
    "- train에는 T가 있는데 test에는 없다."
   ]
  },
  {
   "cell_type": "code",
   "execution_count": 24,
   "id": "b66fe714",
   "metadata": {},
   "outputs": [],
   "source": [
    "# -------------------------여기까지가 결측치 처리다.----------------------------------------"
   ]
  },
  {
   "cell_type": "markdown",
   "id": "f5235c7b",
   "metadata": {},
   "source": [
    "#### 범주형 데이터 시각화\n",
    "- 빈도기반의 시각화 방법 활용: bar차트, pie 차트"
   ]
  },
  {
   "cell_type": "markdown",
   "id": "5b6a61b5",
   "metadata": {},
   "source": [
    "##### 4. 성별에 따른 생존여부 시각화"
   ]
  },
  {
   "cell_type": "code",
   "execution_count": 25,
   "id": "26311982",
   "metadata": {},
   "outputs": [
    {
     "data": {
      "text/plain": [
       "<AxesSubplot:xlabel='Sex', ylabel='count'>"
      ]
     },
     "execution_count": 25,
     "metadata": {},
     "output_type": "execute_result"
    },
    {
     "data": {
      "image/png": "[encoded data removed]",
      "text/plain": [
       "<Figure size 432x288 with 1 Axes>"
      ]
     },
     "metadata": {
      "needs_background": "light"
     },
     "output_type": "display_data"
    }
   ],
   "source": [
    "sns.countplot(data=train, x=\"Sex\", hue='Survived')"
   ]
  },
  {
   "cell_type": "markdown",
   "id": "6170ae21",
   "metadata": {},
   "source": [
    "##### 5.등급에 따른 생존여부 시각화"
   ]
  },
  {
   "cell_type": "code",
   "execution_count": 26,
   "id": "47219ecd",
   "metadata": {
    "scrolled": true
   },
   "outputs": [
    {
     "data": {
      "text/plain": [
       "<AxesSubplot:xlabel='Pclass', ylabel='count'>"
      ]
     },
     "execution_count": 26,
     "metadata": {},
     "output_type": "execute_result"
    },
    {
     "data": {
      "image/png": "[encoded data removed]",
      "text/plain": [
       "<Figure size 432x288 with 1 Axes>"
      ]
     },
     "metadata": {
      "needs_background": "light"
     },
     "output_type": "display_data"
    }
   ],
   "source": [
    "sns.countplot(data=train, x=\"Pclass\", hue='Survived')"
   ]
  },
  {
   "cell_type": "code",
   "execution_count": 27,
   "id": "88cf6275",
   "metadata": {},
   "outputs": [],
   "source": [
    "# ----------------------------------------0920▽--------------------------------------"
   ]
  },
  {
   "cell_type": "markdown",
   "id": "47354b1e",
   "metadata": {},
   "source": [
    "##### 6. 탑승지에 따른 생존여부 시각화"
   ]
  },
  {
   "cell_type": "code",
   "execution_count": 28,
   "id": "617351c7",
   "metadata": {},
   "outputs": [
    {
     "data": {
      "text/plain": [
       "<AxesSubplot:xlabel='Embarked', ylabel='count'>"
      ]
     },
     "execution_count": 28,
     "metadata": {},
     "output_type": "execute_result"
    },
    {
     "data": {
      "image/png": "[encoded data removed]",
      "text/plain": [
       "<Figure size 432x288 with 1 Axes>"
      ]
     },
     "metadata": {
      "needs_background": "light"
     },
     "output_type": "display_data"
    }
   ],
   "source": [
    "sns.countplot(data=train, x=\"Embarked\", hue=\"Survived\")"
   ]
  },
  {
   "cell_type": "markdown",
   "id": "fb597755",
   "metadata": {},
   "source": [
    "##### 7. Cabin에 따른 생존여부 시각화\n"
   ]
  },
  {
   "cell_type": "code",
   "execution_count": 29,
   "id": "d8e28c4e",
   "metadata": {},
   "outputs": [
    {
     "data": {
      "text/plain": [
       "<AxesSubplot:xlabel='Cabin', ylabel='count'>"
      ]
     },
     "execution_count": 29,
     "metadata": {},
     "output_type": "execute_result"
    },
    {
     "data": {
      "image/png": "[encoded data removed]",
      "text/plain": [
       "<Figure size 432x288 with 1 Axes>"
      ]
     },
     "metadata": {
      "needs_background": "light"
     },
     "output_type": "display_data"
    }
   ],
   "source": [
    "sns.countplot(data=train, x=\"Cabin\", hue=\"Survived\")"
   ]
  },
  {
   "cell_type": "markdown",
   "id": "bc970cfd",
   "metadata": {},
   "source": [
    "##### 8. 등급과 성별을 묶어서 시각화"
   ]
  },
  {
   "cell_type": "code",
   "execution_count": 30,
   "id": "d067a2ff",
   "metadata": {},
   "outputs": [],
   "source": [
    "train['Dead'] = 1 - train['Survived']"
   ]
  },
  {
   "cell_type": "code",
   "execution_count": 31,
   "id": "1f07a39a",
   "metadata": {},
   "outputs": [
    {
     "data": {
      "text/plain": [
       "<AxesSubplot:xlabel='Pclass,Sex'>"
      ]
     },
     "execution_count": 31,
     "metadata": {},
     "output_type": "execute_result"
    },
    {
     "data": {
      "image/png": "[encoded data removed]",
      "text/plain": [
       "<Figure size 432x288 with 1 Axes>"
      ]
     },
     "metadata": {
      "needs_background": "light"
     },
     "output_type": "display_data"
    }
   ],
   "source": [
    "train[['Sex','Pclass','Survived','Dead']].groupby(by=['Pclass','Sex']).sum().plot(kind='bar')"
   ]
  },
  {
   "cell_type": "markdown",
   "id": "2dc2ed72",
   "metadata": {},
   "source": [
    "##### 9. Cabin 과 Pclass를 묶어서 시각화"
   ]
  },
  {
   "cell_type": "code",
   "execution_count": 32,
   "id": "7f272292",
   "metadata": {},
   "outputs": [
    {
     "data": {
      "text/plain": [
       "<AxesSubplot:xlabel='Cabin', ylabel='count'>"
      ]
     },
     "execution_count": 32,
     "metadata": {},
     "output_type": "execute_result"
    },
    {
     "data": {
      "image/png": "[encoded data removed]",
      "text/plain": [
       "<Figure size 432x288 with 1 Axes>"
      ]
     },
     "metadata": {
      "needs_background": "light"
     },
     "output_type": "display_data"
    }
   ],
   "source": [
    "sns.countplot(data=train, x=\"Cabin\", hue=\"Pclass\")"
   ]
  },
  {
   "cell_type": "markdown",
   "id": "1b652535",
   "metadata": {},
   "source": [
    "#### 수치형 데이터 시각화\n",
    "- 시계열 데이터 : line 그래프\n",
    "- 두 수치데이터 사이의 관계 확인 : scatter 그래프(산점도)\n",
    "- 수치 데이터를 구간화해서 분포를 보는 경우 : 히스토그램, KDE (커널밀도 추정)\n",
    "- 사분위수를 이용해서 데이터 분포를 보는 경우 : box plot"
   ]
  },
  {
   "cell_type": "markdown",
   "id": "ab498803",
   "metadata": {},
   "source": [
    "#### 10. Age히스토그램"
   ]
  },
  {
   "cell_type": "code",
   "execution_count": 33,
   "id": "9a2abcb6",
   "metadata": {},
   "outputs": [
    {
     "data": {
      "text/plain": [
       "<AxesSubplot:ylabel='Frequency'>"
      ]
     },
     "execution_count": 33,
     "metadata": {},
     "output_type": "execute_result"
    },
    {
     "data": {
      "image/png": "[encoded data removed]",
      "text/plain": [
       "<Figure size 432x288 with 1 Axes>"
      ]
     },
     "metadata": {
      "needs_background": "light"
     },
     "output_type": "display_data"
    }
   ],
   "source": [
    "train['Age'].plot(kind='hist', bins=15)    # hist=history, bins=15개 구간으로 나눈다."
   ]
  },
  {
   "cell_type": "markdown",
   "id": "3b772cc4",
   "metadata": {},
   "source": [
    "#### 11. Age 커널밀도추정 그래프"
   ]
  },
  {
   "cell_type": "code",
   "execution_count": 34,
   "id": "9029a9a2",
   "metadata": {},
   "outputs": [
    {
     "data": {
      "text/plain": [
       "<AxesSubplot:xlabel='Age', ylabel='Density'>"
      ]
     },
     "execution_count": 34,
     "metadata": {},
     "output_type": "execute_result"
    },
    {
     "data": {
      "image/png": "[encoded data removed]",
      "text/plain": [
       "<Figure size 432x288 with 1 Axes>"
      ]
     },
     "metadata": {
      "needs_background": "light"
     },
     "output_type": "display_data"
    }
   ],
   "source": [
    "sns.kdeplot(train['Age'])  # 정규분포를 이용함. 밀집도를 추정해서 보여준다."
   ]
  },
  {
   "cell_type": "markdown",
   "id": "cc8b93bc",
   "metadata": {},
   "source": [
    "#### 12. Fare boxplot"
   ]
  },
  {
   "cell_type": "code",
   "execution_count": 35,
   "id": "32f8e558",
   "metadata": {},
   "outputs": [
    {
     "data": {
      "text/plain": [
       "<AxesSubplot:>"
      ]
     },
     "execution_count": 35,
     "metadata": {},
     "output_type": "execute_result"
    },
    {
     "data": {
      "image/png": "[encoded data removed]",
      "text/plain": [
       "<Figure size 432x288 with 1 Axes>"
      ]
     },
     "metadata": {
      "needs_background": "light"
     },
     "output_type": "display_data"
    }
   ],
   "source": [
    "train['Fare'].plot(kind='box')"
   ]
  },
  {
   "cell_type": "markdown",
   "id": "a8873e08",
   "metadata": {},
   "source": [
    "#### 13. Age 와 Survived, Sex를 결합한 시각화\n",
    "- violin plot"
   ]
  },
  {
   "cell_type": "code",
   "execution_count": 36,
   "id": "ab6af374",
   "metadata": {},
   "outputs": [
    {
     "data": {
      "text/plain": [
       "<AxesSubplot:xlabel='Sex', ylabel='Age'>"
      ]
     },
     "execution_count": 36,
     "metadata": {},
     "output_type": "execute_result"
    },
    {
     "data": {
      "image/png": "[encoded data removed]",
      "text/plain": [
       "<Figure size 1080x360 with 1 Axes>"
      ]
     },
     "metadata": {
      "needs_background": "light"
     },
     "output_type": "display_data"
    }
   ],
   "source": [
    "plt.figure(figsize=(15,5)) # 그림 크기 설정\n",
    "sns.violinplot(data=train, # 사용할 데이터\n",
    "               x='Sex', # x축 컬럼\n",
    "               y='Age', # y축 컬럼(KDE)\n",
    "               hue='Survived', # 데이터를 분리할 컬럼\n",
    "               split=True) # 분리된거를 절반으로 쪼개서 병합"
   ]
  },
  {
   "cell_type": "markdown",
   "id": "0615282c",
   "metadata": {},
   "source": [
    "- 나이가 10살 미만인 친구들 중에는 남자아이가 살 확률이 높다. \n",
    "- 성별과 나이가 함께 학습되면 도움이 될 수 있다. "
   ]
  },
  {
   "cell_type": "markdown",
   "id": "49c440bb",
   "metadata": {},
   "source": [
    "#### 특성공학"
   ]
  },
  {
   "cell_type": "markdown",
   "id": "ac4c461b",
   "metadata": {},
   "source": [
    "##### 14. 파생변수(새로운 feature) 생성\n",
    "- Parch, SibSp를 합쳐서 가족이라는 컬럼을 만들자."
   ]
  },
  {
   "cell_type": "code",
   "execution_count": 37,
   "id": "909442de",
   "metadata": {},
   "outputs": [
    {
     "data": {
      "text/plain": [
       "<AxesSubplot:xlabel='Parch', ylabel='count'>"
      ]
     },
     "execution_count": 37,
     "metadata": {},
     "output_type": "execute_result"
    },
    {
     "data": {
      "image/png": "[encoded data removed]",
      "text/plain": [
       "<Figure size 432x288 with 1 Axes>"
      ]
     },
     "metadata": {
      "needs_background": "light"
     },
     "output_type": "display_data"
    }
   ],
   "source": [
    "# parch 시각화\n",
    "sns.countplot(data=train, x='Parch', hue='Survived')"
   ]
  },
  {
   "cell_type": "code",
   "execution_count": 38,
   "id": "4a945c1d",
   "metadata": {},
   "outputs": [
    {
     "data": {
      "text/plain": [
       "<AxesSubplot:xlabel='SibSp', ylabel='count'>"
      ]
     },
     "execution_count": 38,
     "metadata": {},
     "output_type": "execute_result"
    },
    {
     "data": {
      "image/png": "[encoded data removed]",
      "text/plain": [
       "<Figure size 432x288 with 1 Axes>"
      ]
     },
     "metadata": {
      "needs_background": "light"
     },
     "output_type": "display_data"
    }
   ],
   "source": [
    "# SibSp시각화\n",
    "sns.countplot(data=train, x='SibSp', hue='Survived')"
   ]
  },
  {
   "cell_type": "code",
   "execution_count": 39,
   "id": "369d82bd",
   "metadata": {},
   "outputs": [],
   "source": [
    "train['Family'] = train['Parch']+train['SibSp']"
   ]
  },
  {
   "cell_type": "code",
   "execution_count": 40,
   "id": "721943c2",
   "metadata": {},
   "outputs": [
    {
     "data": {
      "text/plain": [
       "<AxesSubplot:xlabel='Family', ylabel='count'>"
      ]
     },
     "execution_count": 40,
     "metadata": {},
     "output_type": "execute_result"
    },
    {
     "data": {
      "image/png": "[encoded data removed]",
      "text/plain": [
       "<Figure size 432x288 with 1 Axes>"
      ]
     },
     "metadata": {
      "needs_background": "light"
     },
     "output_type": "display_data"
    }
   ],
   "source": [
    "# Family\n",
    "sns.countplot(data=train, x='Family', hue='Survived')"
   ]
  },
  {
   "cell_type": "markdown",
   "id": "96e90e05",
   "metadata": {},
   "source": [
    "- 혼자 탑승한 사람은 죽은 사람의 비율 높다. \n",
    "- 1~3명의 가족이 있으면 산 사람의 비율이 살짝 높다. \n",
    "- 4명이상의 가족이 있으면 죽은 사람의 비율이 살짝 높다. \n",
    "- binning(구간화) 작업을 통해 Family컬럼을 범주형으로 변경해보자."
   ]
  },
  {
   "cell_type": "markdown",
   "id": "24ad9234",
   "metadata": {},
   "source": [
    "##### 15. binning(수치형 -> 범주형)\n",
    "- Family 컬럼을 Family_cut 컬럼으로 만들어보자.\n",
    "- 범주의 종류(Alone, Small, Large)"
   ]
  },
  {
   "cell_type": "code",
   "execution_count": 41,
   "id": "c6147d2e",
   "metadata": {},
   "outputs": [],
   "source": [
    "bins= [-1,0,3,20]\n",
    "cat= [\"Alone\",\"Small\",\"Large\"]"
   ]
  },
  {
   "cell_type": "code",
   "execution_count": 42,
   "id": "e67bbe6e",
   "metadata": {},
   "outputs": [
    {
     "data": {
      "text/plain": [
       "PassengerId\n",
       "1      Small\n",
       "2      Small\n",
       "3      Alone\n",
       "4      Small\n",
       "5      Alone\n",
       "       ...  \n",
       "887    Alone\n",
       "888    Alone\n",
       "889    Small\n",
       "890    Alone\n",
       "891    Alone\n",
       "Name: Family, Length: 891, dtype: category\n",
       "Categories (3, object): ['Alone' < 'Small' < 'Large']"
      ]
     },
     "execution_count": 42,
     "metadata": {},
     "output_type": "execute_result"
    }
   ],
   "source": [
    "Family_cut=pd.cut(train['Family'], bins=bins, labels=cat)\n",
    "Family_cut"
   ]
  },
  {
   "cell_type": "code",
   "execution_count": 43,
   "id": "557add1a",
   "metadata": {},
   "outputs": [],
   "source": [
    "train[\"Family_cut\"] = Family_cut"
   ]
  },
  {
   "cell_type": "code",
   "execution_count": 44,
   "id": "8f289e43",
   "metadata": {},
   "outputs": [],
   "source": [
    "# test 데이터 적용\n",
    "test['Family'] = test['Parch'] + test['SibSp']\n",
    "Family_cut_test=pd.cut(test['Family'], bins=bins, labels=cat)\n",
    "test['Family_cut'] =Family_cut_test"
   ]
  },
  {
   "cell_type": "markdown",
   "id": "f2e34d40",
   "metadata": {},
   "source": [
    "##### 16. Name 컬럼 다루기\n",
    "- 이름 중간에 호칭을 추출해 Title이라는 컬럼을 만들어보자."
   ]
  },
  {
   "cell_type": "code",
   "execution_count": 45,
   "id": "fbdf0a2f",
   "metadata": {},
   "outputs": [
    {
     "data": {
      "text/plain": [
       "PassengerId\n",
       "1                                Braund, Mr. Owen Harris\n",
       "2      Cumings, Mrs. John Bradley (Florence Briggs Th...\n",
       "3                                 Heikkinen, Miss. Laina\n",
       "4           Futrelle, Mrs. Jacques Heath (Lily May Peel)\n",
       "5                               Allen, Mr. William Henry\n",
       "                             ...                        \n",
       "887                                Montvila, Rev. Juozas\n",
       "888                         Graham, Miss. Margaret Edith\n",
       "889             Johnston, Miss. Catherine Helen \"Carrie\"\n",
       "890                                Behr, Mr. Karl Howell\n",
       "891                                  Dooley, Mr. Patrick\n",
       "Name: Name, Length: 891, dtype: object"
      ]
     },
     "execution_count": 45,
     "metadata": {},
     "output_type": "execute_result"
    }
   ],
   "source": [
    "train['Name']"
   ]
  },
  {
   "cell_type": "code",
   "execution_count": 46,
   "id": "30c748d9",
   "metadata": {},
   "outputs": [],
   "source": [
    "#Title=train['Name'].str.split(\".\", expand=True)\n",
    "#Title =Title[0].str.split(\",\", expand=True)\n",
    "#Title = Title[1]\n",
    "#train[Title] =Title\n",
    "\n",
    "train['Title']=train['Name'].str.split(\",\").str[1].str.split(\".\").str[0].str.strip()"
   ]
  },
  {
   "cell_type": "code",
   "execution_count": 47,
   "id": "59a318ed",
   "metadata": {},
   "outputs": [],
   "source": [
    "# test 데이터 적용\n",
    "test['Title']=test['Name'].str.split(\",\").str[1].str.split(\".\").str[0].str.strip()"
   ]
  },
  {
   "cell_type": "code",
   "execution_count": 48,
   "id": "85178187",
   "metadata": {},
   "outputs": [
    {
     "data": {
      "text/plain": [
       "array(['Mr', 'Mrs', 'Miss', 'Master', 'Don', 'Rev', 'Dr', 'Mme', 'Ms',\n",
       "       'Major', 'Lady', 'Sir', 'Mlle', 'Col', 'Capt', 'the Countess',\n",
       "       'Jonkheer'], dtype=object)"
      ]
     },
     "execution_count": 48,
     "metadata": {},
     "output_type": "execute_result"
    }
   ],
   "source": [
    "# 호칭 종류 정리하기\n",
    "train['Title'].unique()"
   ]
  },
  {
   "cell_type": "code",
   "execution_count": 49,
   "id": "3375c14d",
   "metadata": {},
   "outputs": [
    {
     "data": {
      "text/plain": [
       "Mr              517\n",
       "Miss            182\n",
       "Mrs             125\n",
       "Master           40\n",
       "Dr                7\n",
       "Rev               6\n",
       "Mlle              2\n",
       "Major             2\n",
       "Col               2\n",
       "the Countess      1\n",
       "Capt              1\n",
       "Ms                1\n",
       "Sir               1\n",
       "Lady              1\n",
       "Mme               1\n",
       "Don               1\n",
       "Jonkheer          1\n",
       "Name: Title, dtype: int64"
      ]
     },
     "execution_count": 49,
     "metadata": {},
     "output_type": "execute_result"
    }
   ],
   "source": [
    "# Mr, Miss, Mrs, Master, Other 으로 통합하자\n",
    "title_vc = train['Title'].value_counts()\n",
    "title_vc"
   ]
  },
  {
   "cell_type": "code",
   "execution_count": 50,
   "id": "9b227f1b",
   "metadata": {},
   "outputs": [
    {
     "data": {
      "text/plain": [
       "['Other',\n",
       " 'Other',\n",
       " 'Other',\n",
       " 'Other',\n",
       " 'Other',\n",
       " 'Other',\n",
       " 'Other',\n",
       " 'Other',\n",
       " 'Other',\n",
       " 'Other',\n",
       " 'Other',\n",
       " 'Other',\n",
       " 'Other']"
      ]
     },
     "execution_count": 50,
     "metadata": {},
     "output_type": "execute_result"
    }
   ],
   "source": [
    "(['Other']*(len(title_vc.index)-4))"
   ]
  },
  {
   "cell_type": "code",
   "execution_count": 51,
   "id": "dfaf122e",
   "metadata": {},
   "outputs": [],
   "source": [
    "# map 함수 이용\n",
    "title_dict = dict(zip(title_vc.index,['Mr','Miss','Mrs','Master']+(['Other']*(len(title_vc.index)-4))))"
   ]
  },
  {
   "cell_type": "code",
   "execution_count": 52,
   "id": "36746c18",
   "metadata": {},
   "outputs": [
    {
     "data": {
      "text/plain": [
       "array(['Mr', 'Mrs', 'Miss', 'Master', 'Other'], dtype=object)"
      ]
     },
     "execution_count": 52,
     "metadata": {},
     "output_type": "execute_result"
    }
   ],
   "source": [
    "train['Title']=train['Title'].map(title_dict)\n",
    "train['Title'].unique()"
   ]
  },
  {
   "cell_type": "code",
   "execution_count": 53,
   "id": "1d60181c",
   "metadata": {},
   "outputs": [
    {
     "data": {
      "text/plain": [
       "array(['Mr', 'Mrs', 'Miss', 'Master', 'Other'], dtype=object)"
      ]
     },
     "execution_count": 53,
     "metadata": {},
     "output_type": "execute_result"
    }
   ],
   "source": [
    "# test에 적용\n",
    "title_vc_test = test['Title'].value_counts()\n",
    "title_dict_test = dict(zip(title_vc_test.index,['Mr','Miss','Mrs','Master']+(['Other']*(len(title_vc_test.index)-4))))\n",
    "test['Title']=test['Title'].map(title_dict_test)\n",
    "test['Title'].unique()"
   ]
  },
  {
   "cell_type": "markdown",
   "id": "05e9946e",
   "metadata": {},
   "source": [
    "##### 17. 인코딩(글자타입->숫자타입)처리"
   ]
  },
  {
   "cell_type": "code",
   "execution_count": 54,
   "id": "f5ef2f87",
   "metadata": {},
   "outputs": [
    {
     "data": {
      "text/plain": [
       "Index(['Survived', 'Pclass', 'Name', 'Sex', 'Age', 'SibSp', 'Parch', 'Ticket',\n",
       "       'Fare', 'Cabin', 'Embarked', 'Dead', 'Family', 'Family_cut', 'Title'],\n",
       "      dtype='object')"
      ]
     },
     "execution_count": 54,
     "metadata": {},
     "output_type": "execute_result"
    }
   ],
   "source": [
    "# 컬럼이름 정리\n",
    "train.columns "
   ]
  },
  {
   "cell_type": "code",
   "execution_count": 55,
   "id": "3f7d2448",
   "metadata": {},
   "outputs": [],
   "source": [
    "feature_names = ['Sex','Cabin','Embarked','Family_cut','Title']"
   ]
  },
  {
   "cell_type": "code",
   "execution_count": 56,
   "id": "23c02623",
   "metadata": {},
   "outputs": [
    {
     "data": {
      "text/html": [
       "<div>\n",
       "<style scoped>\n",
       "    .dataframe tbody tr th:only-of-type {\n",
       "        vertical-align: middle;\n",
       "    }\n",
       "\n",
       "    .dataframe tbody tr th {\n",
       "        vertical-align: top;\n",
       "    }\n",
       "\n",
       "    .dataframe thead th {\n",
       "        text-align: right;\n",
       "    }\n",
       "</style>\n",
       "<table border=\"1\" class=\"dataframe\">\n",
       "  <thead>\n",
       "    <tr style=\"text-align: right;\">\n",
       "      <th></th>\n",
       "      <th>Sex_female</th>\n",
       "      <th>Sex_male</th>\n",
       "      <th>Cabin_A</th>\n",
       "      <th>Cabin_B</th>\n",
       "      <th>Cabin_C</th>\n",
       "      <th>Cabin_D</th>\n",
       "      <th>Cabin_E</th>\n",
       "      <th>Cabin_F</th>\n",
       "      <th>Cabin_G</th>\n",
       "      <th>Cabin_M</th>\n",
       "      <th>...</th>\n",
       "      <th>Embarked_Q</th>\n",
       "      <th>Embarked_S</th>\n",
       "      <th>Family_cut_Alone</th>\n",
       "      <th>Family_cut_Small</th>\n",
       "      <th>Family_cut_Large</th>\n",
       "      <th>Title_Master</th>\n",
       "      <th>Title_Miss</th>\n",
       "      <th>Title_Mr</th>\n",
       "      <th>Title_Mrs</th>\n",
       "      <th>Title_Other</th>\n",
       "    </tr>\n",
       "    <tr>\n",
       "      <th>PassengerId</th>\n",
       "      <th></th>\n",
       "      <th></th>\n",
       "      <th></th>\n",
       "      <th></th>\n",
       "      <th></th>\n",
       "      <th></th>\n",
       "      <th></th>\n",
       "      <th></th>\n",
       "      <th></th>\n",
       "      <th></th>\n",
       "      <th></th>\n",
       "      <th></th>\n",
       "      <th></th>\n",
       "      <th></th>\n",
       "      <th></th>\n",
       "      <th></th>\n",
       "      <th></th>\n",
       "      <th></th>\n",
       "      <th></th>\n",
       "      <th></th>\n",
       "      <th></th>\n",
       "    </tr>\n",
       "  </thead>\n",
       "  <tbody>\n",
       "    <tr>\n",
       "      <th>1</th>\n",
       "      <td>0</td>\n",
       "      <td>1</td>\n",
       "      <td>0</td>\n",
       "      <td>0</td>\n",
       "      <td>0</td>\n",
       "      <td>0</td>\n",
       "      <td>0</td>\n",
       "      <td>0</td>\n",
       "      <td>0</td>\n",
       "      <td>1</td>\n",
       "      <td>...</td>\n",
       "      <td>0</td>\n",
       "      <td>1</td>\n",
       "      <td>0</td>\n",
       "      <td>1</td>\n",
       "      <td>0</td>\n",
       "      <td>0</td>\n",
       "      <td>0</td>\n",
       "      <td>1</td>\n",
       "      <td>0</td>\n",
       "      <td>0</td>\n",
       "    </tr>\n",
       "    <tr>\n",
       "      <th>2</th>\n",
       "      <td>1</td>\n",
       "      <td>0</td>\n",
       "      <td>0</td>\n",
       "      <td>0</td>\n",
       "      <td>1</td>\n",
       "      <td>0</td>\n",
       "      <td>0</td>\n",
       "      <td>0</td>\n",
       "      <td>0</td>\n",
       "      <td>0</td>\n",
       "      <td>...</td>\n",
       "      <td>0</td>\n",
       "      <td>0</td>\n",
       "      <td>0</td>\n",
       "      <td>1</td>\n",
       "      <td>0</td>\n",
       "      <td>0</td>\n",
       "      <td>0</td>\n",
       "      <td>0</td>\n",
       "      <td>1</td>\n",
       "      <td>0</td>\n",
       "    </tr>\n",
       "    <tr>\n",
       "      <th>3</th>\n",
       "      <td>1</td>\n",
       "      <td>0</td>\n",
       "      <td>0</td>\n",
       "      <td>0</td>\n",
       "      <td>0</td>\n",
       "      <td>0</td>\n",
       "      <td>0</td>\n",
       "      <td>0</td>\n",
       "      <td>0</td>\n",
       "      <td>1</td>\n",
       "      <td>...</td>\n",
       "      <td>0</td>\n",
       "      <td>1</td>\n",
       "      <td>1</td>\n",
       "      <td>0</td>\n",
       "      <td>0</td>\n",
       "      <td>0</td>\n",
       "      <td>1</td>\n",
       "      <td>0</td>\n",
       "      <td>0</td>\n",
       "      <td>0</td>\n",
       "    </tr>\n",
       "    <tr>\n",
       "      <th>4</th>\n",
       "      <td>1</td>\n",
       "      <td>0</td>\n",
       "      <td>0</td>\n",
       "      <td>0</td>\n",
       "      <td>1</td>\n",
       "      <td>0</td>\n",
       "      <td>0</td>\n",
       "      <td>0</td>\n",
       "      <td>0</td>\n",
       "      <td>0</td>\n",
       "      <td>...</td>\n",
       "      <td>0</td>\n",
       "      <td>1</td>\n",
       "      <td>0</td>\n",
       "      <td>1</td>\n",
       "      <td>0</td>\n",
       "      <td>0</td>\n",
       "      <td>0</td>\n",
       "      <td>0</td>\n",
       "      <td>1</td>\n",
       "      <td>0</td>\n",
       "    </tr>\n",
       "    <tr>\n",
       "      <th>5</th>\n",
       "      <td>0</td>\n",
       "      <td>1</td>\n",
       "      <td>0</td>\n",
       "      <td>0</td>\n",
       "      <td>0</td>\n",
       "      <td>0</td>\n",
       "      <td>0</td>\n",
       "      <td>0</td>\n",
       "      <td>0</td>\n",
       "      <td>1</td>\n",
       "      <td>...</td>\n",
       "      <td>0</td>\n",
       "      <td>1</td>\n",
       "      <td>1</td>\n",
       "      <td>0</td>\n",
       "      <td>0</td>\n",
       "      <td>0</td>\n",
       "      <td>0</td>\n",
       "      <td>1</td>\n",
       "      <td>0</td>\n",
       "      <td>0</td>\n",
       "    </tr>\n",
       "    <tr>\n",
       "      <th>...</th>\n",
       "      <td>...</td>\n",
       "      <td>...</td>\n",
       "      <td>...</td>\n",
       "      <td>...</td>\n",
       "      <td>...</td>\n",
       "      <td>...</td>\n",
       "      <td>...</td>\n",
       "      <td>...</td>\n",
       "      <td>...</td>\n",
       "      <td>...</td>\n",
       "      <td>...</td>\n",
       "      <td>...</td>\n",
       "      <td>...</td>\n",
       "      <td>...</td>\n",
       "      <td>...</td>\n",
       "      <td>...</td>\n",
       "      <td>...</td>\n",
       "      <td>...</td>\n",
       "      <td>...</td>\n",
       "      <td>...</td>\n",
       "      <td>...</td>\n",
       "    </tr>\n",
       "    <tr>\n",
       "      <th>887</th>\n",
       "      <td>0</td>\n",
       "      <td>1</td>\n",
       "      <td>0</td>\n",
       "      <td>0</td>\n",
       "      <td>0</td>\n",
       "      <td>0</td>\n",
       "      <td>0</td>\n",
       "      <td>0</td>\n",
       "      <td>0</td>\n",
       "      <td>1</td>\n",
       "      <td>...</td>\n",
       "      <td>0</td>\n",
       "      <td>1</td>\n",
       "      <td>1</td>\n",
       "      <td>0</td>\n",
       "      <td>0</td>\n",
       "      <td>0</td>\n",
       "      <td>0</td>\n",
       "      <td>0</td>\n",
       "      <td>0</td>\n",
       "      <td>1</td>\n",
       "    </tr>\n",
       "    <tr>\n",
       "      <th>888</th>\n",
       "      <td>1</td>\n",
       "      <td>0</td>\n",
       "      <td>0</td>\n",
       "      <td>1</td>\n",
       "      <td>0</td>\n",
       "      <td>0</td>\n",
       "      <td>0</td>\n",
       "      <td>0</td>\n",
       "      <td>0</td>\n",
       "      <td>0</td>\n",
       "      <td>...</td>\n",
       "      <td>0</td>\n",
       "      <td>1</td>\n",
       "      <td>1</td>\n",
       "      <td>0</td>\n",
       "      <td>0</td>\n",
       "      <td>0</td>\n",
       "      <td>1</td>\n",
       "      <td>0</td>\n",
       "      <td>0</td>\n",
       "      <td>0</td>\n",
       "    </tr>\n",
       "    <tr>\n",
       "      <th>889</th>\n",
       "      <td>1</td>\n",
       "      <td>0</td>\n",
       "      <td>0</td>\n",
       "      <td>0</td>\n",
       "      <td>0</td>\n",
       "      <td>0</td>\n",
       "      <td>0</td>\n",
       "      <td>0</td>\n",
       "      <td>0</td>\n",
       "      <td>1</td>\n",
       "      <td>...</td>\n",
       "      <td>0</td>\n",
       "      <td>1</td>\n",
       "      <td>0</td>\n",
       "      <td>1</td>\n",
       "      <td>0</td>\n",
       "      <td>0</td>\n",
       "      <td>1</td>\n",
       "      <td>0</td>\n",
       "      <td>0</td>\n",
       "      <td>0</td>\n",
       "    </tr>\n",
       "    <tr>\n",
       "      <th>890</th>\n",
       "      <td>0</td>\n",
       "      <td>1</td>\n",
       "      <td>0</td>\n",
       "      <td>0</td>\n",
       "      <td>1</td>\n",
       "      <td>0</td>\n",
       "      <td>0</td>\n",
       "      <td>0</td>\n",
       "      <td>0</td>\n",
       "      <td>0</td>\n",
       "      <td>...</td>\n",
       "      <td>0</td>\n",
       "      <td>0</td>\n",
       "      <td>1</td>\n",
       "      <td>0</td>\n",
       "      <td>0</td>\n",
       "      <td>0</td>\n",
       "      <td>0</td>\n",
       "      <td>1</td>\n",
       "      <td>0</td>\n",
       "      <td>0</td>\n",
       "    </tr>\n",
       "    <tr>\n",
       "      <th>891</th>\n",
       "      <td>0</td>\n",
       "      <td>1</td>\n",
       "      <td>0</td>\n",
       "      <td>0</td>\n",
       "      <td>0</td>\n",
       "      <td>0</td>\n",
       "      <td>0</td>\n",
       "      <td>0</td>\n",
       "      <td>0</td>\n",
       "      <td>1</td>\n",
       "      <td>...</td>\n",
       "      <td>1</td>\n",
       "      <td>0</td>\n",
       "      <td>1</td>\n",
       "      <td>0</td>\n",
       "      <td>0</td>\n",
       "      <td>0</td>\n",
       "      <td>0</td>\n",
       "      <td>1</td>\n",
       "      <td>0</td>\n",
       "      <td>0</td>\n",
       "    </tr>\n",
       "  </tbody>\n",
       "</table>\n",
       "<p>891 rows × 22 columns</p>\n",
       "</div>"
      ],
      "text/plain": [
       "             Sex_female  Sex_male  Cabin_A  Cabin_B  Cabin_C  Cabin_D  \\\n",
       "PassengerId                                                             \n",
       "1                     0         1        0        0        0        0   \n",
       "2                     1         0        0        0        1        0   \n",
       "3                     1         0        0        0        0        0   \n",
       "4                     1         0        0        0        1        0   \n",
       "5                     0         1        0        0        0        0   \n",
       "...                 ...       ...      ...      ...      ...      ...   \n",
       "887                   0         1        0        0        0        0   \n",
       "888                   1         0        0        1        0        0   \n",
       "889                   1         0        0        0        0        0   \n",
       "890                   0         1        0        0        1        0   \n",
       "891                   0         1        0        0        0        0   \n",
       "\n",
       "             Cabin_E  Cabin_F  Cabin_G  Cabin_M  ...  Embarked_Q  Embarked_S  \\\n",
       "PassengerId                                      ...                           \n",
       "1                  0        0        0        1  ...           0           1   \n",
       "2                  0        0        0        0  ...           0           0   \n",
       "3                  0        0        0        1  ...           0           1   \n",
       "4                  0        0        0        0  ...           0           1   \n",
       "5                  0        0        0        1  ...           0           1   \n",
       "...              ...      ...      ...      ...  ...         ...         ...   \n",
       "887                0        0        0        1  ...           0           1   \n",
       "888                0        0        0        0  ...           0           1   \n",
       "889                0        0        0        1  ...           0           1   \n",
       "890                0        0        0        0  ...           0           0   \n",
       "891                0        0        0        1  ...           1           0   \n",
       "\n",
       "             Family_cut_Alone  Family_cut_Small  Family_cut_Large  \\\n",
       "PassengerId                                                         \n",
       "1                           0                 1                 0   \n",
       "2                           0                 1                 0   \n",
       "3                           1                 0                 0   \n",
       "4                           0                 1                 0   \n",
       "5                           1                 0                 0   \n",
       "...                       ...               ...               ...   \n",
       "887                         1                 0                 0   \n",
       "888                         1                 0                 0   \n",
       "889                         0                 1                 0   \n",
       "890                         1                 0                 0   \n",
       "891                         1                 0                 0   \n",
       "\n",
       "             Title_Master  Title_Miss  Title_Mr  Title_Mrs  Title_Other  \n",
       "PassengerId                                                              \n",
       "1                       0           0         1          0            0  \n",
       "2                       0           0         0          1            0  \n",
       "3                       0           1         0          0            0  \n",
       "4                       0           0         0          1            0  \n",
       "5                       0           0         1          0            0  \n",
       "...                   ...         ...       ...        ...          ...  \n",
       "887                     0           0         0          0            1  \n",
       "888                     0           1         0          0            0  \n",
       "889                     0           1         0          0            0  \n",
       "890                     0           0         1          0            0  \n",
       "891                     0           0         1          0            0  \n",
       "\n",
       "[891 rows x 22 columns]"
      ]
     },
     "execution_count": 56,
     "metadata": {},
     "output_type": "execute_result"
    }
   ],
   "source": [
    "train_one_hot = pd.get_dummies(train[feature_names])\n",
    "train_one_hot"
   ]
  },
  {
   "cell_type": "code",
   "execution_count": 57,
   "id": "daa10d34",
   "metadata": {},
   "outputs": [
    {
     "data": {
      "text/html": [
       "<div>\n",
       "<style scoped>\n",
       "    .dataframe tbody tr th:only-of-type {\n",
       "        vertical-align: middle;\n",
       "    }\n",
       "\n",
       "    .dataframe tbody tr th {\n",
       "        vertical-align: top;\n",
       "    }\n",
       "\n",
       "    .dataframe thead th {\n",
       "        text-align: right;\n",
       "    }\n",
       "</style>\n",
       "<table border=\"1\" class=\"dataframe\">\n",
       "  <thead>\n",
       "    <tr style=\"text-align: right;\">\n",
       "      <th></th>\n",
       "      <th>Sex_female</th>\n",
       "      <th>Sex_male</th>\n",
       "      <th>Cabin_A</th>\n",
       "      <th>Cabin_B</th>\n",
       "      <th>Cabin_C</th>\n",
       "      <th>Cabin_D</th>\n",
       "      <th>Cabin_E</th>\n",
       "      <th>Cabin_F</th>\n",
       "      <th>Cabin_G</th>\n",
       "      <th>Cabin_M</th>\n",
       "      <th>...</th>\n",
       "      <th>Embarked_Q</th>\n",
       "      <th>Embarked_S</th>\n",
       "      <th>Family_cut_Alone</th>\n",
       "      <th>Family_cut_Small</th>\n",
       "      <th>Family_cut_Large</th>\n",
       "      <th>Title_Master</th>\n",
       "      <th>Title_Miss</th>\n",
       "      <th>Title_Mr</th>\n",
       "      <th>Title_Mrs</th>\n",
       "      <th>Title_Other</th>\n",
       "    </tr>\n",
       "    <tr>\n",
       "      <th>PassengerId</th>\n",
       "      <th></th>\n",
       "      <th></th>\n",
       "      <th></th>\n",
       "      <th></th>\n",
       "      <th></th>\n",
       "      <th></th>\n",
       "      <th></th>\n",
       "      <th></th>\n",
       "      <th></th>\n",
       "      <th></th>\n",
       "      <th></th>\n",
       "      <th></th>\n",
       "      <th></th>\n",
       "      <th></th>\n",
       "      <th></th>\n",
       "      <th></th>\n",
       "      <th></th>\n",
       "      <th></th>\n",
       "      <th></th>\n",
       "      <th></th>\n",
       "      <th></th>\n",
       "    </tr>\n",
       "  </thead>\n",
       "  <tbody>\n",
       "    <tr>\n",
       "      <th>892</th>\n",
       "      <td>0</td>\n",
       "      <td>1</td>\n",
       "      <td>0</td>\n",
       "      <td>0</td>\n",
       "      <td>0</td>\n",
       "      <td>0</td>\n",
       "      <td>0</td>\n",
       "      <td>0</td>\n",
       "      <td>0</td>\n",
       "      <td>1</td>\n",
       "      <td>...</td>\n",
       "      <td>1</td>\n",
       "      <td>0</td>\n",
       "      <td>1</td>\n",
       "      <td>0</td>\n",
       "      <td>0</td>\n",
       "      <td>0</td>\n",
       "      <td>0</td>\n",
       "      <td>1</td>\n",
       "      <td>0</td>\n",
       "      <td>0</td>\n",
       "    </tr>\n",
       "    <tr>\n",
       "      <th>893</th>\n",
       "      <td>1</td>\n",
       "      <td>0</td>\n",
       "      <td>0</td>\n",
       "      <td>0</td>\n",
       "      <td>0</td>\n",
       "      <td>0</td>\n",
       "      <td>0</td>\n",
       "      <td>0</td>\n",
       "      <td>0</td>\n",
       "      <td>1</td>\n",
       "      <td>...</td>\n",
       "      <td>0</td>\n",
       "      <td>1</td>\n",
       "      <td>0</td>\n",
       "      <td>1</td>\n",
       "      <td>0</td>\n",
       "      <td>0</td>\n",
       "      <td>0</td>\n",
       "      <td>0</td>\n",
       "      <td>1</td>\n",
       "      <td>0</td>\n",
       "    </tr>\n",
       "    <tr>\n",
       "      <th>894</th>\n",
       "      <td>0</td>\n",
       "      <td>1</td>\n",
       "      <td>0</td>\n",
       "      <td>0</td>\n",
       "      <td>0</td>\n",
       "      <td>0</td>\n",
       "      <td>0</td>\n",
       "      <td>0</td>\n",
       "      <td>0</td>\n",
       "      <td>1</td>\n",
       "      <td>...</td>\n",
       "      <td>1</td>\n",
       "      <td>0</td>\n",
       "      <td>1</td>\n",
       "      <td>0</td>\n",
       "      <td>0</td>\n",
       "      <td>0</td>\n",
       "      <td>0</td>\n",
       "      <td>1</td>\n",
       "      <td>0</td>\n",
       "      <td>0</td>\n",
       "    </tr>\n",
       "    <tr>\n",
       "      <th>895</th>\n",
       "      <td>0</td>\n",
       "      <td>1</td>\n",
       "      <td>0</td>\n",
       "      <td>0</td>\n",
       "      <td>0</td>\n",
       "      <td>0</td>\n",
       "      <td>0</td>\n",
       "      <td>0</td>\n",
       "      <td>0</td>\n",
       "      <td>1</td>\n",
       "      <td>...</td>\n",
       "      <td>0</td>\n",
       "      <td>1</td>\n",
       "      <td>1</td>\n",
       "      <td>0</td>\n",
       "      <td>0</td>\n",
       "      <td>0</td>\n",
       "      <td>0</td>\n",
       "      <td>1</td>\n",
       "      <td>0</td>\n",
       "      <td>0</td>\n",
       "    </tr>\n",
       "    <tr>\n",
       "      <th>896</th>\n",
       "      <td>1</td>\n",
       "      <td>0</td>\n",
       "      <td>0</td>\n",
       "      <td>0</td>\n",
       "      <td>0</td>\n",
       "      <td>0</td>\n",
       "      <td>0</td>\n",
       "      <td>0</td>\n",
       "      <td>0</td>\n",
       "      <td>1</td>\n",
       "      <td>...</td>\n",
       "      <td>0</td>\n",
       "      <td>1</td>\n",
       "      <td>0</td>\n",
       "      <td>1</td>\n",
       "      <td>0</td>\n",
       "      <td>0</td>\n",
       "      <td>0</td>\n",
       "      <td>0</td>\n",
       "      <td>1</td>\n",
       "      <td>0</td>\n",
       "    </tr>\n",
       "    <tr>\n",
       "      <th>...</th>\n",
       "      <td>...</td>\n",
       "      <td>...</td>\n",
       "      <td>...</td>\n",
       "      <td>...</td>\n",
       "      <td>...</td>\n",
       "      <td>...</td>\n",
       "      <td>...</td>\n",
       "      <td>...</td>\n",
       "      <td>...</td>\n",
       "      <td>...</td>\n",
       "      <td>...</td>\n",
       "      <td>...</td>\n",
       "      <td>...</td>\n",
       "      <td>...</td>\n",
       "      <td>...</td>\n",
       "      <td>...</td>\n",
       "      <td>...</td>\n",
       "      <td>...</td>\n",
       "      <td>...</td>\n",
       "      <td>...</td>\n",
       "      <td>...</td>\n",
       "    </tr>\n",
       "    <tr>\n",
       "      <th>1305</th>\n",
       "      <td>0</td>\n",
       "      <td>1</td>\n",
       "      <td>0</td>\n",
       "      <td>0</td>\n",
       "      <td>0</td>\n",
       "      <td>0</td>\n",
       "      <td>0</td>\n",
       "      <td>0</td>\n",
       "      <td>0</td>\n",
       "      <td>1</td>\n",
       "      <td>...</td>\n",
       "      <td>0</td>\n",
       "      <td>1</td>\n",
       "      <td>1</td>\n",
       "      <td>0</td>\n",
       "      <td>0</td>\n",
       "      <td>0</td>\n",
       "      <td>0</td>\n",
       "      <td>1</td>\n",
       "      <td>0</td>\n",
       "      <td>0</td>\n",
       "    </tr>\n",
       "    <tr>\n",
       "      <th>1306</th>\n",
       "      <td>1</td>\n",
       "      <td>0</td>\n",
       "      <td>0</td>\n",
       "      <td>0</td>\n",
       "      <td>1</td>\n",
       "      <td>0</td>\n",
       "      <td>0</td>\n",
       "      <td>0</td>\n",
       "      <td>0</td>\n",
       "      <td>0</td>\n",
       "      <td>...</td>\n",
       "      <td>0</td>\n",
       "      <td>0</td>\n",
       "      <td>1</td>\n",
       "      <td>0</td>\n",
       "      <td>0</td>\n",
       "      <td>0</td>\n",
       "      <td>0</td>\n",
       "      <td>0</td>\n",
       "      <td>0</td>\n",
       "      <td>1</td>\n",
       "    </tr>\n",
       "    <tr>\n",
       "      <th>1307</th>\n",
       "      <td>0</td>\n",
       "      <td>1</td>\n",
       "      <td>0</td>\n",
       "      <td>0</td>\n",
       "      <td>0</td>\n",
       "      <td>0</td>\n",
       "      <td>0</td>\n",
       "      <td>0</td>\n",
       "      <td>0</td>\n",
       "      <td>1</td>\n",
       "      <td>...</td>\n",
       "      <td>0</td>\n",
       "      <td>1</td>\n",
       "      <td>1</td>\n",
       "      <td>0</td>\n",
       "      <td>0</td>\n",
       "      <td>0</td>\n",
       "      <td>0</td>\n",
       "      <td>1</td>\n",
       "      <td>0</td>\n",
       "      <td>0</td>\n",
       "    </tr>\n",
       "    <tr>\n",
       "      <th>1308</th>\n",
       "      <td>0</td>\n",
       "      <td>1</td>\n",
       "      <td>0</td>\n",
       "      <td>0</td>\n",
       "      <td>0</td>\n",
       "      <td>0</td>\n",
       "      <td>0</td>\n",
       "      <td>0</td>\n",
       "      <td>0</td>\n",
       "      <td>1</td>\n",
       "      <td>...</td>\n",
       "      <td>0</td>\n",
       "      <td>1</td>\n",
       "      <td>1</td>\n",
       "      <td>0</td>\n",
       "      <td>0</td>\n",
       "      <td>0</td>\n",
       "      <td>0</td>\n",
       "      <td>1</td>\n",
       "      <td>0</td>\n",
       "      <td>0</td>\n",
       "    </tr>\n",
       "    <tr>\n",
       "      <th>1309</th>\n",
       "      <td>0</td>\n",
       "      <td>1</td>\n",
       "      <td>0</td>\n",
       "      <td>0</td>\n",
       "      <td>0</td>\n",
       "      <td>0</td>\n",
       "      <td>0</td>\n",
       "      <td>0</td>\n",
       "      <td>0</td>\n",
       "      <td>1</td>\n",
       "      <td>...</td>\n",
       "      <td>0</td>\n",
       "      <td>0</td>\n",
       "      <td>0</td>\n",
       "      <td>1</td>\n",
       "      <td>0</td>\n",
       "      <td>1</td>\n",
       "      <td>0</td>\n",
       "      <td>0</td>\n",
       "      <td>0</td>\n",
       "      <td>0</td>\n",
       "    </tr>\n",
       "  </tbody>\n",
       "</table>\n",
       "<p>418 rows × 21 columns</p>\n",
       "</div>"
      ],
      "text/plain": [
       "             Sex_female  Sex_male  Cabin_A  Cabin_B  Cabin_C  Cabin_D  \\\n",
       "PassengerId                                                             \n",
       "892                   0         1        0        0        0        0   \n",
       "893                   1         0        0        0        0        0   \n",
       "894                   0         1        0        0        0        0   \n",
       "895                   0         1        0        0        0        0   \n",
       "896                   1         0        0        0        0        0   \n",
       "...                 ...       ...      ...      ...      ...      ...   \n",
       "1305                  0         1        0        0        0        0   \n",
       "1306                  1         0        0        0        1        0   \n",
       "1307                  0         1        0        0        0        0   \n",
       "1308                  0         1        0        0        0        0   \n",
       "1309                  0         1        0        0        0        0   \n",
       "\n",
       "             Cabin_E  Cabin_F  Cabin_G  Cabin_M  ...  Embarked_Q  Embarked_S  \\\n",
       "PassengerId                                      ...                           \n",
       "892                0        0        0        1  ...           1           0   \n",
       "893                0        0        0        1  ...           0           1   \n",
       "894                0        0        0        1  ...           1           0   \n",
       "895                0        0        0        1  ...           0           1   \n",
       "896                0        0        0        1  ...           0           1   \n",
       "...              ...      ...      ...      ...  ...         ...         ...   \n",
       "1305               0        0        0        1  ...           0           1   \n",
       "1306               0        0        0        0  ...           0           0   \n",
       "1307               0        0        0        1  ...           0           1   \n",
       "1308               0        0        0        1  ...           0           1   \n",
       "1309               0        0        0        1  ...           0           0   \n",
       "\n",
       "             Family_cut_Alone  Family_cut_Small  Family_cut_Large  \\\n",
       "PassengerId                                                         \n",
       "892                         1                 0                 0   \n",
       "893                         0                 1                 0   \n",
       "894                         1                 0                 0   \n",
       "895                         1                 0                 0   \n",
       "896                         0                 1                 0   \n",
       "...                       ...               ...               ...   \n",
       "1305                        1                 0                 0   \n",
       "1306                        1                 0                 0   \n",
       "1307                        1                 0                 0   \n",
       "1308                        1                 0                 0   \n",
       "1309                        0                 1                 0   \n",
       "\n",
       "             Title_Master  Title_Miss  Title_Mr  Title_Mrs  Title_Other  \n",
       "PassengerId                                                              \n",
       "892                     0           0         1          0            0  \n",
       "893                     0           0         0          1            0  \n",
       "894                     0           0         1          0            0  \n",
       "895                     0           0         1          0            0  \n",
       "896                     0           0         0          1            0  \n",
       "...                   ...         ...       ...        ...          ...  \n",
       "1305                    0           0         1          0            0  \n",
       "1306                    0           0         0          0            1  \n",
       "1307                    0           0         1          0            0  \n",
       "1308                    0           0         1          0            0  \n",
       "1309                    1           0         0          0            0  \n",
       "\n",
       "[418 rows x 21 columns]"
      ]
     },
     "execution_count": 57,
     "metadata": {},
     "output_type": "execute_result"
    }
   ],
   "source": [
    "# test처리\n",
    "test_one_hot = pd.get_dummies(test[feature_names])\n",
    "test_one_hot"
   ]
  },
  {
   "cell_type": "code",
   "execution_count": 58,
   "id": "4b614ce0",
   "metadata": {},
   "outputs": [],
   "source": [
    "train = pd.concat([train, train_one_hot], axis=1)\n",
    "test= pd.concat([test, test_one_hot], axis=1)"
   ]
  },
  {
   "cell_type": "markdown",
   "id": "f6ae267f",
   "metadata": {},
   "source": [
    "##### 18. 필요없는 컬럼 삭제 및 확인"
   ]
  },
  {
   "cell_type": "code",
   "execution_count": 59,
   "id": "310e2205",
   "metadata": {},
   "outputs": [
    {
     "data": {
      "text/plain": [
       "Index(['Survived', 'Pclass', 'Name', 'Sex', 'Age', 'SibSp', 'Parch', 'Ticket',\n",
       "       'Fare', 'Cabin', 'Embarked', 'Dead', 'Family', 'Family_cut', 'Title',\n",
       "       'Sex_female', 'Sex_male', 'Cabin_A', 'Cabin_B', 'Cabin_C', 'Cabin_D',\n",
       "       'Cabin_E', 'Cabin_F', 'Cabin_G', 'Cabin_M', 'Cabin_T', 'Embarked_C',\n",
       "       'Embarked_Q', 'Embarked_S', 'Family_cut_Alone', 'Family_cut_Small',\n",
       "       'Family_cut_Large', 'Title_Master', 'Title_Miss', 'Title_Mr',\n",
       "       'Title_Mrs', 'Title_Other'],\n",
       "      dtype='object')"
      ]
     },
     "execution_count": 59,
     "metadata": {},
     "output_type": "execute_result"
    }
   ],
   "source": [
    "train.columns"
   ]
  },
  {
   "cell_type": "code",
   "execution_count": 60,
   "id": "6280009f",
   "metadata": {},
   "outputs": [],
   "source": [
    "train.drop(['Name','Ticket','Dead']+feature_names, axis=1, inplace=True)"
   ]
  },
  {
   "cell_type": "code",
   "execution_count": 61,
   "id": "cdf17b9d",
   "metadata": {},
   "outputs": [],
   "source": [
    "test.drop(['Name','Ticket']+feature_names, axis=1, inplace=True)"
   ]
  },
  {
   "cell_type": "code",
   "execution_count": 62,
   "id": "f4eb1aeb",
   "metadata": {},
   "outputs": [
    {
     "data": {
      "text/plain": [
       "((891, 29), (418, 27))"
      ]
     },
     "execution_count": 62,
     "metadata": {},
     "output_type": "execute_result"
    }
   ],
   "source": [
    "train.shape, test.shape"
   ]
  },
  {
   "cell_type": "code",
   "execution_count": 63,
   "id": "99a7be5b",
   "metadata": {},
   "outputs": [
    {
     "data": {
      "text/plain": [
       "'train에는 있지만 test에는 없는 컬럼'"
      ]
     },
     "metadata": {},
     "output_type": "display_data"
    },
    {
     "data": {
      "text/plain": [
       "{'Cabin_T', 'Survived'}"
      ]
     },
     "metadata": {},
     "output_type": "display_data"
    },
    {
     "data": {
      "text/plain": [
       "'test에는 있지만 train에는 없는 컬럼'"
      ]
     },
     "metadata": {},
     "output_type": "display_data"
    },
    {
     "data": {
      "text/plain": [
       "set()"
      ]
     },
     "metadata": {},
     "output_type": "display_data"
    }
   ],
   "source": [
    "# 부족한 컬럼이 뭔지 확인\n",
    "display(\"train에는 있지만 test에는 없는 컬럼\")\n",
    "display(set(train.columns) - set(test.columns))\n",
    "\n",
    "display(\"test에는 있지만 train에는 없는 컬럼\")\n",
    "display(set(test.columns) - set(train.columns))"
   ]
  },
  {
   "cell_type": "code",
   "execution_count": 64,
   "id": "981c9ebc",
   "metadata": {},
   "outputs": [],
   "source": [
    "test['Cabin_T'] = 0"
   ]
  },
  {
   "cell_type": "code",
   "execution_count": 65,
   "id": "7bc4fd33",
   "metadata": {},
   "outputs": [
    {
     "data": {
      "text/plain": [
       "'train에는 있지만 test에는 없는 컬럼'"
      ]
     },
     "metadata": {},
     "output_type": "display_data"
    },
    {
     "data": {
      "text/plain": [
       "{'Survived'}"
      ]
     },
     "metadata": {},
     "output_type": "display_data"
    },
    {
     "data": {
      "text/plain": [
       "'test에는 있지만 train에는 없는 컬럼'"
      ]
     },
     "metadata": {},
     "output_type": "display_data"
    },
    {
     "data": {
      "text/plain": [
       "set()"
      ]
     },
     "metadata": {},
     "output_type": "display_data"
    }
   ],
   "source": [
    "# 부족한 컬럼이 뭔지 확인\n",
    "display(\"train에는 있지만 test에는 없는 컬럼\")\n",
    "display(set(train.columns) - set(test.columns))\n",
    "\n",
    "display(\"test에는 있지만 train에는 없는 컬럼\")\n",
    "display(set(test.columns) - set(train.columns))"
   ]
  },
  {
   "cell_type": "code",
   "execution_count": 66,
   "id": "f37557c2",
   "metadata": {},
   "outputs": [],
   "source": [
    "# 새로 추가한 Cabin_T때문에 test의 컬럼순서가 1칸씩 밀림.\n",
    "train.sort_index(axis=1, inplace=True)\n",
    "test.sort_index(axis=1, inplace=True)"
   ]
  },
  {
   "cell_type": "code",
   "execution_count": 67,
   "id": "5fb4356e",
   "metadata": {},
   "outputs": [
    {
     "data": {
      "text/plain": [
       "((891, 29), (418, 28))"
      ]
     },
     "execution_count": 67,
     "metadata": {},
     "output_type": "execute_result"
    }
   ],
   "source": [
    "train.shape, test.shape"
   ]
  },
  {
   "cell_type": "markdown",
   "id": "1c4f8010",
   "metadata": {},
   "source": [
    "### 5. 모델링(정의, 학습, 예측)"
   ]
  },
  {
   "cell_type": "code",
   "execution_count": 68,
   "id": "a60815e1",
   "metadata": {},
   "outputs": [],
   "source": [
    "# 모델 정의\n",
    "knn_model = KNeighborsClassifier()\n",
    "tree_model = DecisionTreeClassifier()"
   ]
  },
  {
   "cell_type": "code",
   "execution_count": 69,
   "id": "49ec6807",
   "metadata": {
    "scrolled": true
   },
   "outputs": [
    {
     "name": "stdout",
     "output_type": "stream",
     "text": [
      "<class 'pandas.core.frame.DataFrame'>\n",
      "Int64Index: 891 entries, 1 to 891\n",
      "Data columns (total 29 columns):\n",
      " #   Column            Non-Null Count  Dtype  \n",
      "---  ------            --------------  -----  \n",
      " 0   Age               891 non-null    float64\n",
      " 1   Cabin_A           891 non-null    uint8  \n",
      " 2   Cabin_B           891 non-null    uint8  \n",
      " 3   Cabin_C           891 non-null    uint8  \n",
      " 4   Cabin_D           891 non-null    uint8  \n",
      " 5   Cabin_E           891 non-null    uint8  \n",
      " 6   Cabin_F           891 non-null    uint8  \n",
      " 7   Cabin_G           891 non-null    uint8  \n",
      " 8   Cabin_M           891 non-null    uint8  \n",
      " 9   Cabin_T           891 non-null    uint8  \n",
      " 10  Embarked_C        891 non-null    uint8  \n",
      " 11  Embarked_Q        891 non-null    uint8  \n",
      " 12  Embarked_S        891 non-null    uint8  \n",
      " 13  Family            891 non-null    int64  \n",
      " 14  Family_cut_Alone  891 non-null    uint8  \n",
      " 15  Family_cut_Large  891 non-null    uint8  \n",
      " 16  Family_cut_Small  891 non-null    uint8  \n",
      " 17  Fare              891 non-null    float64\n",
      " 18  Parch             891 non-null    int64  \n",
      " 19  Pclass            891 non-null    int64  \n",
      " 20  Sex_female        891 non-null    uint8  \n",
      " 21  Sex_male          891 non-null    uint8  \n",
      " 22  SibSp             891 non-null    int64  \n",
      " 23  Survived          891 non-null    int64  \n",
      " 24  Title_Master      891 non-null    uint8  \n",
      " 25  Title_Miss        891 non-null    uint8  \n",
      " 26  Title_Mr          891 non-null    uint8  \n",
      " 27  Title_Mrs         891 non-null    uint8  \n",
      " 28  Title_Other       891 non-null    uint8  \n",
      "dtypes: float64(2), int64(5), uint8(22)\n",
      "memory usage: 74.8 KB\n"
     ]
    }
   ],
   "source": [
    "train.info()"
   ]
  },
  {
   "cell_type": "code",
   "execution_count": 70,
   "id": "21ceaffa",
   "metadata": {},
   "outputs": [],
   "source": [
    "# 모델 학습\n",
    "# 1. 문제와 정답 분리\n",
    "\n",
    "X_train= train.drop('Survived',axis=1)\n",
    "y_train= train['Survived']\n",
    "\n",
    "# 2. 훈련데이터를 8:2로 분리해서 train2, val 셋으로 구성\n",
    "# (randomstate = 921)\n",
    "\n",
    "X_train2, X_val, y_train2, y_val = train_test_split(X_train, y_train, random_state=921, test_size=0.2) \n"
   ]
  },
  {
   "cell_type": "code",
   "execution_count": 71,
   "id": "5bc1e0b0",
   "metadata": {},
   "outputs": [],
   "source": [
    "# 3-1. KNN모델 최적화\n",
    "train_score_list = [] # 훈련데이터 점수 리스트\n",
    "val_score_list = [] # 검증 데이터 점수 리스트\n",
    "for n in range(1,25) : # 이웃의 숫자를 1-24명 설정\n",
    "    m = KNeighborsClassifier(n_neighbors=n)\n",
    "    m.fit(X_train2, y_train2)\n",
    "    # 훈련데이터 예측 및 평가\n",
    "    pre_train = m.predict(X_train2)\n",
    "    score_train = accuracy_score(y_train2, pre_train)\n",
    "    train_score_list.append(score_train)\n",
    "    # 검증데이터 예측 및 평가\n",
    "    pre_val=m.predict(X_val)\n",
    "    score_val=accuracy_score(y_val, pre_val)\n",
    "    val_score_list.append(score_val)"
   ]
  },
  {
   "cell_type": "code",
   "execution_count": 72,
   "id": "5dc1e9f9",
   "metadata": {},
   "outputs": [
    {
     "data": {
      "image/png": "[encoded data removed]",
      "text/plain": [
       "<Figure size 1080x360 with 1 Axes>"
      ]
     },
     "metadata": {
      "needs_background": "light"
     },
     "output_type": "display_data"
    }
   ],
   "source": [
    "plt.figure(figsize=(15,5)) # 그림크기 설정 (가로,세로)\n",
    "plt.plot(range(1,25),train_score_list, label='train') # 라인1\n",
    "plt.plot(range(1,25),val_score_list, label='validation') # 라인2\n",
    "plt.xticks(range(1,25)) # x축 눈금\n",
    "plt.grid() # 배경 격자무늬\n",
    "plt.legend() # 범례\n",
    "plt.show() # 그림 보여주기"
   ]
  },
  {
   "cell_type": "code",
   "execution_count": 73,
   "id": "f90c2a35",
   "metadata": {},
   "outputs": [],
   "source": [
    "# 3-2. tree 모델 최적화\n",
    "train_score_list = [] # 훈련데이터 점수 리스트\n",
    "val_score_list = [] # 검증 데이터 점수 리스트\n",
    "for d in range(1,31) : # 최대 깊이를 1-30 설정\n",
    "    m = DecisionTreeClassifier(max_depth=d)\n",
    "    m.fit(X_train2, y_train2)\n",
    "    # 훈련데이터 예측 및 평가\n",
    "    pre_train = m.predict(X_train2)\n",
    "    score_train = accuracy_score(y_train2, pre_train)\n",
    "    train_score_list.append(score_train)\n",
    "    # 검증데이터 예측 및 평가\n",
    "    pre_val=m.predict(X_val)\n",
    "    score_val=accuracy_score(y_val, pre_val)\n",
    "    val_score_list.append(score_val)"
   ]
  },
  {
   "cell_type": "code",
   "execution_count": 74,
   "id": "ea57e780",
   "metadata": {},
   "outputs": [
    {
     "data": {
      "image/png": "[encoded data removed]",
      "text/plain": [
       "<Figure size 1080x360 with 1 Axes>"
      ]
     },
     "metadata": {
      "needs_background": "light"
     },
     "output_type": "display_data"
    }
   ],
   "source": [
    "plt.figure(figsize=(15,5)) # 그림크기 설정 (가로,세로)\n",
    "plt.plot(range(1,31),train_score_list, label='train') # 라인1\n",
    "plt.plot(range(1,31),val_score_list, label='validation') # 라인2\n",
    "plt.xticks(range(1,31)) # x축 눈금\n",
    "plt.grid() # 배경 격자무늬\n",
    "plt.legend() # 범례\n",
    "plt.show() # 그림 보여주기"
   ]
  },
  {
   "cell_type": "code",
   "execution_count": 75,
   "id": "f247eea5",
   "metadata": {},
   "outputs": [
    {
     "data": {
      "text/plain": [
       "KNeighborsClassifier(n_neighbors=3)"
      ]
     },
     "execution_count": 75,
     "metadata": {},
     "output_type": "execute_result"
    }
   ],
   "source": [
    "# 3-3. 최종 학습\n",
    "final_knn_model = KNeighborsClassifier(n_neighbors=3)\n",
    "final_knn_model.fit(X_train2,y_train2)"
   ]
  },
  {
   "cell_type": "code",
   "execution_count": 76,
   "id": "6cf9d30b",
   "metadata": {},
   "outputs": [
    {
     "data": {
      "text/plain": [
       "DecisionTreeClassifier(max_depth=4)"
      ]
     },
     "execution_count": 76,
     "metadata": {},
     "output_type": "execute_result"
    }
   ],
   "source": [
    "# 3-3-1 최종학습\n",
    "final_tree_model = DecisionTreeClassifier(max_depth=4)\n",
    "final_tree_model.fit(X_train2,y_train2)"
   ]
  },
  {
   "cell_type": "markdown",
   "id": "4f8d7de2",
   "metadata": {},
   "source": [
    "#### 6. 모델평가"
   ]
  },
  {
   "cell_type": "code",
   "execution_count": 77,
   "id": "80d57997",
   "metadata": {},
   "outputs": [],
   "source": [
    "# kaggle 업로드해서 평가\n",
    "# 28개의 feature를 가진 test데이터를 활용\n",
    "knn_pre = final_knn_model.predict(test)\n",
    "tree_pre = final_tree_model.predict(test)"
   ]
  },
  {
   "cell_type": "code",
   "execution_count": 78,
   "id": "eb39295b",
   "metadata": {},
   "outputs": [],
   "source": [
    "# 정답지 로딩\n",
    "submission = pd.read_csv(\"./data/titanic/gender_submission.csv\")"
   ]
  },
  {
   "cell_type": "code",
   "execution_count": 79,
   "id": "702ded7f",
   "metadata": {
    "scrolled": true
   },
   "outputs": [],
   "source": [
    "# KNN 예측 값 파일로 저장\n",
    "submission['Survived']=knn_pre\n",
    "submission.to_csv(\"./data/titanic/knn_pre1.csv\", index=False)"
   ]
  },
  {
   "cell_type": "code",
   "execution_count": 80,
   "id": "78989173",
   "metadata": {},
   "outputs": [],
   "source": [
    "# DecisionTree 예측 값 파일로 저장\n",
    "submission['Survived']=tree_pre\n",
    "submission.to_csv(\"./data/titanic/tree_pre1.csv\", index=False)"
   ]
  },
  {
   "cell_type": "markdown",
   "id": "d7248516",
   "metadata": {},
   "source": [
    "#####  데이터 스케일링\n",
    "- KNN의 경우 데이터 스케일에 영향을 많이 받는 모델이다.\n",
    "- 특히 Fare가 이상치도 존재하고 다른 특성에 비해 거리 값을 조정하는데 많은 영향을 준다.\n",
    "- Fare를 데이터 스케일링해서 성능개선 여부를 확인해보자."
   ]
  },
  {
   "cell_type": "code",
   "execution_count": 81,
   "id": "80a63d0f",
   "metadata": {},
   "outputs": [],
   "source": [
    "from sklearn.preprocessing import StandardScaler\n",
    "from sklearn.preprocessing import RobustScaler\n",
    "from sklearn.preprocessing import MinMaxScaler\n",
    "from sklearn.preprocessing import Normalizer"
   ]
  },
  {
   "cell_type": "code",
   "execution_count": 82,
   "id": "6ab600e6",
   "metadata": {},
   "outputs": [
    {
     "data": {
      "text/plain": [
       "<AxesSubplot:xlabel='Fare', ylabel='Density'>"
      ]
     },
     "execution_count": 82,
     "metadata": {},
     "output_type": "execute_result"
    },
    {
     "data": {
      "image/png": "[encoded data removed]",
      "text/plain": [
       "<Figure size 432x288 with 1 Axes>"
      ]
     },
     "metadata": {
      "needs_background": "light"
     },
     "output_type": "display_data"
    }
   ],
   "source": [
    "# 원래 요금의 분포(KDE)\n",
    "sns.kdeplot(train['Fare'])"
   ]
  },
  {
   "cell_type": "code",
   "execution_count": 83,
   "id": "7f49f4a6",
   "metadata": {},
   "outputs": [],
   "source": [
    "# 스케일링\n",
    "scaler =RobustScaler() # 스케일러 객체 생성\n",
    "scaler.fit(train[['Fare']]) # 기준값 계산(4분위 수)\n",
    "transformed_fare = scaler.transform(train[['Fare']]) # 변환"
   ]
  },
  {
   "cell_type": "code",
   "execution_count": 84,
   "id": "5140fffc",
   "metadata": {},
   "outputs": [
    {
     "data": {
      "text/plain": [
       "<AxesSubplot:ylabel='Density'>"
      ]
     },
     "execution_count": 84,
     "metadata": {},
     "output_type": "execute_result"
    },
    {
     "data": {
      "image/png": "[encoded data removed]",
      "text/plain": [
       "<Figure size 432x288 with 1 Axes>"
      ]
     },
     "metadata": {
      "needs_background": "light"
     },
     "output_type": "display_data"
    }
   ],
   "source": [
    "# 스케일링된 요금의 분포(KDE)\n",
    "sns.kdeplot(transformed_fare.reshape(-1))"
   ]
  },
  {
   "cell_type": "code",
   "execution_count": 85,
   "id": "bf2ce547",
   "metadata": {},
   "outputs": [],
   "source": [
    "# KNN 재학습\n",
    "X_train['Fare'] = transformed_fare # 스케일링된 데이터로 교체\n",
    "\n",
    "# 훈련셋, 검증셋 분리\n",
    "X_train2, X_val, y_train2, y_val = train_test_split(X_train, y_train, random_state=921, test_size=0.2) \n",
    "\n",
    "# 모델 정의 및 학습\n",
    "final_knn_model2=KNeighborsClassifier(n_neighbors=3)\n",
    "final_knn_model2.fit(X_train2,y_train2)\n",
    "\n",
    "\n",
    "# test 스케일링\n",
    "test['Fare'] = scaler.transform(test[['Fare']])\n",
    "\n",
    "# 스케일링된 test 데이터로 예측\n",
    "knn_pre2 = final_knn_model2.predict(test)"
   ]
  },
  {
   "cell_type": "code",
   "execution_count": 86,
   "id": "63a46ebf",
   "metadata": {},
   "outputs": [],
   "source": [
    "# KNN 예측 값 파일로 저장\n",
    "submission['Survived']=knn_pre2\n",
    "submission.to_csv(\"./data/titanic/knn_pre2.csv\", index=False)"
   ]
  },
  {
   "cell_type": "markdown",
   "id": "a6ebe4be",
   "metadata": {},
   "source": [
    "#### 전처리된 파일 저장(csv)"
   ]
  },
  {
   "cell_type": "code",
   "execution_count": 87,
   "id": "521b6444",
   "metadata": {},
   "outputs": [],
   "source": [
    "X_train.to_csv(\"./data/titanic/preprocessing_X_train.csv\")\n",
    "test.to_csv(\"./data/titanic/preprocessing_test.csv\")\n",
    "y_train.to_csv(\"./data/titanic/y_train.csv\")"
   ]
  },
  {
   "cell_type": "code",
   "execution_count": null,
   "id": "ff2edc0e",
   "metadata": {},
   "outputs": [],
   "source": []
  },
  {
   "cell_type": "code",
   "execution_count": null,
   "id": "a772af67",
   "metadata": {},
   "outputs": [],
   "source": []
  }
 ],
 "metadata": {
  "kernelspec": {
   "display_name": "Python 3 (ipykernel)",
   "language": "python",
   "name": "python3"
  },
  "language_info": {
   "codemirror_mode": {
    "name": "ipython",
    "version": 3
   },
   "file_extension": ".py",
   "mimetype": "text/x-python",
   "name": "python",
   "nbconvert_exporter": "python",
   "pygments_lexer": "ipython3",
   "version": "3.9.12"
  },
  "toc": {
   "base_numbering": 1,
   "nav_menu": {},
   "number_sections": true,
   "sideBar": true,
   "skip_h1_title": false,
   "title_cell": "Table of Contents",
   "title_sidebar": "Contents",
   "toc_cell": false,
   "toc_position": {},
   "toc_section_display": true,
   "toc_window_display": false
  }
 },
 "nbformat": 4,
 "nbformat_minor": 5
}
