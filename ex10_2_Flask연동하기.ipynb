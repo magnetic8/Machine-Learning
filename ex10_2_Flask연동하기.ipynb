{
 "cells": [
  {
   "cell_type": "markdown",
   "id": "695d4b92",
   "metadata": {},
   "source": [
    "#### Flask연동하기"
   ]
  },
  {
   "cell_type": "code",
   "execution_count": 1,
   "id": "6b865c4d",
   "metadata": {},
   "outputs": [
    {
     "name": "stdout",
     "output_type": "stream",
     "text": [
      "Requirement already satisfied: flask in c:\\users\\aischool\\anaconda3\\lib\\site-packages (1.1.2)\n",
      "Requirement already satisfied: Jinja2>=2.10.1 in c:\\users\\aischool\\anaconda3\\lib\\site-packages (from flask) (2.11.3)\n",
      "Requirement already satisfied: click>=5.1 in c:\\users\\aischool\\anaconda3\\lib\\site-packages (from flask) (8.0.4)\n",
      "Requirement already satisfied: itsdangerous>=0.24 in c:\\users\\aischool\\anaconda3\\lib\\site-packages (from flask) (2.0.1)\n",
      "Requirement already satisfied: Werkzeug>=0.15 in c:\\users\\aischool\\anaconda3\\lib\\site-packages (from flask) (2.0.3)\n",
      "Requirement already satisfied: colorama in c:\\users\\aischool\\anaconda3\\lib\\site-packages (from click>=5.1->flask) (0.4.4)\n",
      "Requirement already satisfied: MarkupSafe>=0.23 in c:\\users\\aischool\\anaconda3\\lib\\site-packages (from Jinja2>=2.10.1->flask) (2.0.1)\n"
     ]
    }
   ],
   "source": [
    "# 분석용 서버 구축을 위한 flask 설치\n",
    "!pip install flask"
   ]
  },
  {
   "cell_type": "code",
   "execution_count": 2,
   "id": "c50be458",
   "metadata": {},
   "outputs": [
    {
     "name": "stdout",
     "output_type": "stream",
     "text": [
      "Requirement already satisfied: opencv-python in c:\\users\\aischool\\anaconda3\\lib\\site-packages (4.6.0.66)\n",
      "Requirement already satisfied: numpy>=1.19.3 in c:\\users\\aischool\\anaconda3\\lib\\site-packages (from opencv-python) (1.21.5)\n"
     ]
    }
   ],
   "source": [
    "# 영상처리 분야에서 많이 쓰이는 라이브러리\n",
    "!pip install opencv-python"
   ]
  },
  {
   "cell_type": "code",
   "execution_count": 3,
   "id": "f1bf04e8",
   "metadata": {},
   "outputs": [],
   "source": [
    "from flask import Flask, request, Response, redirect\n",
    "import io # 파이썬의 입출력을 도와주는 라이브러리\n",
    "import numpy as np\n",
    "import matplotlib.pyplot as plt\n",
    "import cv2 # opencv\n",
    "import pickle # 모델로딩용"
   ]
  },
  {
   "cell_type": "code",
   "execution_count": 4,
   "id": "d22b2c6f",
   "metadata": {},
   "outputs": [
    {
     "name": "stdout",
     "output_type": "stream",
     "text": [
      " * Serving Flask app \"__main__\" (lazy loading)\n",
      " * Environment: production\n",
      "\u001b[31m   WARNING: This is a development server. Do not use it in a production deployment.\u001b[0m\n",
      "\u001b[2m   Use a production WSGI server instead.\u001b[0m\n",
      " * Debug mode: off\n"
     ]
    },
    {
     "name": "stderr",
     "output_type": "stream",
     "text": [
      " * Running on http://192.168.21.104:5001/ (Press CTRL+C to quit)\n"
     ]
    }
   ],
   "source": [
    "# 서버생성\n",
    "app = Flask(__name__)\n",
    "\n",
    "# 사용자의 요청에따라 처리하는 라우터\n",
    "@app.route('/', methods=['GET','POST'])\n",
    "def index() :\n",
    "    # GET방식 처리 코드\n",
    "    if request.method == 'GET' :\n",
    "        print(request.args)       \n",
    "        return 'Hello {}'.format(request.args['name'])\n",
    "    else : # POST방식 처리 코드\n",
    "        return 'Hello'\n",
    "\n",
    "@app.route('/bye/<name>', methods=['GET','POST'])\n",
    "def bye(name) :\n",
    "    return 'bye bye {}'.format(name)\n",
    "\n",
    "\n",
    "app.run(host='192.168.21.104',port=5001) # 서버구동"
   ]
  },
  {
   "cell_type": "markdown",
   "id": "5eae83b7",
   "metadata": {},
   "source": [
    "#### 손글씨 예측 서버 구축"
   ]
  },
  {
   "cell_type": "code",
   "execution_count": 12,
   "id": "95f0b280",
   "metadata": {},
   "outputs": [
    {
     "name": "stdout",
     "output_type": "stream",
     "text": [
      " * Serving Flask app \"__main__\" (lazy loading)\n",
      " * Environment: production\n",
      "\u001b[31m   WARNING: This is a development server. Do not use it in a production deployment.\u001b[0m\n",
      "\u001b[2m   Use a production WSGI server instead.\u001b[0m\n",
      " * Debug mode: off\n"
     ]
    },
    {
     "name": "stderr",
     "output_type": "stream",
     "text": [
      " * Running on http://192.168.21.104:5001/ (Press CTRL+C to quit)\n",
      "C:\\Users\\aischool\\AppData\\Local\\Temp\\ipykernel_66604\\2595600901.py:15: DeprecationWarning: The binary mode of fromstring is deprecated, as it behaves surprisingly on unicode inputs. Use frombuffer instead\n",
      "  data = np.fromstring(input_stream.getvalue(),\n",
      "C:\\Users\\aischool\\anaconda3\\lib\\site-packages\\sklearn\\base.py:450: UserWarning: X does not have valid feature names, but LogisticRegression was fitted with feature names\n",
      "  warnings.warn(\n",
      "192.168.21.104 - - [06/Oct/2022 10:35:42] \"POST /predict HTTP/1.1\" 302 -\n"
     ]
    },
    {
     "name": "stdout",
     "output_type": "stream",
     "text": [
      "ImmutableMultiDict([('img', <FileStorage: '7.png' ('image/png')>)])\n"
     ]
    },
    {
     "name": "stderr",
     "output_type": "stream",
     "text": [
      "C:\\Users\\aischool\\AppData\\Local\\Temp\\ipykernel_66604\\2595600901.py:15: DeprecationWarning: The binary mode of fromstring is deprecated, as it behaves surprisingly on unicode inputs. Use frombuffer instead\n",
      "  data = np.fromstring(input_stream.getvalue(),\n",
      "C:\\Users\\aischool\\anaconda3\\lib\\site-packages\\sklearn\\base.py:450: UserWarning: X does not have valid feature names, but LogisticRegression was fitted with feature names\n",
      "  warnings.warn(\n",
      "192.168.21.104 - - [06/Oct/2022 10:35:56] \"POST /predict HTTP/1.1\" 302 -\n"
     ]
    },
    {
     "name": "stdout",
     "output_type": "stream",
     "text": [
      "ImmutableMultiDict([('img', <FileStorage: '2.png' ('image/png')>)])\n"
     ]
    }
   ],
   "source": [
    "# 학습된 모델 객체 로딩\n",
    "with open('./digit_model.pkl', 'rb') as f:\n",
    "    model = pickle.load(f)\n",
    "# 분석용 서버 객체 생성\n",
    "app = Flask(__name__)\n",
    "\n",
    "@app.route(\"/predict\", methods=['POST'])\n",
    "def predict():\n",
    "    # 사진을 받아서 전처리\n",
    "    if request.method == 'POST':\n",
    "        print(request.files)\n",
    "        img = request.files['img']\n",
    "        input_stream = io.BytesIO() # byte 단위로 읽어들이는 통로\n",
    "        img.save(input_stream) # 파일로부터 데이터를 읽기\n",
    "        data = np.fromstring(input_stream.getvalue(),\n",
    "                            dtype = np.uint8)\n",
    "        # byte 단위의 numpy 데이터를 opencv를 이용해 이미지로 변환\n",
    "        real_img = cv2.imdecode(data,cv2.IMREAD_GRAYSCALE)\n",
    "        # BGR -> RGB\n",
    "        #real_img_rbg = cv2.cvtColor(real_img, cv2.COLOR_BGR2RGB)\n",
    "        #display(real_img_rbg)\n",
    "        #plt.imshow(real_img_rbg)\n",
    "        #plt.show()\n",
    "        \n",
    "        # 모델 예측\n",
    "        resize_img = cv2.resize(real_img, dsize=(28,28),\n",
    "                               interpolation=cv2.INTER_AREA)\n",
    "        \n",
    "        # 만약에 학습데이터가 스케일링이 되었으면 \n",
    "        # 예측 데이터도 스케일링 작업을 해줘야 함.\n",
    "        \n",
    "        # 모델이 예측하기 위한 numpy 타입으로 변경\n",
    "        test =np.array(resize_img).reshape(1,784)\n",
    "        \n",
    "        # 모델 예측\n",
    "        pre = model.predict(test)\n",
    "  \n",
    "    return  redirect(\"http://localhost:8081/HandDiditService/result.jsp?pre=\"+str(pre[0]))  \n",
    "\n",
    "# 서버 실행\n",
    "app.run(host='192.168.21.104',port=5001)"
   ]
  },
  {
   "cell_type": "code",
   "execution_count": null,
   "id": "92c67bbe",
   "metadata": {},
   "outputs": [],
   "source": []
  },
  {
   "cell_type": "code",
   "execution_count": null,
   "id": "3cad1db8",
   "metadata": {},
   "outputs": [],
   "source": []
  },
  {
   "cell_type": "code",
   "execution_count": null,
   "id": "d1f743d8",
   "metadata": {},
   "outputs": [],
   "source": []
  },
  {
   "cell_type": "code",
   "execution_count": null,
   "id": "a0a1a7d2",
   "metadata": {},
   "outputs": [],
   "source": []
  }
 ],
 "metadata": {
  "kernelspec": {
   "display_name": "Python 3 (ipykernel)",
   "language": "python",
   "name": "python3"
  },
  "language_info": {
   "codemirror_mode": {
    "name": "ipython",
    "version": 3
   },
   "file_extension": ".py",
   "mimetype": "text/x-python",
   "name": "python",
   "nbconvert_exporter": "python",
   "pygments_lexer": "ipython3",
   "version": "3.9.12"
  },
  "toc": {
   "base_numbering": 1,
   "nav_menu": {},
   "number_sections": true,
   "sideBar": true,
   "skip_h1_title": false,
   "title_cell": "Table of Contents",
   "title_sidebar": "Contents",
   "toc_cell": false,
   "toc_position": {},
   "toc_section_display": true,
   "toc_window_display": false
  }
 },
 "nbformat": 4,
 "nbformat_minor": 5
}
